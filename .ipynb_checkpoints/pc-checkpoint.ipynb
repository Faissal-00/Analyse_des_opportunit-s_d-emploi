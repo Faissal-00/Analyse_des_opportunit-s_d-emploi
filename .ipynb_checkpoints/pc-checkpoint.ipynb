{
 "cells": [
  {
   "cell_type": "markdown",
   "id": "ba04f7f2",
   "metadata": {},
   "source": [
    "# Exploration"
   ]
  },
  {
   "cell_type": "markdown",
   "id": "d0b76042",
   "metadata": {},
   "source": [
    "# Cleaning"
   ]
  },
  {
   "cell_type": "code",
   "execution_count": 1,
   "id": "d3cef48c",
   "metadata": {},
   "outputs": [],
   "source": [
    "# Importation of libraries \n",
    "import pandas as pd\n",
    "import numpy as np"
   ]
  },
  {
   "cell_type": "code",
   "execution_count": 2,
   "id": "8853ec46",
   "metadata": {
    "scrolled": true
   },
   "outputs": [
    {
     "data": {
      "text/html": [
       "<div>\n",
       "<style scoped>\n",
       "    .dataframe tbody tr th:only-of-type {\n",
       "        vertical-align: middle;\n",
       "    }\n",
       "\n",
       "    .dataframe tbody tr th {\n",
       "        vertical-align: top;\n",
       "    }\n",
       "\n",
       "    .dataframe thead th {\n",
       "        text-align: right;\n",
       "    }\n",
       "</style>\n",
       "<table border=\"1\" class=\"dataframe\">\n",
       "  <thead>\n",
       "    <tr style=\"text-align: right;\">\n",
       "      <th></th>\n",
       "      <th>Company</th>\n",
       "      <th>Job Title</th>\n",
       "      <th>Location</th>\n",
       "      <th>Job Type</th>\n",
       "      <th>Experience level</th>\n",
       "      <th>Salary</th>\n",
       "      <th>Requirment of the company</th>\n",
       "      <th>Facilities</th>\n",
       "    </tr>\n",
       "  </thead>\n",
       "  <tbody>\n",
       "    <tr>\n",
       "      <th>0</th>\n",
       "      <td>SGS</td>\n",
       "      <td>Clinical Data Analyst</td>\n",
       "      <td>Richardson, TX, United States</td>\n",
       "      <td>Full Time</td>\n",
       "      <td>Entry-level</td>\n",
       "      <td>48K+ *</td>\n",
       "      <td>Computer Science,Data quality,Genetics,Mathema...</td>\n",
       "      <td>,,,,</td>\n",
       "    </tr>\n",
       "    <tr>\n",
       "      <th>1</th>\n",
       "      <td>Ocorian</td>\n",
       "      <td>AML/CFT &amp; Data Analyst</td>\n",
       "      <td>Ebène, Mauritius</td>\n",
       "      <td>Full Time</td>\n",
       "      <td>Entry-level</td>\n",
       "      <td>48K+ *</td>\n",
       "      <td>Agile,Data management,Finance,Security,,</td>\n",
       "      <td>,,,,</td>\n",
       "    </tr>\n",
       "    <tr>\n",
       "      <th>2</th>\n",
       "      <td>Cricut</td>\n",
       "      <td>Machine Learning Engineer</td>\n",
       "      <td>South Jordan, UT, United States</td>\n",
       "      <td>Full Time</td>\n",
       "      <td>NaN</td>\n",
       "      <td>90K+ *</td>\n",
       "      <td>Agile,Architecture,AWS,Computer Science,Comput...</td>\n",
       "      <td>Career development,,,,</td>\n",
       "    </tr>\n",
       "    <tr>\n",
       "      <th>3</th>\n",
       "      <td>Bosch Group</td>\n",
       "      <td>Application Developer &amp; Data Analyst</td>\n",
       "      <td>Nonantola, Italy</td>\n",
       "      <td>Full Time</td>\n",
       "      <td>Entry-level</td>\n",
       "      <td>48K+ *</td>\n",
       "      <td>Engineering,Industrial,Oracle,Power BI,R,R&amp;D</td>\n",
       "      <td>,,,,</td>\n",
       "    </tr>\n",
       "    <tr>\n",
       "      <th>4</th>\n",
       "      <td>Publicis Groupe</td>\n",
       "      <td>Data Engineer Full time (Public Sector) USA</td>\n",
       "      <td>Arlington, VA, United States</td>\n",
       "      <td>Full Time</td>\n",
       "      <td>Mid-level</td>\n",
       "      <td>108K+</td>\n",
       "      <td>AWS,Azure,Computer Science,Consulting,Dataflow...</td>\n",
       "      <td>Flex hours,Flex vacation,Parental leave,Unlimi...</td>\n",
       "    </tr>\n",
       "  </tbody>\n",
       "</table>\n",
       "</div>"
      ],
      "text/plain": [
       "           Company                                    Job Title   \n",
       "0              SGS                        Clinical Data Analyst  \\\n",
       "1          Ocorian                       AML/CFT & Data Analyst   \n",
       "2           Cricut                    Machine Learning Engineer   \n",
       "3      Bosch Group         Application Developer & Data Analyst   \n",
       "4  Publicis Groupe  Data Engineer Full time (Public Sector) USA   \n",
       "\n",
       "                          Location   Job Type Experience level   Salary   \n",
       "0    Richardson, TX, United States  Full Time      Entry-level   48K+ *  \\\n",
       "1                 Ebène, Mauritius  Full Time      Entry-level   48K+ *   \n",
       "2  South Jordan, UT, United States  Full Time              NaN   90K+ *   \n",
       "3                 Nonantola, Italy  Full Time      Entry-level   48K+ *   \n",
       "4     Arlington, VA, United States  Full Time        Mid-level    108K+   \n",
       "\n",
       "                          Requirment of the company    \n",
       "0  Computer Science,Data quality,Genetics,Mathema...  \\\n",
       "1           Agile,Data management,Finance,Security,,   \n",
       "2  Agile,Architecture,AWS,Computer Science,Comput...   \n",
       "3       Engineering,Industrial,Oracle,Power BI,R,R&D   \n",
       "4  AWS,Azure,Computer Science,Consulting,Dataflow...   \n",
       "\n",
       "                                          Facilities  \n",
       "0                                               ,,,,  \n",
       "1                                               ,,,,  \n",
       "2                             Career development,,,,  \n",
       "3                                               ,,,,  \n",
       "4  Flex hours,Flex vacation,Parental leave,Unlimi...  "
      ]
     },
     "execution_count": 2,
     "metadata": {},
     "output_type": "execute_result"
    }
   ],
   "source": [
    "# Read the file\n",
    "df=pd.read_csv('jobs.csv', encoding='latin-1')\n",
    "df.head()"
   ]
  },
  {
   "cell_type": "code",
   "execution_count": 3,
   "id": "4a9d9ede",
   "metadata": {},
   "outputs": [
    {
     "name": "stdout",
     "output_type": "stream",
     "text": [
      "(3198, 8)\n"
     ]
    }
   ],
   "source": [
    "# Size\n",
    "print(df.shape)"
   ]
  },
  {
   "cell_type": "code",
   "execution_count": 4,
   "id": "886ef156",
   "metadata": {
    "scrolled": false
   },
   "outputs": [
    {
     "name": "stdout",
     "output_type": "stream",
     "text": [
      "<class 'pandas.core.frame.DataFrame'>\n",
      "RangeIndex: 3198 entries, 0 to 3197\n",
      "Data columns (total 8 columns):\n",
      " #   Column                      Non-Null Count  Dtype \n",
      "---  ------                      --------------  ----- \n",
      " 0   Company                     3197 non-null   object\n",
      " 1   Job Title                   3197 non-null   object\n",
      " 2   Location                    3197 non-null   object\n",
      " 3   Job Type                    3197 non-null   object\n",
      " 4   Experience level            2962 non-null   object\n",
      " 5   Salary                      3009 non-null   object\n",
      " 6   Requirment of the company   3198 non-null   object\n",
      " 7   Facilities                  3198 non-null   object\n",
      "dtypes: object(8)\n",
      "memory usage: 200.0+ KB\n"
     ]
    }
   ],
   "source": [
    "df.info()"
   ]
  },
  {
   "cell_type": "code",
   "execution_count": 5,
   "id": "e4abaca8",
   "metadata": {},
   "outputs": [
    {
     "data": {
      "text/html": [
       "<div>\n",
       "<style scoped>\n",
       "    .dataframe tbody tr th:only-of-type {\n",
       "        vertical-align: middle;\n",
       "    }\n",
       "\n",
       "    .dataframe tbody tr th {\n",
       "        vertical-align: top;\n",
       "    }\n",
       "\n",
       "    .dataframe thead th {\n",
       "        text-align: right;\n",
       "    }\n",
       "</style>\n",
       "<table border=\"1\" class=\"dataframe\">\n",
       "  <thead>\n",
       "    <tr style=\"text-align: right;\">\n",
       "      <th></th>\n",
       "      <th>Company</th>\n",
       "      <th>Job Title</th>\n",
       "      <th>Location</th>\n",
       "      <th>Job Type</th>\n",
       "      <th>Experience level</th>\n",
       "      <th>Salary</th>\n",
       "      <th>Requirment of the company</th>\n",
       "      <th>Facilities</th>\n",
       "    </tr>\n",
       "  </thead>\n",
       "  <tbody>\n",
       "    <tr>\n",
       "      <th>797</th>\n",
       "      <td>NaN</td>\n",
       "      <td>NaN</td>\n",
       "      <td>NaN</td>\n",
       "      <td>NaN</td>\n",
       "      <td>NaN</td>\n",
       "      <td>NaN</td>\n",
       "      <td>,,,,,</td>\n",
       "      <td>,,,,</td>\n",
       "    </tr>\n",
       "  </tbody>\n",
       "</table>\n",
       "</div>"
      ],
      "text/plain": [
       "    Company Job Title Location Job Type Experience level Salary   \n",
       "797     NaN       NaN      NaN      NaN              NaN    NaN  \\\n",
       "\n",
       "    Requirment of the company  Facilities  \n",
       "797                      ,,,,,       ,,,,  "
      ]
     },
     "execution_count": 5,
     "metadata": {},
     "output_type": "execute_result"
    }
   ],
   "source": [
    "df.loc[df['Location'].isnull()]"
   ]
  },
  {
   "cell_type": "code",
   "execution_count": 6,
   "id": "78d42337",
   "metadata": {},
   "outputs": [],
   "source": [
    "# Assuming 'Location' column contains NaN values\n",
    "df.dropna(subset=['Location'], inplace=True)"
   ]
  },
  {
   "cell_type": "markdown",
   "id": "c855b9c7",
   "metadata": {},
   "source": [
    "### Columns Conversion"
   ]
  },
  {
   "cell_type": "code",
   "execution_count": 7,
   "id": "cd842a21",
   "metadata": {},
   "outputs": [
    {
     "name": "stdout",
     "output_type": "stream",
     "text": [
      "Company                       object\n",
      "Job Title                     object\n",
      "Location                      object\n",
      "Job Type                      object\n",
      "Experience level              object\n",
      "Salary                        object\n",
      "Requirment of the company     object\n",
      "Facilities                    object\n",
      "dtype: object\n"
     ]
    }
   ],
   "source": [
    "print(df.dtypes)"
   ]
  },
  {
   "cell_type": "code",
   "execution_count": 8,
   "id": "a1b762b8",
   "metadata": {},
   "outputs": [],
   "source": [
    "# Convert columns\n",
    "df['Company'] = df['Company'].astype('category')\n",
    "df['Job Title'] = df['Job Title'].astype('category')\n",
    "df['Job Type'] = df['Job Type'].astype('category')\n",
    "df['Experience level'] = df['Experience level'].astype('category')"
   ]
  },
  {
   "cell_type": "markdown",
   "id": "a1418ef1",
   "metadata": {},
   "source": [
    "### Duplicate values"
   ]
  },
  {
   "cell_type": "code",
   "execution_count": 9,
   "id": "fdab70a1",
   "metadata": {},
   "outputs": [
    {
     "name": "stdout",
     "output_type": "stream",
     "text": [
      "Number of duplicates: 202\n"
     ]
    }
   ],
   "source": [
    "# Count duplicates\n",
    "duplicate_count = df.duplicated().sum()\n",
    "print(f\"Number of duplicates: {duplicate_count}\")"
   ]
  },
  {
   "cell_type": "code",
   "execution_count": 10,
   "id": "51eb437d",
   "metadata": {},
   "outputs": [],
   "source": [
    "df=df.drop_duplicates()"
   ]
  },
  {
   "cell_type": "code",
   "execution_count": 11,
   "id": "90217eb5",
   "metadata": {},
   "outputs": [
    {
     "name": "stdout",
     "output_type": "stream",
     "text": [
      "Index(['Company', 'Job Title', 'Location', 'Job Type', 'Experience level',\n",
      "       'Salary', 'Requirment of the company ', 'Facilities'],\n",
      "      dtype='object')\n"
     ]
    }
   ],
   "source": [
    "print(df.columns)"
   ]
  },
  {
   "cell_type": "code",
   "execution_count": 12,
   "id": "9bd6c06b",
   "metadata": {},
   "outputs": [],
   "source": [
    "# Remove spaces from the end of column names\n",
    "df.columns = df.columns.str.rstrip()"
   ]
  },
  {
   "cell_type": "code",
   "execution_count": 13,
   "id": "28ddb82a",
   "metadata": {
    "scrolled": true
   },
   "outputs": [
    {
     "data": {
      "text/html": [
       "<div>\n",
       "<style scoped>\n",
       "    .dataframe tbody tr th:only-of-type {\n",
       "        vertical-align: middle;\n",
       "    }\n",
       "\n",
       "    .dataframe tbody tr th {\n",
       "        vertical-align: top;\n",
       "    }\n",
       "\n",
       "    .dataframe thead th {\n",
       "        text-align: right;\n",
       "    }\n",
       "</style>\n",
       "<table border=\"1\" class=\"dataframe\">\n",
       "  <thead>\n",
       "    <tr style=\"text-align: right;\">\n",
       "      <th></th>\n",
       "      <th>Company</th>\n",
       "      <th>Job Title</th>\n",
       "      <th>Location</th>\n",
       "      <th>Job Type</th>\n",
       "      <th>Experience level</th>\n",
       "      <th>Salary</th>\n",
       "      <th>Requirment of the company</th>\n",
       "      <th>Facilities</th>\n",
       "    </tr>\n",
       "  </thead>\n",
       "  <tbody>\n",
       "    <tr>\n",
       "      <th>0</th>\n",
       "      <td>SGS</td>\n",
       "      <td>Clinical Data Analyst</td>\n",
       "      <td>Richardson, TX, United States</td>\n",
       "      <td>Full Time</td>\n",
       "      <td>Entry-level</td>\n",
       "      <td>48K+ *</td>\n",
       "      <td>Computer Science,Data quality,Genetics,Mathema...</td>\n",
       "      <td>,,,,</td>\n",
       "    </tr>\n",
       "    <tr>\n",
       "      <th>1</th>\n",
       "      <td>Ocorian</td>\n",
       "      <td>AML/CFT &amp; Data Analyst</td>\n",
       "      <td>Ebène, Mauritius</td>\n",
       "      <td>Full Time</td>\n",
       "      <td>Entry-level</td>\n",
       "      <td>48K+ *</td>\n",
       "      <td>Agile,Data management,Finance,Security,,</td>\n",
       "      <td>,,,,</td>\n",
       "    </tr>\n",
       "    <tr>\n",
       "      <th>2</th>\n",
       "      <td>Cricut</td>\n",
       "      <td>Machine Learning Engineer</td>\n",
       "      <td>South Jordan, UT, United States</td>\n",
       "      <td>Full Time</td>\n",
       "      <td>NaN</td>\n",
       "      <td>90K+ *</td>\n",
       "      <td>Agile,Architecture,AWS,Computer Science,Comput...</td>\n",
       "      <td>Career development,,,,</td>\n",
       "    </tr>\n",
       "    <tr>\n",
       "      <th>3</th>\n",
       "      <td>Bosch Group</td>\n",
       "      <td>Application Developer &amp; Data Analyst</td>\n",
       "      <td>Nonantola, Italy</td>\n",
       "      <td>Full Time</td>\n",
       "      <td>Entry-level</td>\n",
       "      <td>48K+ *</td>\n",
       "      <td>Engineering,Industrial,Oracle,Power BI,R,R&amp;D</td>\n",
       "      <td>,,,,</td>\n",
       "    </tr>\n",
       "    <tr>\n",
       "      <th>4</th>\n",
       "      <td>Publicis Groupe</td>\n",
       "      <td>Data Engineer Full time (Public Sector) USA</td>\n",
       "      <td>Arlington, VA, United States</td>\n",
       "      <td>Full Time</td>\n",
       "      <td>Mid-level</td>\n",
       "      <td>108K+</td>\n",
       "      <td>AWS,Azure,Computer Science,Consulting,Dataflow...</td>\n",
       "      <td>Flex hours,Flex vacation,Parental leave,Unlimi...</td>\n",
       "    </tr>\n",
       "  </tbody>\n",
       "</table>\n",
       "</div>"
      ],
      "text/plain": [
       "           Company                                    Job Title   \n",
       "0              SGS                        Clinical Data Analyst  \\\n",
       "1          Ocorian                       AML/CFT & Data Analyst   \n",
       "2           Cricut                    Machine Learning Engineer   \n",
       "3      Bosch Group         Application Developer & Data Analyst   \n",
       "4  Publicis Groupe  Data Engineer Full time (Public Sector) USA   \n",
       "\n",
       "                          Location   Job Type Experience level   Salary   \n",
       "0    Richardson, TX, United States  Full Time      Entry-level   48K+ *  \\\n",
       "1                 Ebène, Mauritius  Full Time      Entry-level   48K+ *   \n",
       "2  South Jordan, UT, United States  Full Time              NaN   90K+ *   \n",
       "3                 Nonantola, Italy  Full Time      Entry-level   48K+ *   \n",
       "4     Arlington, VA, United States  Full Time        Mid-level    108K+   \n",
       "\n",
       "                           Requirment of the company   \n",
       "0  Computer Science,Data quality,Genetics,Mathema...  \\\n",
       "1           Agile,Data management,Finance,Security,,   \n",
       "2  Agile,Architecture,AWS,Computer Science,Comput...   \n",
       "3       Engineering,Industrial,Oracle,Power BI,R,R&D   \n",
       "4  AWS,Azure,Computer Science,Consulting,Dataflow...   \n",
       "\n",
       "                                          Facilities  \n",
       "0                                               ,,,,  \n",
       "1                                               ,,,,  \n",
       "2                             Career development,,,,  \n",
       "3                                               ,,,,  \n",
       "4  Flex hours,Flex vacation,Parental leave,Unlimi...  "
      ]
     },
     "execution_count": 13,
     "metadata": {},
     "output_type": "execute_result"
    }
   ],
   "source": [
    "df.head()"
   ]
  },
  {
   "cell_type": "code",
   "execution_count": 14,
   "id": "c1f40c40",
   "metadata": {},
   "outputs": [
    {
     "name": "stdout",
     "output_type": "stream",
     "text": [
      "Number of missing values:\n",
      "Company                        0\n",
      "Job Title                      0\n",
      "Location                       0\n",
      "Job Type                       0\n",
      "Experience level             227\n",
      "Salary                       171\n",
      "Requirment of the company      0\n",
      "Facilities                     0\n"
     ]
    }
   ],
   "source": [
    "# Count missing values\n",
    "missing_count = df.isnull().sum()\n",
    "print(\"Number of missing values:\")\n",
    "print(df.isnull().sum().to_string())"
   ]
  },
  {
   "cell_type": "markdown",
   "id": "b0471ea7",
   "metadata": {},
   "source": [
    "### Salary Problem"
   ]
  },
  {
   "cell_type": "code",
   "execution_count": 15,
   "id": "336bbfee",
   "metadata": {},
   "outputs": [
    {
     "data": {
      "text/plain": [
       "array([' 48K+ *', ' 90K+ *', ' 108K+', ' 184K+', ' 39K+ *', nan, ' 140K+',\n",
       "       ' 40K+ *', ' 80K+ *', ' 35K+ *', ' 62K+ *', ' 159K+', ' 97K+',\n",
       "       ' 92K+ *', ' 129K+ *', ' 115K+ *', ' 44K+ *', ' 73K+ *', ' 59K+ *',\n",
       "       ' 106K+', ' 105K+ *', ' 55K+ *', ' 110K+ *', ' 63K+ *', ' 49K+ *',\n",
       "       ' 180K+', ' 127K+', ' 60K+', ' 45K+ *', ' 135K+', ' 69K+ *',\n",
       "       ' 176K+', ' 65K+ *', ' 51K+ *', ' 67K+', ' 104K+', ' 105K+',\n",
       "       ' 166K+', ' 131K+ *', ' 115K+', ' 43K+', ' 81K+ *', ' 96K+ *',\n",
       "       ' 56K+ *', ' 130K+', ' 131K+', ' 50K+ *', ' 100K+', ' 60K+ *',\n",
       "       ' 52K+', ' 135K+ *', ' 76K+', ' 172K+', ' 119K+', ' 125K+',\n",
       "       ' 116K+', ' 77K+ *', ' 74K+ *', ' 70K+ *', ' 120K+', ' 189K+',\n",
       "       ' 149K+', ' 110K+', ' 90K+', ' 30K+ *', ' 167K+', ' 236K+',\n",
       "       ' 179K+', ' 80K+', ' 200K+', ' 139K+', ' 129K+', ' 113K+',\n",
       "       ' 150K+', ' 158K+', ' 40K+', ' 184K+ *', ' 133K+', ' 78K+',\n",
       "       ' 36K+ *', ' 122K+ *', ' 81K+', ' 59K+', 'EUR 81K', ' 190K+',\n",
       "       ' 72K+', ' 136K+', ' 102K+ *', ' 31K+ *', ' 89K+ *', ' 156K+',\n",
       "       ' 107K+', ' 199K+', ' 224K+', ' 142K+', 'GBP 35K', ' 183K+',\n",
       "       ' 164K+', 'EUR 130K+', ' 174K+', ' 84K+', ' 79K+', ' 103K+ *',\n",
       "       ' 143K+', ' 175K+', ' 170K+', ' 141K+ *', ' 283K+', ' 151K+',\n",
       "       ' 111K+', ' 51K+', ' 96K+', ' 148K+', ' 204K+', ' 202K+', ' 295K+',\n",
       "       ' 68K+', ' 195K+', ' 145K+', ' 50K+', ' 267K+', ' 200K+ *',\n",
       "       ' 109K+ *', ' 310K+', ' 153K+', ' 154K+', ' 86K+', ' 70K+',\n",
       "       ' 207K+', ' 85K+', ' 66K+', ' 315K+', ' 160K+', ' 66K+ *',\n",
       "       ' 144K+', ' 245K+', ' 126K+', ' 63K+', ' 182K+', ' 157K+',\n",
       "       ' 214K+', ' 173K+', 'EUR 80K+', ' 120K+ *', 'EUR 36K+', 'EUR 60K+',\n",
       "       'GBP 42K+', ' 112K+', ' 124K+', ' 185K+', ' 147K+', ' 122K+',\n",
       "       'GBP 80K+', ' 144K+ *', ' 146K+', ' 165K+', ' 75K+', ' 163K+',\n",
       "       ' 193K+', ' 109K+', 'GBP 60K+', ' 218K+', ' 230K+', ' 168K+',\n",
       "       ' 134K+', ' 225K+', ' 253K+', ' 83K+', ' 235K+', ' 187K+',\n",
       "       ' 227K+', ' 73K+', ' 61K+ *', ' 171K+', ' 234K+', 'GBP 45K+',\n",
       "       ' 155K+', ' 71K+', ' 94K+', ' 57K+ *', ' 197K+', ' 102K+', ' 82K+',\n",
       "       ' 177K+', 'GBP 50K+', ' 93K+', ' 55K+', ' 121K+', ' 42K+ *',\n",
       "       ' 45K+', ' 75K+ *', ' 152K+', ' 161K+', ' 155K+ *', ' 132K+',\n",
       "       'GBP 55K+', ' 138K+', ' 196K+', ' 205K+', 'GBP 65K+', ' 178K+',\n",
       "       ' 95K+', ' 33K+ *', ' 54K+ *', ' 98K+', ' 141K+', ' 95K+ *',\n",
       "       ' 65K+', 'GBP 55K', ' 99K+', ' 220K+', ' 74K+', ' 103K+',\n",
       "       ' 100K+ *', 'GBP 51K+', ' 128K+', 'GBP 54K+', ' 123K+', ' 117K+'],\n",
       "      dtype=object)"
      ]
     },
     "execution_count": 15,
     "metadata": {},
     "output_type": "execute_result"
    }
   ],
   "source": [
    "dc=df['Salary'].unique()\n",
    "dc"
   ]
  },
  {
   "cell_type": "code",
   "execution_count": 16,
   "id": "ed031cd7",
   "metadata": {},
   "outputs": [
    {
     "data": {
      "text/plain": [
       "'EUR 80K+'"
      ]
     },
     "execution_count": 16,
     "metadata": {},
     "output_type": "execute_result"
    }
   ],
   "source": [
    "eur = df.loc[1057]['Salary']\n",
    "eur"
   ]
  },
  {
   "cell_type": "code",
   "execution_count": 17,
   "id": "947a1bea",
   "metadata": {},
   "outputs": [
    {
     "data": {
      "text/plain": [
       "'GBP 50K+'"
      ]
     },
     "execution_count": 17,
     "metadata": {},
     "output_type": "execute_result"
    }
   ],
   "source": [
    "gbp=df.loc[2177]['Salary']\n",
    "gbp"
   ]
  },
  {
   "cell_type": "code",
   "execution_count": 18,
   "id": "4d1bbb85",
   "metadata": {},
   "outputs": [],
   "source": [
    "# Add the 'Star' column after the 'Salary' column\n",
    "df.insert(df.columns.get_loc('Salary') + 1, 'Salary_Star', df['Salary'].str.contains(r'\\*'))\n",
    "# Convert the 'Salary_Star' column to boolean\n",
    "df['Salary_Star'] = df['Salary_Star'].astype(bool)"
   ]
  },
  {
   "cell_type": "code",
   "execution_count": 19,
   "id": "d38a29a5",
   "metadata": {},
   "outputs": [],
   "source": [
    "import re\n",
    "import numpy as np\n",
    "\n",
    "def convert_salary_to_usd(salary):\n",
    "    # Handle NaN values\n",
    "    if isinstance(salary, float) and np.isnan(salary):\n",
    "        return np.nan\n",
    "\n",
    "    # Regular expression to extract numeric values with 'K' suffix\n",
    "    match = re.search(r'(\\d+)K', salary)\n",
    "    if match:\n",
    "        number_with_k = int(match.group(1))\n",
    "        salary_in_usd = number_with_k * 1000\n",
    "    else:\n",
    "        return None\n",
    "\n",
    "    # Currency code to USD exchange rate mapping\n",
    "    exchange_rates = {\n",
    "        'EUR': 1.10,    \n",
    "        'GBP': 1.28,    \n",
    "    }\n",
    "\n",
    "    # Extract currency code if present\n",
    "    match_currency = re.search(r'([A-Z]{3})', salary)\n",
    "    if match_currency:\n",
    "        currency_code = match_currency.group(1)\n",
    "        if currency_code in exchange_rates:\n",
    "            salary_in_usd *= exchange_rates[currency_code]\n",
    "        else:\n",
    "            return None\n",
    "\n",
    "    return salary_in_usd\n",
    "\n",
    "# Convert 'Salary' column to string type\n",
    "df['Salary'] = df['Salary'].astype(str)\n",
    "\n",
    "# Replace 'Salary' column with the converted values and rename it to 'MNM_Salary_USD'\n",
    "df['Salary'] = df['Salary'].apply(convert_salary_to_usd)\n",
    "\n",
    "# Rename the column to 'MNM_Salary_USD'\n",
    "df = df.rename(columns={'Salary': 'MNM_Salary_USD'})"
   ]
  },
  {
   "cell_type": "code",
   "execution_count": 20,
   "id": "aeb21e87",
   "metadata": {},
   "outputs": [
    {
     "data": {
      "text/html": [
       "<div>\n",
       "<style scoped>\n",
       "    .dataframe tbody tr th:only-of-type {\n",
       "        vertical-align: middle;\n",
       "    }\n",
       "\n",
       "    .dataframe tbody tr th {\n",
       "        vertical-align: top;\n",
       "    }\n",
       "\n",
       "    .dataframe thead th {\n",
       "        text-align: right;\n",
       "    }\n",
       "</style>\n",
       "<table border=\"1\" class=\"dataframe\">\n",
       "  <thead>\n",
       "    <tr style=\"text-align: right;\">\n",
       "      <th></th>\n",
       "      <th>Company</th>\n",
       "      <th>Job Title</th>\n",
       "      <th>Location</th>\n",
       "      <th>Job Type</th>\n",
       "      <th>Experience level</th>\n",
       "      <th>MNM_Salary_USD</th>\n",
       "      <th>Salary_Star</th>\n",
       "      <th>Requirment of the company</th>\n",
       "      <th>Facilities</th>\n",
       "    </tr>\n",
       "  </thead>\n",
       "  <tbody>\n",
       "    <tr>\n",
       "      <th>0</th>\n",
       "      <td>SGS</td>\n",
       "      <td>Clinical Data Analyst</td>\n",
       "      <td>Richardson, TX, United States</td>\n",
       "      <td>Full Time</td>\n",
       "      <td>Entry-level</td>\n",
       "      <td>48000.0</td>\n",
       "      <td>True</td>\n",
       "      <td>Computer Science,Data quality,Genetics,Mathema...</td>\n",
       "      <td>,,,,</td>\n",
       "    </tr>\n",
       "    <tr>\n",
       "      <th>1</th>\n",
       "      <td>Ocorian</td>\n",
       "      <td>AML/CFT &amp; Data Analyst</td>\n",
       "      <td>Ebène, Mauritius</td>\n",
       "      <td>Full Time</td>\n",
       "      <td>Entry-level</td>\n",
       "      <td>48000.0</td>\n",
       "      <td>True</td>\n",
       "      <td>Agile,Data management,Finance,Security,,</td>\n",
       "      <td>,,,,</td>\n",
       "    </tr>\n",
       "    <tr>\n",
       "      <th>2</th>\n",
       "      <td>Cricut</td>\n",
       "      <td>Machine Learning Engineer</td>\n",
       "      <td>South Jordan, UT, United States</td>\n",
       "      <td>Full Time</td>\n",
       "      <td>NaN</td>\n",
       "      <td>90000.0</td>\n",
       "      <td>True</td>\n",
       "      <td>Agile,Architecture,AWS,Computer Science,Comput...</td>\n",
       "      <td>Career development,,,,</td>\n",
       "    </tr>\n",
       "    <tr>\n",
       "      <th>3</th>\n",
       "      <td>Bosch Group</td>\n",
       "      <td>Application Developer &amp; Data Analyst</td>\n",
       "      <td>Nonantola, Italy</td>\n",
       "      <td>Full Time</td>\n",
       "      <td>Entry-level</td>\n",
       "      <td>48000.0</td>\n",
       "      <td>True</td>\n",
       "      <td>Engineering,Industrial,Oracle,Power BI,R,R&amp;D</td>\n",
       "      <td>,,,,</td>\n",
       "    </tr>\n",
       "    <tr>\n",
       "      <th>4</th>\n",
       "      <td>Publicis Groupe</td>\n",
       "      <td>Data Engineer Full time (Public Sector) USA</td>\n",
       "      <td>Arlington, VA, United States</td>\n",
       "      <td>Full Time</td>\n",
       "      <td>Mid-level</td>\n",
       "      <td>108000.0</td>\n",
       "      <td>False</td>\n",
       "      <td>AWS,Azure,Computer Science,Consulting,Dataflow...</td>\n",
       "      <td>Flex hours,Flex vacation,Parental leave,Unlimi...</td>\n",
       "    </tr>\n",
       "  </tbody>\n",
       "</table>\n",
       "</div>"
      ],
      "text/plain": [
       "           Company                                    Job Title   \n",
       "0              SGS                        Clinical Data Analyst  \\\n",
       "1          Ocorian                       AML/CFT & Data Analyst   \n",
       "2           Cricut                    Machine Learning Engineer   \n",
       "3      Bosch Group         Application Developer & Data Analyst   \n",
       "4  Publicis Groupe  Data Engineer Full time (Public Sector) USA   \n",
       "\n",
       "                          Location   Job Type Experience level   \n",
       "0    Richardson, TX, United States  Full Time      Entry-level  \\\n",
       "1                 Ebène, Mauritius  Full Time      Entry-level   \n",
       "2  South Jordan, UT, United States  Full Time              NaN   \n",
       "3                 Nonantola, Italy  Full Time      Entry-level   \n",
       "4     Arlington, VA, United States  Full Time        Mid-level   \n",
       "\n",
       "   MNM_Salary_USD  Salary_Star   \n",
       "0         48000.0         True  \\\n",
       "1         48000.0         True   \n",
       "2         90000.0         True   \n",
       "3         48000.0         True   \n",
       "4        108000.0        False   \n",
       "\n",
       "                           Requirment of the company   \n",
       "0  Computer Science,Data quality,Genetics,Mathema...  \\\n",
       "1           Agile,Data management,Finance,Security,,   \n",
       "2  Agile,Architecture,AWS,Computer Science,Comput...   \n",
       "3       Engineering,Industrial,Oracle,Power BI,R,R&D   \n",
       "4  AWS,Azure,Computer Science,Consulting,Dataflow...   \n",
       "\n",
       "                                          Facilities  \n",
       "0                                               ,,,,  \n",
       "1                                               ,,,,  \n",
       "2                             Career development,,,,  \n",
       "3                                               ,,,,  \n",
       "4  Flex hours,Flex vacation,Parental leave,Unlimi...  "
      ]
     },
     "execution_count": 20,
     "metadata": {},
     "output_type": "execute_result"
    }
   ],
   "source": [
    "df.head()"
   ]
  },
  {
   "cell_type": "code",
   "execution_count": 21,
   "id": "e8dd21ed",
   "metadata": {},
   "outputs": [
    {
     "name": "stdout",
     "output_type": "stream",
     "text": [
      "Company                      category\n",
      "Job Title                    category\n",
      "Location                       object\n",
      "Job Type                     category\n",
      "Experience level             category\n",
      "MNM_Salary_USD                float64\n",
      "Salary_Star                      bool\n",
      "Requirment of the company      object\n",
      "Facilities                     object\n",
      "dtype: object\n"
     ]
    }
   ],
   "source": [
    "print(df.dtypes)"
   ]
  },
  {
   "cell_type": "code",
   "execution_count": 22,
   "id": "56481c29",
   "metadata": {},
   "outputs": [
    {
     "data": {
      "text/plain": [
       "88000.0"
      ]
     },
     "execution_count": 22,
     "metadata": {},
     "output_type": "execute_result"
    }
   ],
   "source": [
    "eur = df.loc[1057]['MNM_Salary_USD']\n",
    "eur"
   ]
  },
  {
   "cell_type": "code",
   "execution_count": 23,
   "id": "8049fd32",
   "metadata": {},
   "outputs": [
    {
     "data": {
      "text/plain": [
       "64000.0"
      ]
     },
     "execution_count": 23,
     "metadata": {},
     "output_type": "execute_result"
    }
   ],
   "source": [
    "gbp=df.loc[2177]['MNM_Salary_USD']\n",
    "gbp"
   ]
  },
  {
   "cell_type": "markdown",
   "id": "821ee346",
   "metadata": {},
   "source": [
    "### Missing values"
   ]
  },
  {
   "cell_type": "code",
   "execution_count": 24,
   "id": "95a33be5",
   "metadata": {},
   "outputs": [
    {
     "name": "stdout",
     "output_type": "stream",
     "text": [
      "Number of missing values:\n",
      "Company                        0\n",
      "Job Title                      0\n",
      "Location                       0\n",
      "Job Type                       0\n",
      "Experience level             227\n",
      "MNM_Salary_USD               171\n",
      "Salary_Star                    0\n",
      "Requirment of the company      0\n",
      "Facilities                     0\n"
     ]
    }
   ],
   "source": [
    "# Count missing values\n",
    "missing_count = df.isnull().sum()\n",
    "print(\"Number of missing values:\")\n",
    "print(df.isnull().sum().to_string())"
   ]
  },
  {
   "cell_type": "code",
   "execution_count": 25,
   "id": "8fd59384",
   "metadata": {},
   "outputs": [],
   "source": [
    "# Replace missing values in 'MNM_Salary_USD' with 'Undefined'\n",
    "df['MNM_Salary_USD'].fillna(0, inplace=True)"
   ]
  },
  {
   "cell_type": "code",
   "execution_count": 26,
   "id": "57c6a98b",
   "metadata": {},
   "outputs": [],
   "source": [
    "# Step 1: Convert 'Experience level' column to object type\n",
    "df['Experience level'] = df['Experience level'].astype('object')\n",
    "# Replace missing values in 'Experience level' with 'Undefined'\n",
    "df['Experience level'].fillna('Not-Specified', inplace=True)"
   ]
  },
  {
   "cell_type": "code",
   "execution_count": 27,
   "id": "c2555743",
   "metadata": {},
   "outputs": [
    {
     "name": "stdout",
     "output_type": "stream",
     "text": [
      "Number of missing values:\n",
      "Company                      0\n",
      "Job Title                    0\n",
      "Location                     0\n",
      "Job Type                     0\n",
      "Experience level             0\n",
      "MNM_Salary_USD               0\n",
      "Salary_Star                  0\n",
      "Requirment of the company    0\n",
      "Facilities                   0\n"
     ]
    }
   ],
   "source": [
    "# Count missing values\n",
    "missing_count = df.isnull().sum()\n",
    "print(\"Number of missing values:\")\n",
    "print(df.isnull().sum().to_string())"
   ]
  },
  {
   "cell_type": "markdown",
   "id": "709faa0a",
   "metadata": {},
   "source": [
    "### Location"
   ]
  },
  {
   "cell_type": "code",
   "execution_count": 28,
   "id": "8c45397f",
   "metadata": {},
   "outputs": [],
   "source": [
    "# Step 1: Extract the country using regular expressions\n",
    "def extract_country(location):\n",
    "    # Check if the value contains 'remote'\n",
    "    if 'remote' in location.lower():\n",
    "        return location\n",
    "    # Use regex to extract the country from the location string\n",
    "    pattern = r',\\s*([^,]+)$'\n",
    "    match = re.search(pattern, location)\n",
    "    if match:\n",
    "        return match.group(1)\n",
    "    else:\n",
    "        return location  # Return 'Undefined' if no country found\n",
    "\n",
    "# Step 2: Apply the function to the 'Location' column and create a new column for the extracted countries\n",
    "df['Country'] = df['Location'].apply(extract_country)"
   ]
  },
  {
   "cell_type": "code",
   "execution_count": 29,
   "id": "46e92031",
   "metadata": {},
   "outputs": [
    {
     "data": {
      "text/html": [
       "<div>\n",
       "<style scoped>\n",
       "    .dataframe tbody tr th:only-of-type {\n",
       "        vertical-align: middle;\n",
       "    }\n",
       "\n",
       "    .dataframe tbody tr th {\n",
       "        vertical-align: top;\n",
       "    }\n",
       "\n",
       "    .dataframe thead th {\n",
       "        text-align: right;\n",
       "    }\n",
       "</style>\n",
       "<table border=\"1\" class=\"dataframe\">\n",
       "  <thead>\n",
       "    <tr style=\"text-align: right;\">\n",
       "      <th></th>\n",
       "      <th>Company</th>\n",
       "      <th>Job Title</th>\n",
       "      <th>Location</th>\n",
       "      <th>Job Type</th>\n",
       "      <th>Experience level</th>\n",
       "      <th>MNM_Salary_USD</th>\n",
       "      <th>Salary_Star</th>\n",
       "      <th>Requirment of the company</th>\n",
       "      <th>Facilities</th>\n",
       "      <th>Country</th>\n",
       "    </tr>\n",
       "  </thead>\n",
       "  <tbody>\n",
       "    <tr>\n",
       "      <th>0</th>\n",
       "      <td>SGS</td>\n",
       "      <td>Clinical Data Analyst</td>\n",
       "      <td>Richardson, TX, United States</td>\n",
       "      <td>Full Time</td>\n",
       "      <td>Entry-level</td>\n",
       "      <td>48000.0</td>\n",
       "      <td>True</td>\n",
       "      <td>Computer Science,Data quality,Genetics,Mathema...</td>\n",
       "      <td>,,,,</td>\n",
       "      <td>United States</td>\n",
       "    </tr>\n",
       "    <tr>\n",
       "      <th>1</th>\n",
       "      <td>Ocorian</td>\n",
       "      <td>AML/CFT &amp; Data Analyst</td>\n",
       "      <td>Ebène, Mauritius</td>\n",
       "      <td>Full Time</td>\n",
       "      <td>Entry-level</td>\n",
       "      <td>48000.0</td>\n",
       "      <td>True</td>\n",
       "      <td>Agile,Data management,Finance,Security,,</td>\n",
       "      <td>,,,,</td>\n",
       "      <td>Mauritius</td>\n",
       "    </tr>\n",
       "    <tr>\n",
       "      <th>2</th>\n",
       "      <td>Cricut</td>\n",
       "      <td>Machine Learning Engineer</td>\n",
       "      <td>South Jordan, UT, United States</td>\n",
       "      <td>Full Time</td>\n",
       "      <td>Not-Specified</td>\n",
       "      <td>90000.0</td>\n",
       "      <td>True</td>\n",
       "      <td>Agile,Architecture,AWS,Computer Science,Comput...</td>\n",
       "      <td>Career development,,,,</td>\n",
       "      <td>United States</td>\n",
       "    </tr>\n",
       "    <tr>\n",
       "      <th>3</th>\n",
       "      <td>Bosch Group</td>\n",
       "      <td>Application Developer &amp; Data Analyst</td>\n",
       "      <td>Nonantola, Italy</td>\n",
       "      <td>Full Time</td>\n",
       "      <td>Entry-level</td>\n",
       "      <td>48000.0</td>\n",
       "      <td>True</td>\n",
       "      <td>Engineering,Industrial,Oracle,Power BI,R,R&amp;D</td>\n",
       "      <td>,,,,</td>\n",
       "      <td>Italy</td>\n",
       "    </tr>\n",
       "    <tr>\n",
       "      <th>4</th>\n",
       "      <td>Publicis Groupe</td>\n",
       "      <td>Data Engineer Full time (Public Sector) USA</td>\n",
       "      <td>Arlington, VA, United States</td>\n",
       "      <td>Full Time</td>\n",
       "      <td>Mid-level</td>\n",
       "      <td>108000.0</td>\n",
       "      <td>False</td>\n",
       "      <td>AWS,Azure,Computer Science,Consulting,Dataflow...</td>\n",
       "      <td>Flex hours,Flex vacation,Parental leave,Unlimi...</td>\n",
       "      <td>United States</td>\n",
       "    </tr>\n",
       "  </tbody>\n",
       "</table>\n",
       "</div>"
      ],
      "text/plain": [
       "           Company                                    Job Title   \n",
       "0              SGS                        Clinical Data Analyst  \\\n",
       "1          Ocorian                       AML/CFT & Data Analyst   \n",
       "2           Cricut                    Machine Learning Engineer   \n",
       "3      Bosch Group         Application Developer & Data Analyst   \n",
       "4  Publicis Groupe  Data Engineer Full time (Public Sector) USA   \n",
       "\n",
       "                          Location   Job Type Experience level   \n",
       "0    Richardson, TX, United States  Full Time      Entry-level  \\\n",
       "1                 Ebène, Mauritius  Full Time      Entry-level   \n",
       "2  South Jordan, UT, United States  Full Time    Not-Specified   \n",
       "3                 Nonantola, Italy  Full Time      Entry-level   \n",
       "4     Arlington, VA, United States  Full Time        Mid-level   \n",
       "\n",
       "   MNM_Salary_USD  Salary_Star   \n",
       "0         48000.0         True  \\\n",
       "1         48000.0         True   \n",
       "2         90000.0         True   \n",
       "3         48000.0         True   \n",
       "4        108000.0        False   \n",
       "\n",
       "                           Requirment of the company   \n",
       "0  Computer Science,Data quality,Genetics,Mathema...  \\\n",
       "1           Agile,Data management,Finance,Security,,   \n",
       "2  Agile,Architecture,AWS,Computer Science,Comput...   \n",
       "3       Engineering,Industrial,Oracle,Power BI,R,R&D   \n",
       "4  AWS,Azure,Computer Science,Consulting,Dataflow...   \n",
       "\n",
       "                                          Facilities        Country  \n",
       "0                                               ,,,,  United States  \n",
       "1                                               ,,,,      Mauritius  \n",
       "2                             Career development,,,,  United States  \n",
       "3                                               ,,,,          Italy  \n",
       "4  Flex hours,Flex vacation,Parental leave,Unlimi...  United States  "
      ]
     },
     "execution_count": 29,
     "metadata": {},
     "output_type": "execute_result"
    }
   ],
   "source": [
    "df.head()"
   ]
  },
  {
   "cell_type": "markdown",
   "id": "e26d276c",
   "metadata": {},
   "source": [
    "### Job Title"
   ]
  },
  {
   "cell_type": "code",
   "execution_count": 32,
   "id": "9d3b61e7",
   "metadata": {},
   "outputs": [],
   "source": [
    "from fuzzywuzzy import process\n",
    "from fuzzywuzzy import fuzz\n",
    "\n",
    "# You can access the 'Job Title' column like this:\n",
    "job_titles = df['Job Title']\n",
    "\n",
    "standard_job_titles = ['Data Analyst', 'Data Scientist', 'Software Engineer', 'Machine Learning Engineer', 'Data Engineer', 'Business Intelligence Engineer', 'Data Architect', 'Product Manager', 'Project Manager', 'UX Designer', 'UI Developer', 'Data Entry Specialist', 'Database Administrator', 'Network Administrator', 'Systems Analyst', 'Software Developer', 'IT Support Specialist', 'Marketing Manager', 'Sales Representative', 'HR Specialist', 'Data Consultant', 'Data Modeler', 'Data Visualization Specialist', 'Data Operations Manager', 'Data Quality Analyst', 'Data Governance Specialist', 'Data Security Analyst', 'Data Warehouse Developer', 'Data Integration Specialist', 'Data Mining Specialist', 'Data Analytics Manager', 'Data Strategy Consultant', 'Data Privacy Officer', 'Data Migration Specialist', 'Data Reporting Analyst', 'Data Solutions Architect', 'Big Data Engineer', 'Business Analytics Specialist', 'Data Science Manager', 'Data Product Manager', 'Data Ethics Specialist', 'Data Transformation Specialist', 'Data Researcher', 'Data Steward', 'Data Compliance Analyst', 'Data Technician', 'Data Center Manager', 'Data Verification Specialist', 'Data Acquisition Specialist', 'Data Analytics Consultant', 'Data Automation Engineer', 'Data Governance Analyst', 'Data Infrastructure Manager', 'Data Science Researcher', 'Data Warehouse Analyst', 'Data Visualization Consultant', 'Data Systems Manager', 'Data Insights Analyst','Data Analyst Lead', 'Data Scientist Lead', 'Software Engineer Lead', 'Machine Learning Engineer Lead', 'Data Engineer Lead', 'Data Architect Lead', 'Business Intelligence Manager', 'Business Intelligence Analyst', 'Business Intelligence Consultant', 'Business Intelligence Lead', 'Business Intelligence Specialist', 'Data Entry Clerk', 'Database Developer', 'Database Manager', 'Database Analyst', 'Database Architect', 'Network Engineer', 'Network Manager', 'Network Analyst', 'Network Architect', 'Systems Administrator', 'Systems Manager', 'Systems Consultant', 'Systems Lead', 'Software Developer Manager', 'IT Support Specialist Manager', 'Marketing Analyst', 'Marketing Manager', 'Sales Analyst', 'Sales Manager', 'HR Analyst', 'HR Manager', 'HR Consultant', 'HR Lead', 'Data Consultant', 'Data Modeler', 'Data Visualization Specialist', 'Data Operations Manager', 'Data Quality Analyst', 'Data Governance Specialist', 'Data Security Analyst', 'Data Warehouse Developer', 'Data Integration Specialist', 'Data Mining Specialist', 'Data Analytics Manager', 'Data Strategy Consultant', 'Data Privacy Officer', 'Data Migration Specialist', 'Data Reporting Analyst', 'Data Solutions Architect', 'Big Data Engineer', 'Business Analytics Specialist', 'Data Science Manager', 'Data Product Manager', 'Data Ethics Specialist', 'Data Transformation Specialist', 'Data Researcher', 'Data Steward', 'Data Compliance Analyst', 'Data Technician', 'Data Center Manager', 'Data Verification Specialist', 'Data Acquisition Specialist', 'Data Analytics Consultant', 'Data Automation Engineer', 'Data Governance Analyst', 'Data Infrastructure Manager', 'Data Science Researcher', 'Data Warehouse Analyst', 'Data Visualization Consultant', 'Data Systems Manager', 'Data Insights Analyst']\n",
    "\n",
    "# Function to normalize job titles with a minimum score threshold of 90\n",
    "def normalize_job_title(title):\n",
    "    matched_title, score = process.extractOne(title, standard_job_titles, scorer=fuzz.token_set_ratio)\n",
    "    if score >= 90:\n",
    "        return matched_title\n",
    "    else:\n",
    "        return title\n",
    "\n",
    "# Create a new column with the normalized job titles\n",
    "df['Job Categorie'] = job_titles.apply(normalize_job_title)"
   ]
  },
  {
   "cell_type": "code",
   "execution_count": 33,
   "id": "44a1d5c1",
   "metadata": {},
   "outputs": [
    {
     "data": {
      "text/html": [
       "<div>\n",
       "<style scoped>\n",
       "    .dataframe tbody tr th:only-of-type {\n",
       "        vertical-align: middle;\n",
       "    }\n",
       "\n",
       "    .dataframe tbody tr th {\n",
       "        vertical-align: top;\n",
       "    }\n",
       "\n",
       "    .dataframe thead th {\n",
       "        text-align: right;\n",
       "    }\n",
       "</style>\n",
       "<table border=\"1\" class=\"dataframe\">\n",
       "  <thead>\n",
       "    <tr style=\"text-align: right;\">\n",
       "      <th></th>\n",
       "      <th>Company</th>\n",
       "      <th>Job Title</th>\n",
       "      <th>Location</th>\n",
       "      <th>Job Type</th>\n",
       "      <th>Experience level</th>\n",
       "      <th>MNM_Salary_USD</th>\n",
       "      <th>Salary_Star</th>\n",
       "      <th>Requirment of the company</th>\n",
       "      <th>Facilities</th>\n",
       "      <th>Country</th>\n",
       "      <th>Job Categorie</th>\n",
       "    </tr>\n",
       "  </thead>\n",
       "  <tbody>\n",
       "    <tr>\n",
       "      <th>0</th>\n",
       "      <td>SGS</td>\n",
       "      <td>Clinical Data Analyst</td>\n",
       "      <td>Richardson, TX, United States</td>\n",
       "      <td>Full Time</td>\n",
       "      <td>Entry-level</td>\n",
       "      <td>48000.0</td>\n",
       "      <td>True</td>\n",
       "      <td>Computer Science,Data quality,Genetics,Mathema...</td>\n",
       "      <td>,,,,</td>\n",
       "      <td>United States</td>\n",
       "      <td>Data Analyst</td>\n",
       "    </tr>\n",
       "    <tr>\n",
       "      <th>1</th>\n",
       "      <td>Ocorian</td>\n",
       "      <td>AML/CFT &amp; Data Analyst</td>\n",
       "      <td>Ebène, Mauritius</td>\n",
       "      <td>Full Time</td>\n",
       "      <td>Entry-level</td>\n",
       "      <td>48000.0</td>\n",
       "      <td>True</td>\n",
       "      <td>Agile,Data management,Finance,Security,,</td>\n",
       "      <td>,,,,</td>\n",
       "      <td>Mauritius</td>\n",
       "      <td>Data Analyst</td>\n",
       "    </tr>\n",
       "    <tr>\n",
       "      <th>2</th>\n",
       "      <td>Cricut</td>\n",
       "      <td>Machine Learning Engineer</td>\n",
       "      <td>South Jordan, UT, United States</td>\n",
       "      <td>Full Time</td>\n",
       "      <td>Not-Specified</td>\n",
       "      <td>90000.0</td>\n",
       "      <td>True</td>\n",
       "      <td>Agile,Architecture,AWS,Computer Science,Comput...</td>\n",
       "      <td>Career development,,,,</td>\n",
       "      <td>United States</td>\n",
       "      <td>Machine Learning Engineer</td>\n",
       "    </tr>\n",
       "    <tr>\n",
       "      <th>3</th>\n",
       "      <td>Bosch Group</td>\n",
       "      <td>Application Developer &amp; Data Analyst</td>\n",
       "      <td>Nonantola, Italy</td>\n",
       "      <td>Full Time</td>\n",
       "      <td>Entry-level</td>\n",
       "      <td>48000.0</td>\n",
       "      <td>True</td>\n",
       "      <td>Engineering,Industrial,Oracle,Power BI,R,R&amp;D</td>\n",
       "      <td>,,,,</td>\n",
       "      <td>Italy</td>\n",
       "      <td>Data Analyst</td>\n",
       "    </tr>\n",
       "    <tr>\n",
       "      <th>4</th>\n",
       "      <td>Publicis Groupe</td>\n",
       "      <td>Data Engineer Full time (Public Sector) USA</td>\n",
       "      <td>Arlington, VA, United States</td>\n",
       "      <td>Full Time</td>\n",
       "      <td>Mid-level</td>\n",
       "      <td>108000.0</td>\n",
       "      <td>False</td>\n",
       "      <td>AWS,Azure,Computer Science,Consulting,Dataflow...</td>\n",
       "      <td>Flex hours,Flex vacation,Parental leave,Unlimi...</td>\n",
       "      <td>United States</td>\n",
       "      <td>Data Engineer</td>\n",
       "    </tr>\n",
       "  </tbody>\n",
       "</table>\n",
       "</div>"
      ],
      "text/plain": [
       "           Company                                    Job Title   \n",
       "0              SGS                        Clinical Data Analyst  \\\n",
       "1          Ocorian                       AML/CFT & Data Analyst   \n",
       "2           Cricut                    Machine Learning Engineer   \n",
       "3      Bosch Group         Application Developer & Data Analyst   \n",
       "4  Publicis Groupe  Data Engineer Full time (Public Sector) USA   \n",
       "\n",
       "                          Location   Job Type Experience level   \n",
       "0    Richardson, TX, United States  Full Time      Entry-level  \\\n",
       "1                 Ebène, Mauritius  Full Time      Entry-level   \n",
       "2  South Jordan, UT, United States  Full Time    Not-Specified   \n",
       "3                 Nonantola, Italy  Full Time      Entry-level   \n",
       "4     Arlington, VA, United States  Full Time        Mid-level   \n",
       "\n",
       "   MNM_Salary_USD  Salary_Star   \n",
       "0         48000.0         True  \\\n",
       "1         48000.0         True   \n",
       "2         90000.0         True   \n",
       "3         48000.0         True   \n",
       "4        108000.0        False   \n",
       "\n",
       "                           Requirment of the company   \n",
       "0  Computer Science,Data quality,Genetics,Mathema...  \\\n",
       "1           Agile,Data management,Finance,Security,,   \n",
       "2  Agile,Architecture,AWS,Computer Science,Comput...   \n",
       "3       Engineering,Industrial,Oracle,Power BI,R,R&D   \n",
       "4  AWS,Azure,Computer Science,Consulting,Dataflow...   \n",
       "\n",
       "                                          Facilities        Country   \n",
       "0                                               ,,,,  United States  \\\n",
       "1                                               ,,,,      Mauritius   \n",
       "2                             Career development,,,,  United States   \n",
       "3                                               ,,,,          Italy   \n",
       "4  Flex hours,Flex vacation,Parental leave,Unlimi...  United States   \n",
       "\n",
       "               Job Categorie  \n",
       "0               Data Analyst  \n",
       "1               Data Analyst  \n",
       "2  Machine Learning Engineer  \n",
       "3               Data Analyst  \n",
       "4              Data Engineer  "
      ]
     },
     "execution_count": 33,
     "metadata": {},
     "output_type": "execute_result"
    }
   ],
   "source": [
    "df.head()"
   ]
  },
  {
   "cell_type": "markdown",
   "id": "354a4e03",
   "metadata": {},
   "source": [
    "### Requirment of the company / Facilities"
   ]
  },
  {
   "cell_type": "code",
   "execution_count": 34,
   "id": "ca62bcfc",
   "metadata": {},
   "outputs": [],
   "source": [
    "# #replace the values with ,,,, in the Facilities column with 'Not Specified'\n",
    "df['Facilities'].replace(',,,,', 'Not-Specified,', inplace=True)\n",
    "# remove , if it is succeeded by a , in the Facilities column\n",
    "df['Facilities'] = df['Facilities'].str.replace(r',,', ',')\n",
    "df['Facilities'] = df['Facilities'].str.replace(r',,,', ',')\n",
    "df['Facilities'] = df['Facilities'].str.replace(r',,,,', ',')\n",
    "df['Facilities'] = df['Facilities'].str.replace(r',,,', ',')\n",
    "df['Facilities'] = df['Facilities'].str.replace(r',,', ',')\n",
    "# remove , if it is in the end of the string in the Facilities column\n",
    "df['Facilities'] = df['Facilities'].str.replace(r',$', '')"
   ]
  },
  {
   "cell_type": "code",
   "execution_count": 35,
   "id": "77fe8449",
   "metadata": {},
   "outputs": [],
   "source": [
    "def fixe_Facilities(my_list) :\n",
    "    my_list = my_list.strip(\",\")\n",
    "    return my_list.split(',')\n",
    "\n",
    "df['Facilities'] = df['Facilities'].apply(fixe_Facilities)"
   ]
  },
  {
   "cell_type": "code",
   "execution_count": 36,
   "id": "189ebc08",
   "metadata": {},
   "outputs": [
    {
     "data": {
      "text/html": [
       "<div>\n",
       "<style scoped>\n",
       "    .dataframe tbody tr th:only-of-type {\n",
       "        vertical-align: middle;\n",
       "    }\n",
       "\n",
       "    .dataframe tbody tr th {\n",
       "        vertical-align: top;\n",
       "    }\n",
       "\n",
       "    .dataframe thead th {\n",
       "        text-align: right;\n",
       "    }\n",
       "</style>\n",
       "<table border=\"1\" class=\"dataframe\">\n",
       "  <thead>\n",
       "    <tr style=\"text-align: right;\">\n",
       "      <th></th>\n",
       "      <th>Company</th>\n",
       "      <th>Job Title</th>\n",
       "      <th>Location</th>\n",
       "      <th>Job Type</th>\n",
       "      <th>Experience level</th>\n",
       "      <th>MNM_Salary_USD</th>\n",
       "      <th>Salary_Star</th>\n",
       "      <th>Requirment of the company</th>\n",
       "      <th>Facilities</th>\n",
       "      <th>Country</th>\n",
       "      <th>Job Categorie</th>\n",
       "    </tr>\n",
       "  </thead>\n",
       "  <tbody>\n",
       "    <tr>\n",
       "      <th>0</th>\n",
       "      <td>SGS</td>\n",
       "      <td>Clinical Data Analyst</td>\n",
       "      <td>Richardson, TX, United States</td>\n",
       "      <td>Full Time</td>\n",
       "      <td>Entry-level</td>\n",
       "      <td>48000.0</td>\n",
       "      <td>True</td>\n",
       "      <td>Computer Science,Data quality,Genetics,Mathema...</td>\n",
       "      <td>[Not-Specified]</td>\n",
       "      <td>United States</td>\n",
       "      <td>Data Analyst</td>\n",
       "    </tr>\n",
       "    <tr>\n",
       "      <th>1</th>\n",
       "      <td>Ocorian</td>\n",
       "      <td>AML/CFT &amp; Data Analyst</td>\n",
       "      <td>Ebène, Mauritius</td>\n",
       "      <td>Full Time</td>\n",
       "      <td>Entry-level</td>\n",
       "      <td>48000.0</td>\n",
       "      <td>True</td>\n",
       "      <td>Agile,Data management,Finance,Security,,</td>\n",
       "      <td>[Not-Specified]</td>\n",
       "      <td>Mauritius</td>\n",
       "      <td>Data Analyst</td>\n",
       "    </tr>\n",
       "    <tr>\n",
       "      <th>2</th>\n",
       "      <td>Cricut</td>\n",
       "      <td>Machine Learning Engineer</td>\n",
       "      <td>South Jordan, UT, United States</td>\n",
       "      <td>Full Time</td>\n",
       "      <td>Not-Specified</td>\n",
       "      <td>90000.0</td>\n",
       "      <td>True</td>\n",
       "      <td>Agile,Architecture,AWS,Computer Science,Comput...</td>\n",
       "      <td>[Career development]</td>\n",
       "      <td>United States</td>\n",
       "      <td>Machine Learning Engineer</td>\n",
       "    </tr>\n",
       "    <tr>\n",
       "      <th>3</th>\n",
       "      <td>Bosch Group</td>\n",
       "      <td>Application Developer &amp; Data Analyst</td>\n",
       "      <td>Nonantola, Italy</td>\n",
       "      <td>Full Time</td>\n",
       "      <td>Entry-level</td>\n",
       "      <td>48000.0</td>\n",
       "      <td>True</td>\n",
       "      <td>Engineering,Industrial,Oracle,Power BI,R,R&amp;D</td>\n",
       "      <td>[Not-Specified]</td>\n",
       "      <td>Italy</td>\n",
       "      <td>Data Analyst</td>\n",
       "    </tr>\n",
       "    <tr>\n",
       "      <th>4</th>\n",
       "      <td>Publicis Groupe</td>\n",
       "      <td>Data Engineer Full time (Public Sector) USA</td>\n",
       "      <td>Arlington, VA, United States</td>\n",
       "      <td>Full Time</td>\n",
       "      <td>Mid-level</td>\n",
       "      <td>108000.0</td>\n",
       "      <td>False</td>\n",
       "      <td>AWS,Azure,Computer Science,Consulting,Dataflow...</td>\n",
       "      <td>[Flex hours, Flex vacation, Parental leave, Un...</td>\n",
       "      <td>United States</td>\n",
       "      <td>Data Engineer</td>\n",
       "    </tr>\n",
       "  </tbody>\n",
       "</table>\n",
       "</div>"
      ],
      "text/plain": [
       "           Company                                    Job Title   \n",
       "0              SGS                        Clinical Data Analyst  \\\n",
       "1          Ocorian                       AML/CFT & Data Analyst   \n",
       "2           Cricut                    Machine Learning Engineer   \n",
       "3      Bosch Group         Application Developer & Data Analyst   \n",
       "4  Publicis Groupe  Data Engineer Full time (Public Sector) USA   \n",
       "\n",
       "                          Location   Job Type Experience level   \n",
       "0    Richardson, TX, United States  Full Time      Entry-level  \\\n",
       "1                 Ebène, Mauritius  Full Time      Entry-level   \n",
       "2  South Jordan, UT, United States  Full Time    Not-Specified   \n",
       "3                 Nonantola, Italy  Full Time      Entry-level   \n",
       "4     Arlington, VA, United States  Full Time        Mid-level   \n",
       "\n",
       "   MNM_Salary_USD  Salary_Star   \n",
       "0         48000.0         True  \\\n",
       "1         48000.0         True   \n",
       "2         90000.0         True   \n",
       "3         48000.0         True   \n",
       "4        108000.0        False   \n",
       "\n",
       "                           Requirment of the company   \n",
       "0  Computer Science,Data quality,Genetics,Mathema...  \\\n",
       "1           Agile,Data management,Finance,Security,,   \n",
       "2  Agile,Architecture,AWS,Computer Science,Comput...   \n",
       "3       Engineering,Industrial,Oracle,Power BI,R,R&D   \n",
       "4  AWS,Azure,Computer Science,Consulting,Dataflow...   \n",
       "\n",
       "                                          Facilities        Country   \n",
       "0                                    [Not-Specified]  United States  \\\n",
       "1                                    [Not-Specified]      Mauritius   \n",
       "2                               [Career development]  United States   \n",
       "3                                    [Not-Specified]          Italy   \n",
       "4  [Flex hours, Flex vacation, Parental leave, Un...  United States   \n",
       "\n",
       "               Job Categorie  \n",
       "0               Data Analyst  \n",
       "1               Data Analyst  \n",
       "2  Machine Learning Engineer  \n",
       "3               Data Analyst  \n",
       "4              Data Engineer  "
      ]
     },
     "execution_count": 36,
     "metadata": {},
     "output_type": "execute_result"
    }
   ],
   "source": [
    "df.head()"
   ]
  },
  {
   "cell_type": "code",
   "execution_count": 37,
   "id": "e4540b68",
   "metadata": {},
   "outputs": [],
   "source": [
    "df.to_csv('Cleaned.csv', index=False)"
   ]
  },
  {
   "cell_type": "code",
   "execution_count": 38,
   "id": "481a4ac1",
   "metadata": {},
   "outputs": [
    {
     "data": {
      "text/html": [
       "<div>\n",
       "<style scoped>\n",
       "    .dataframe tbody tr th:only-of-type {\n",
       "        vertical-align: middle;\n",
       "    }\n",
       "\n",
       "    .dataframe tbody tr th {\n",
       "        vertical-align: top;\n",
       "    }\n",
       "\n",
       "    .dataframe thead th {\n",
       "        text-align: right;\n",
       "    }\n",
       "</style>\n",
       "<table border=\"1\" class=\"dataframe\">\n",
       "  <thead>\n",
       "    <tr style=\"text-align: right;\">\n",
       "      <th></th>\n",
       "      <th>Company</th>\n",
       "      <th>Job Title</th>\n",
       "      <th>Location</th>\n",
       "      <th>Job Type</th>\n",
       "      <th>Experience level</th>\n",
       "      <th>MNM_Salary_USD</th>\n",
       "      <th>Salary_Star</th>\n",
       "      <th>Requirment of the company</th>\n",
       "      <th>Facilities</th>\n",
       "      <th>Country</th>\n",
       "      <th>Job Categorie</th>\n",
       "    </tr>\n",
       "  </thead>\n",
       "  <tbody>\n",
       "    <tr>\n",
       "      <th>0</th>\n",
       "      <td>SGS</td>\n",
       "      <td>Clinical Data Analyst</td>\n",
       "      <td>Richardson, TX, United States</td>\n",
       "      <td>Full Time</td>\n",
       "      <td>Entry-level</td>\n",
       "      <td>48000.0</td>\n",
       "      <td>True</td>\n",
       "      <td>Computer Science,Data quality,Genetics,Mathema...</td>\n",
       "      <td>['Not-Specified']</td>\n",
       "      <td>United States</td>\n",
       "      <td>Data Analyst</td>\n",
       "    </tr>\n",
       "    <tr>\n",
       "      <th>1</th>\n",
       "      <td>Ocorian</td>\n",
       "      <td>AML/CFT &amp; Data Analyst</td>\n",
       "      <td>Ebène, Mauritius</td>\n",
       "      <td>Full Time</td>\n",
       "      <td>Entry-level</td>\n",
       "      <td>48000.0</td>\n",
       "      <td>True</td>\n",
       "      <td>Agile,Data management,Finance,Security,,</td>\n",
       "      <td>['Not-Specified']</td>\n",
       "      <td>Mauritius</td>\n",
       "      <td>Data Analyst</td>\n",
       "    </tr>\n",
       "    <tr>\n",
       "      <th>2</th>\n",
       "      <td>Cricut</td>\n",
       "      <td>Machine Learning Engineer</td>\n",
       "      <td>South Jordan, UT, United States</td>\n",
       "      <td>Full Time</td>\n",
       "      <td>Not-Specified</td>\n",
       "      <td>90000.0</td>\n",
       "      <td>True</td>\n",
       "      <td>Agile,Architecture,AWS,Computer Science,Comput...</td>\n",
       "      <td>['Career development']</td>\n",
       "      <td>United States</td>\n",
       "      <td>Machine Learning Engineer</td>\n",
       "    </tr>\n",
       "    <tr>\n",
       "      <th>3</th>\n",
       "      <td>Bosch Group</td>\n",
       "      <td>Application Developer &amp; Data Analyst</td>\n",
       "      <td>Nonantola, Italy</td>\n",
       "      <td>Full Time</td>\n",
       "      <td>Entry-level</td>\n",
       "      <td>48000.0</td>\n",
       "      <td>True</td>\n",
       "      <td>Engineering,Industrial,Oracle,Power BI,R,R&amp;D</td>\n",
       "      <td>['Not-Specified']</td>\n",
       "      <td>Italy</td>\n",
       "      <td>Data Analyst</td>\n",
       "    </tr>\n",
       "    <tr>\n",
       "      <th>4</th>\n",
       "      <td>Publicis Groupe</td>\n",
       "      <td>Data Engineer Full time (Public Sector) USA</td>\n",
       "      <td>Arlington, VA, United States</td>\n",
       "      <td>Full Time</td>\n",
       "      <td>Mid-level</td>\n",
       "      <td>108000.0</td>\n",
       "      <td>False</td>\n",
       "      <td>AWS,Azure,Computer Science,Consulting,Dataflow...</td>\n",
       "      <td>['Flex hours', 'Flex vacation', 'Parental leav...</td>\n",
       "      <td>United States</td>\n",
       "      <td>Data Engineer</td>\n",
       "    </tr>\n",
       "  </tbody>\n",
       "</table>\n",
       "</div>"
      ],
      "text/plain": [
       "           Company                                    Job Title   \n",
       "0              SGS                        Clinical Data Analyst  \\\n",
       "1          Ocorian                       AML/CFT & Data Analyst   \n",
       "2           Cricut                    Machine Learning Engineer   \n",
       "3      Bosch Group         Application Developer & Data Analyst   \n",
       "4  Publicis Groupe  Data Engineer Full time (Public Sector) USA   \n",
       "\n",
       "                          Location   Job Type Experience level   \n",
       "0    Richardson, TX, United States  Full Time      Entry-level  \\\n",
       "1                 Ebène, Mauritius  Full Time      Entry-level   \n",
       "2  South Jordan, UT, United States  Full Time    Not-Specified   \n",
       "3                 Nonantola, Italy  Full Time      Entry-level   \n",
       "4     Arlington, VA, United States  Full Time        Mid-level   \n",
       "\n",
       "   MNM_Salary_USD  Salary_Star   \n",
       "0         48000.0         True  \\\n",
       "1         48000.0         True   \n",
       "2         90000.0         True   \n",
       "3         48000.0         True   \n",
       "4        108000.0        False   \n",
       "\n",
       "                           Requirment of the company   \n",
       "0  Computer Science,Data quality,Genetics,Mathema...  \\\n",
       "1           Agile,Data management,Finance,Security,,   \n",
       "2  Agile,Architecture,AWS,Computer Science,Comput...   \n",
       "3       Engineering,Industrial,Oracle,Power BI,R,R&D   \n",
       "4  AWS,Azure,Computer Science,Consulting,Dataflow...   \n",
       "\n",
       "                                          Facilities        Country   \n",
       "0                                  ['Not-Specified']  United States  \\\n",
       "1                                  ['Not-Specified']      Mauritius   \n",
       "2                             ['Career development']  United States   \n",
       "3                                  ['Not-Specified']          Italy   \n",
       "4  ['Flex hours', 'Flex vacation', 'Parental leav...  United States   \n",
       "\n",
       "               Job Categorie  \n",
       "0               Data Analyst  \n",
       "1               Data Analyst  \n",
       "2  Machine Learning Engineer  \n",
       "3               Data Analyst  \n",
       "4              Data Engineer  "
      ]
     },
     "execution_count": 38,
     "metadata": {},
     "output_type": "execute_result"
    }
   ],
   "source": [
    "cleaned=pd.read_csv('Cleaned.csv')\n",
    "cleaned.head()"
   ]
  },
  {
   "cell_type": "code",
   "execution_count": 39,
   "id": "ca44aee7",
   "metadata": {},
   "outputs": [],
   "source": [
    "def split_comma_column_values(colum_name_comma_value, dataFrame):\n",
    "    dataFrame[colum_name_comma_value] = dataFrame[colum_name_comma_value].str.split(',')\n",
    "    new_df = dataFrame.explode(colum_name_comma_value)\n",
    "    new_df = new_df.reset_index(drop=True)\n",
    "    new_df[colum_name_comma_value] = new_df[colum_name_comma_value].astype(str).str.strip()  # Convert lists back to strings\n",
    "    new_df.drop_duplicates(inplace=True)\n",
    "    return new_df"
   ]
  },
  {
   "cell_type": "code",
   "execution_count": 40,
   "id": "b1588901",
   "metadata": {},
   "outputs": [],
   "source": [
    "new_df=split_comma_column_values('Requirment of the company',cleaned)"
   ]
  },
  {
   "cell_type": "code",
   "execution_count": 41,
   "id": "a42e0558",
   "metadata": {},
   "outputs": [
    {
     "data": {
      "text/html": [
       "<div>\n",
       "<style scoped>\n",
       "    .dataframe tbody tr th:only-of-type {\n",
       "        vertical-align: middle;\n",
       "    }\n",
       "\n",
       "    .dataframe tbody tr th {\n",
       "        vertical-align: top;\n",
       "    }\n",
       "\n",
       "    .dataframe thead th {\n",
       "        text-align: right;\n",
       "    }\n",
       "</style>\n",
       "<table border=\"1\" class=\"dataframe\">\n",
       "  <thead>\n",
       "    <tr style=\"text-align: right;\">\n",
       "      <th></th>\n",
       "      <th>Company</th>\n",
       "      <th>Job Title</th>\n",
       "      <th>Location</th>\n",
       "      <th>Job Type</th>\n",
       "      <th>Experience level</th>\n",
       "      <th>MNM_Salary_USD</th>\n",
       "      <th>Salary_Star</th>\n",
       "      <th>Requirment of the company</th>\n",
       "      <th>Facilities</th>\n",
       "      <th>Country</th>\n",
       "      <th>Job Categorie</th>\n",
       "    </tr>\n",
       "  </thead>\n",
       "  <tbody>\n",
       "    <tr>\n",
       "      <th>0</th>\n",
       "      <td>SGS</td>\n",
       "      <td>Clinical Data Analyst</td>\n",
       "      <td>Richardson, TX, United States</td>\n",
       "      <td>Full Time</td>\n",
       "      <td>Entry-level</td>\n",
       "      <td>48000.0</td>\n",
       "      <td>True</td>\n",
       "      <td>Computer Science</td>\n",
       "      <td>['Not-Specified']</td>\n",
       "      <td>United States</td>\n",
       "      <td>Data Analyst</td>\n",
       "    </tr>\n",
       "    <tr>\n",
       "      <th>1</th>\n",
       "      <td>SGS</td>\n",
       "      <td>Clinical Data Analyst</td>\n",
       "      <td>Richardson, TX, United States</td>\n",
       "      <td>Full Time</td>\n",
       "      <td>Entry-level</td>\n",
       "      <td>48000.0</td>\n",
       "      <td>True</td>\n",
       "      <td>Data quality</td>\n",
       "      <td>['Not-Specified']</td>\n",
       "      <td>United States</td>\n",
       "      <td>Data Analyst</td>\n",
       "    </tr>\n",
       "    <tr>\n",
       "      <th>2</th>\n",
       "      <td>SGS</td>\n",
       "      <td>Clinical Data Analyst</td>\n",
       "      <td>Richardson, TX, United States</td>\n",
       "      <td>Full Time</td>\n",
       "      <td>Entry-level</td>\n",
       "      <td>48000.0</td>\n",
       "      <td>True</td>\n",
       "      <td>Genetics</td>\n",
       "      <td>['Not-Specified']</td>\n",
       "      <td>United States</td>\n",
       "      <td>Data Analyst</td>\n",
       "    </tr>\n",
       "    <tr>\n",
       "      <th>3</th>\n",
       "      <td>SGS</td>\n",
       "      <td>Clinical Data Analyst</td>\n",
       "      <td>Richardson, TX, United States</td>\n",
       "      <td>Full Time</td>\n",
       "      <td>Entry-level</td>\n",
       "      <td>48000.0</td>\n",
       "      <td>True</td>\n",
       "      <td>Mathematics</td>\n",
       "      <td>['Not-Specified']</td>\n",
       "      <td>United States</td>\n",
       "      <td>Data Analyst</td>\n",
       "    </tr>\n",
       "    <tr>\n",
       "      <th>4</th>\n",
       "      <td>SGS</td>\n",
       "      <td>Clinical Data Analyst</td>\n",
       "      <td>Richardson, TX, United States</td>\n",
       "      <td>Full Time</td>\n",
       "      <td>Entry-level</td>\n",
       "      <td>48000.0</td>\n",
       "      <td>True</td>\n",
       "      <td>SAS</td>\n",
       "      <td>['Not-Specified']</td>\n",
       "      <td>United States</td>\n",
       "      <td>Data Analyst</td>\n",
       "    </tr>\n",
       "  </tbody>\n",
       "</table>\n",
       "</div>"
      ],
      "text/plain": [
       "  Company              Job Title                       Location   Job Type   \n",
       "0     SGS  Clinical Data Analyst  Richardson, TX, United States  Full Time  \\\n",
       "1     SGS  Clinical Data Analyst  Richardson, TX, United States  Full Time   \n",
       "2     SGS  Clinical Data Analyst  Richardson, TX, United States  Full Time   \n",
       "3     SGS  Clinical Data Analyst  Richardson, TX, United States  Full Time   \n",
       "4     SGS  Clinical Data Analyst  Richardson, TX, United States  Full Time   \n",
       "\n",
       "  Experience level  MNM_Salary_USD  Salary_Star Requirment of the company   \n",
       "0      Entry-level         48000.0         True          Computer Science  \\\n",
       "1      Entry-level         48000.0         True              Data quality   \n",
       "2      Entry-level         48000.0         True                  Genetics   \n",
       "3      Entry-level         48000.0         True               Mathematics   \n",
       "4      Entry-level         48000.0         True                       SAS   \n",
       "\n",
       "          Facilities        Country Job Categorie  \n",
       "0  ['Not-Specified']  United States  Data Analyst  \n",
       "1  ['Not-Specified']  United States  Data Analyst  \n",
       "2  ['Not-Specified']  United States  Data Analyst  \n",
       "3  ['Not-Specified']  United States  Data Analyst  \n",
       "4  ['Not-Specified']  United States  Data Analyst  "
      ]
     },
     "execution_count": 41,
     "metadata": {},
     "output_type": "execute_result"
    }
   ],
   "source": [
    "new_df = new_df[new_df['Requirment of the company'].str.strip() != '']\n",
    "new_df.head()"
   ]
  },
  {
   "cell_type": "code",
   "execution_count": 42,
   "id": "eed28d8b",
   "metadata": {},
   "outputs": [],
   "source": [
    "new_df.to_csv('CleanedReq.csv', index=False)"
   ]
  },
  {
   "cell_type": "markdown",
   "id": "1556f619",
   "metadata": {},
   "source": [
    "# Analyzing and Vizualization"
   ]
  },
  {
   "cell_type": "code",
   "execution_count": 1,
   "id": "67b8e633",
   "metadata": {},
   "outputs": [],
   "source": [
    "import pandas as pd\n",
    "import numpy as np\n",
    "import matplotlib.pyplot as plt\n",
    "import seaborn as sns"
   ]
  },
  {
   "cell_type": "code",
   "execution_count": 2,
   "id": "9f94e08a",
   "metadata": {
    "scrolled": false
   },
   "outputs": [
    {
     "data": {
      "text/html": [
       "<div>\n",
       "<style scoped>\n",
       "    .dataframe tbody tr th:only-of-type {\n",
       "        vertical-align: middle;\n",
       "    }\n",
       "\n",
       "    .dataframe tbody tr th {\n",
       "        vertical-align: top;\n",
       "    }\n",
       "\n",
       "    .dataframe thead th {\n",
       "        text-align: right;\n",
       "    }\n",
       "</style>\n",
       "<table border=\"1\" class=\"dataframe\">\n",
       "  <thead>\n",
       "    <tr style=\"text-align: right;\">\n",
       "      <th></th>\n",
       "      <th>Company</th>\n",
       "      <th>Job Title</th>\n",
       "      <th>Location</th>\n",
       "      <th>Job Type</th>\n",
       "      <th>Experience level</th>\n",
       "      <th>MNM_Salary_USD</th>\n",
       "      <th>Salary_Star</th>\n",
       "      <th>Requirment of the company</th>\n",
       "      <th>Facilities</th>\n",
       "      <th>Country</th>\n",
       "      <th>Job Categorie</th>\n",
       "    </tr>\n",
       "  </thead>\n",
       "  <tbody>\n",
       "    <tr>\n",
       "      <th>0</th>\n",
       "      <td>SGS</td>\n",
       "      <td>Clinical Data Analyst</td>\n",
       "      <td>Richardson, TX, United States</td>\n",
       "      <td>Full Time</td>\n",
       "      <td>Entry-level</td>\n",
       "      <td>48000.0</td>\n",
       "      <td>True</td>\n",
       "      <td>Computer Science</td>\n",
       "      <td>['Not-Specified']</td>\n",
       "      <td>United States</td>\n",
       "      <td>Data Analyst</td>\n",
       "    </tr>\n",
       "    <tr>\n",
       "      <th>1</th>\n",
       "      <td>SGS</td>\n",
       "      <td>Clinical Data Analyst</td>\n",
       "      <td>Richardson, TX, United States</td>\n",
       "      <td>Full Time</td>\n",
       "      <td>Entry-level</td>\n",
       "      <td>48000.0</td>\n",
       "      <td>True</td>\n",
       "      <td>Data quality</td>\n",
       "      <td>['Not-Specified']</td>\n",
       "      <td>United States</td>\n",
       "      <td>Data Analyst</td>\n",
       "    </tr>\n",
       "    <tr>\n",
       "      <th>2</th>\n",
       "      <td>SGS</td>\n",
       "      <td>Clinical Data Analyst</td>\n",
       "      <td>Richardson, TX, United States</td>\n",
       "      <td>Full Time</td>\n",
       "      <td>Entry-level</td>\n",
       "      <td>48000.0</td>\n",
       "      <td>True</td>\n",
       "      <td>Genetics</td>\n",
       "      <td>['Not-Specified']</td>\n",
       "      <td>United States</td>\n",
       "      <td>Data Analyst</td>\n",
       "    </tr>\n",
       "    <tr>\n",
       "      <th>3</th>\n",
       "      <td>SGS</td>\n",
       "      <td>Clinical Data Analyst</td>\n",
       "      <td>Richardson, TX, United States</td>\n",
       "      <td>Full Time</td>\n",
       "      <td>Entry-level</td>\n",
       "      <td>48000.0</td>\n",
       "      <td>True</td>\n",
       "      <td>Mathematics</td>\n",
       "      <td>['Not-Specified']</td>\n",
       "      <td>United States</td>\n",
       "      <td>Data Analyst</td>\n",
       "    </tr>\n",
       "    <tr>\n",
       "      <th>4</th>\n",
       "      <td>SGS</td>\n",
       "      <td>Clinical Data Analyst</td>\n",
       "      <td>Richardson, TX, United States</td>\n",
       "      <td>Full Time</td>\n",
       "      <td>Entry-level</td>\n",
       "      <td>48000.0</td>\n",
       "      <td>True</td>\n",
       "      <td>SAS</td>\n",
       "      <td>['Not-Specified']</td>\n",
       "      <td>United States</td>\n",
       "      <td>Data Analyst</td>\n",
       "    </tr>\n",
       "    <tr>\n",
       "      <th>5</th>\n",
       "      <td>SGS</td>\n",
       "      <td>Clinical Data Analyst</td>\n",
       "      <td>Richardson, TX, United States</td>\n",
       "      <td>Full Time</td>\n",
       "      <td>Entry-level</td>\n",
       "      <td>48000.0</td>\n",
       "      <td>True</td>\n",
       "      <td>Statistics</td>\n",
       "      <td>['Not-Specified']</td>\n",
       "      <td>United States</td>\n",
       "      <td>Data Analyst</td>\n",
       "    </tr>\n",
       "    <tr>\n",
       "      <th>6</th>\n",
       "      <td>Ocorian</td>\n",
       "      <td>AML/CFT &amp; Data Analyst</td>\n",
       "      <td>Ebène, Mauritius</td>\n",
       "      <td>Full Time</td>\n",
       "      <td>Entry-level</td>\n",
       "      <td>48000.0</td>\n",
       "      <td>True</td>\n",
       "      <td>Agile</td>\n",
       "      <td>['Not-Specified']</td>\n",
       "      <td>Mauritius</td>\n",
       "      <td>Data Analyst</td>\n",
       "    </tr>\n",
       "    <tr>\n",
       "      <th>7</th>\n",
       "      <td>Ocorian</td>\n",
       "      <td>AML/CFT &amp; Data Analyst</td>\n",
       "      <td>Ebène, Mauritius</td>\n",
       "      <td>Full Time</td>\n",
       "      <td>Entry-level</td>\n",
       "      <td>48000.0</td>\n",
       "      <td>True</td>\n",
       "      <td>Data management</td>\n",
       "      <td>['Not-Specified']</td>\n",
       "      <td>Mauritius</td>\n",
       "      <td>Data Analyst</td>\n",
       "    </tr>\n",
       "    <tr>\n",
       "      <th>8</th>\n",
       "      <td>Ocorian</td>\n",
       "      <td>AML/CFT &amp; Data Analyst</td>\n",
       "      <td>Ebène, Mauritius</td>\n",
       "      <td>Full Time</td>\n",
       "      <td>Entry-level</td>\n",
       "      <td>48000.0</td>\n",
       "      <td>True</td>\n",
       "      <td>Finance</td>\n",
       "      <td>['Not-Specified']</td>\n",
       "      <td>Mauritius</td>\n",
       "      <td>Data Analyst</td>\n",
       "    </tr>\n",
       "    <tr>\n",
       "      <th>9</th>\n",
       "      <td>Ocorian</td>\n",
       "      <td>AML/CFT &amp; Data Analyst</td>\n",
       "      <td>Ebène, Mauritius</td>\n",
       "      <td>Full Time</td>\n",
       "      <td>Entry-level</td>\n",
       "      <td>48000.0</td>\n",
       "      <td>True</td>\n",
       "      <td>Security</td>\n",
       "      <td>['Not-Specified']</td>\n",
       "      <td>Mauritius</td>\n",
       "      <td>Data Analyst</td>\n",
       "    </tr>\n",
       "  </tbody>\n",
       "</table>\n",
       "</div>"
      ],
      "text/plain": [
       "   Company               Job Title                       Location   Job Type  \\\n",
       "0      SGS   Clinical Data Analyst  Richardson, TX, United States  Full Time   \n",
       "1      SGS   Clinical Data Analyst  Richardson, TX, United States  Full Time   \n",
       "2      SGS   Clinical Data Analyst  Richardson, TX, United States  Full Time   \n",
       "3      SGS   Clinical Data Analyst  Richardson, TX, United States  Full Time   \n",
       "4      SGS   Clinical Data Analyst  Richardson, TX, United States  Full Time   \n",
       "5      SGS   Clinical Data Analyst  Richardson, TX, United States  Full Time   \n",
       "6  Ocorian  AML/CFT & Data Analyst               Ebène, Mauritius  Full Time   \n",
       "7  Ocorian  AML/CFT & Data Analyst               Ebène, Mauritius  Full Time   \n",
       "8  Ocorian  AML/CFT & Data Analyst               Ebène, Mauritius  Full Time   \n",
       "9  Ocorian  AML/CFT & Data Analyst               Ebène, Mauritius  Full Time   \n",
       "\n",
       "  Experience level  MNM_Salary_USD  Salary_Star Requirment of the company  \\\n",
       "0      Entry-level         48000.0         True          Computer Science   \n",
       "1      Entry-level         48000.0         True              Data quality   \n",
       "2      Entry-level         48000.0         True                  Genetics   \n",
       "3      Entry-level         48000.0         True               Mathematics   \n",
       "4      Entry-level         48000.0         True                       SAS   \n",
       "5      Entry-level         48000.0         True                Statistics   \n",
       "6      Entry-level         48000.0         True                     Agile   \n",
       "7      Entry-level         48000.0         True           Data management   \n",
       "8      Entry-level         48000.0         True                   Finance   \n",
       "9      Entry-level         48000.0         True                  Security   \n",
       "\n",
       "          Facilities        Country Job Categorie  \n",
       "0  ['Not-Specified']  United States  Data Analyst  \n",
       "1  ['Not-Specified']  United States  Data Analyst  \n",
       "2  ['Not-Specified']  United States  Data Analyst  \n",
       "3  ['Not-Specified']  United States  Data Analyst  \n",
       "4  ['Not-Specified']  United States  Data Analyst  \n",
       "5  ['Not-Specified']  United States  Data Analyst  \n",
       "6  ['Not-Specified']      Mauritius  Data Analyst  \n",
       "7  ['Not-Specified']      Mauritius  Data Analyst  \n",
       "8  ['Not-Specified']      Mauritius  Data Analyst  \n",
       "9  ['Not-Specified']      Mauritius  Data Analyst  "
      ]
     },
     "execution_count": 2,
     "metadata": {},
     "output_type": "execute_result"
    }
   ],
   "source": [
    "cleanedReq=pd.read_csv('CleanedReq.csv')\n",
    "cleanedReq.head(10)"
   ]
  },
  {
   "cell_type": "markdown",
   "id": "07a18d66",
   "metadata": {},
   "source": [
    "### Les tendances clés du marché de l'emploi en IA, DS et Big Data"
   ]
  },
  {
   "cell_type": "code",
   "execution_count": 3,
   "id": "15359516",
   "metadata": {},
   "outputs": [
    {
     "data": {
      "text/plain": [
       "array(['Computer Science', 'Data quality', 'Genetics', 'Mathematics',\n",
       "       'SAS', 'Statistics', 'Agile', 'Data management', 'Finance',\n",
       "       'Security', 'Architecture', 'AWS', 'Computer Vision',\n",
       "       'Deep Learning', 'Engineering', 'Industrial', 'Oracle', 'Power BI',\n",
       "       'R', 'R&D', 'Azure', 'Consulting', 'Dataflow', 'Data pipelines',\n",
       "       'Machine Learning', 'NLP', 'NumPy', 'Banking', 'Excel',\n",
       "       'Business Intelligence', 'Big Data', 'Matlab', 'APIs',\n",
       "       'Data analysis', 'Keras', 'PhD', 'Business Analytics', 'Economics',\n",
       "       'Data Analytics', 'Market research', 'Privacy', 'Spark',\n",
       "       'BigQuery', 'LLMs', 'Pandas', 'Python', 'CUDA', 'Docker', 'Git',\n",
       "       'GitHub', 'GitLab', 'Redshift', 'Data warehouse', 'Looker',\n",
       "       'Data visualization', 'Metabase', 'E-commerce', 'Airflow',\n",
       "       'Clustering', 'Data governance', 'Data Mining', 'Blockchain',\n",
       "       'Databricks', 'SQL', 'CI/CD', 'DevOps', 'ETL', 'Crypto',\n",
       "       'Fraud risk', 'Tableau', 'Cybernetics', 'DataRobot', 'A/B testing',\n",
       "       'Angular', 'JavaScript', 'Data Warehousing', 'KPIs', 'ML models',\n",
       "       'Pipelines', 'Classification', 'Bigtable', 'Distributed Systems',\n",
       "       'GCP', 'Generative modeling', 'DataOps', 'Research', 'Testing',\n",
       "       'Hadoop', 'Dagster', 'Physics', 'Causal inference', 'CX',\n",
       "       'Autonomous Driving', 'Linux', 'Matplotlib', 'MongoDB', 'Jira',\n",
       "       'React', 'Consulting firm', 'MySQL', 'GANs', 'Athena', 'Cassandra',\n",
       "       'ELT', 'Snowflake', 'Econometrics', 'Biology', 'BERT', 'Chatbots',\n",
       "       'Dataproc', 'NoSQL', 'ASR', 'FinTech', 'Prototyping', 'Ansible',\n",
       "       'Elasticsearch', 'Credit risk', 'Google Cloud',\n",
       "       'Feature engineering', 'EDA', 'Data strategy', 'JSON',\n",
       "       'Model design', 'Airtable', 'PostgreSQL', 'DynamoDB', 'Bayesian',\n",
       "       'EC2', 'Kubernetes', 'OOP', 'Grafana', 'Diffusion models',\n",
       "       'Drug discovery', 'Kafka', 'AI strategy', 'GPT', 'Drones',\n",
       "       'Bitbucket', 'MLFlow', 'Conversational AI', 'ICLR', 'ICML',\n",
       "       'FiveTran', 'AI governance', 'Robotics', 'Scrum', 'Scala',\n",
       "       'Model training', 'SLAM', 'Streaming', 'Chemistry', 'CAD',\n",
       "       'HuggingFace', 'Cluster analysis', 'Qlik', 'Data Studio',\n",
       "       'Nonprofit', 'Avro', 'MS SQL', 'Healthcare technology',\n",
       "       'API Development', 'UX', 'Ruby', 'CMake', 'Open Source', 'Golang',\n",
       "       'Linear algebra', 'Machine intelligence', 'Caffe', 'VR', 'Jupyter',\n",
       "       'Lambda', 'Predictive modeling', 'Amplitude', 'MXNet', 'ChatGPT',\n",
       "       'Kinesis', 'TypeScript', 'DICOM', 'LangChain', 'Unstructured data',\n",
       "       'PHP', 'GPT-3', 'GPT-4', 'Azkaban', 'GPU', 'RDBMS', 'Flink',\n",
       "       'Haystack', 'Driver\\x92s license', 'Flask', 'Kanban', 'Parquet',\n",
       "       'OpenCV', 'STEM', 'MLOps', 'Plotly', 'D3', 'Circuit Design',\n",
       "       'EMNLP', 'ML infrastructure', 'Kubeflow', '3D Reconstruction',\n",
       "       'CSV', 'Elixir', 'OLAP', 'Julia', 'HPC', 'DB2', 'ECS',\n",
       "       'Content creation', 'Perl', 'Teaching', 'TensorFlow', 'ITIL',\n",
       "       'PyTorch', 'Lua', 'OpenAI', 'OCR', 'Pentaho', 'XML', 'XSD', 'AGI',\n",
       "       'DALL-E', 'Model inference', 'GloVe', 'Node.js', 'Informatica',\n",
       "       'OKR', 'Lidar', 'Periscope', 'SharePoint', 'HBase', 'PySpark',\n",
       "       'SSIS', 'NLTK', 'AIStats', 'Autoregressive models',\n",
       "       'Microservices', 'Minitab', 'SDLC', 'LookML', 'Core ML', 'Django',\n",
       "       'cuDNN', 'Anaconda', 'AI art', 'JAX', 'QlikView', '3D graphics',\n",
       "       'SDL', 'Vue', 'Biochemistry', 'AI content', 'REST API', 'KNIME',\n",
       "       'Alpaca', 'NLG', 'ANN', 'NeurIPS', 'Fortran', 'Transformers',\n",
       "       'Clinical NLP', 'Teradata', 'Kibana', 'HDFS', 'Arrow', 'C++',\n",
       "       '.NET', 'Travel', 'fastai', 'Horovod', 'ISO 27001', 'Copywriting',\n",
       "       'HiveQL', 'Splunk', 'LightGBM', 'Clojure', 'SIMD', 'ELK',\n",
       "       'Model deployment', 'CoreML', 'TDD', 'Recommender systems',\n",
       "       'Maven'], dtype=object)"
      ]
     },
     "execution_count": 3,
     "metadata": {},
     "output_type": "execute_result"
    }
   ],
   "source": [
    "skills_list=cleanedReq['Requirment of the company'].unique()\n",
    "skills_list"
   ]
  },
  {
   "cell_type": "code",
   "execution_count": 9,
   "id": "7ec20fdf",
   "metadata": {},
   "outputs": [
    {
     "data": {
      "text/html": [
       "\n",
       "    <div class=\"bk-root\">\n",
       "        <a href=\"https://bokeh.org\" target=\"_blank\" class=\"bk-logo bk-logo-small bk-logo-notebook\"></a>\n",
       "        <span id=\"1559\">Loading BokehJS ...</span>\n",
       "    </div>"
      ]
     },
     "metadata": {},
     "output_type": "display_data"
    },
    {
     "data": {
      "application/javascript": [
       "\n",
       "(function(root) {\n",
       "  function now() {\n",
       "    return new Date();\n",
       "  }\n",
       "\n",
       "  var force = true;\n",
       "\n",
       "  if (typeof root._bokeh_onload_callbacks === \"undefined\" || force === true) {\n",
       "    root._bokeh_onload_callbacks = [];\n",
       "    root._bokeh_is_loading = undefined;\n",
       "  }\n",
       "\n",
       "  var JS_MIME_TYPE = 'application/javascript';\n",
       "  var HTML_MIME_TYPE = 'text/html';\n",
       "  var EXEC_MIME_TYPE = 'application/vnd.bokehjs_exec.v0+json';\n",
       "  var CLASS_NAME = 'output_bokeh rendered_html';\n",
       "\n",
       "  /**\n",
       "   * Render data to the DOM node\n",
       "   */\n",
       "  function render(props, node) {\n",
       "    var script = document.createElement(\"script\");\n",
       "    node.appendChild(script);\n",
       "  }\n",
       "\n",
       "  /**\n",
       "   * Handle when an output is cleared or removed\n",
       "   */\n",
       "  function handleClearOutput(event, handle) {\n",
       "    var cell = handle.cell;\n",
       "\n",
       "    var id = cell.output_area._bokeh_element_id;\n",
       "    var server_id = cell.output_area._bokeh_server_id;\n",
       "    // Clean up Bokeh references\n",
       "    if (id != null && id in Bokeh.index) {\n",
       "      Bokeh.index[id].model.document.clear();\n",
       "      delete Bokeh.index[id];\n",
       "    }\n",
       "\n",
       "    if (server_id !== undefined) {\n",
       "      // Clean up Bokeh references\n",
       "      var cmd = \"from bokeh.io.state import curstate; print(curstate().uuid_to_server['\" + server_id + \"'].get_sessions()[0].document.roots[0]._id)\";\n",
       "      cell.notebook.kernel.execute(cmd, {\n",
       "        iopub: {\n",
       "          output: function(msg) {\n",
       "            var id = msg.content.text.trim();\n",
       "            if (id in Bokeh.index) {\n",
       "              Bokeh.index[id].model.document.clear();\n",
       "              delete Bokeh.index[id];\n",
       "            }\n",
       "          }\n",
       "        }\n",
       "      });\n",
       "      // Destroy server and session\n",
       "      var cmd = \"import bokeh.io.notebook as ion; ion.destroy_server('\" + server_id + \"')\";\n",
       "      cell.notebook.kernel.execute(cmd);\n",
       "    }\n",
       "  }\n",
       "\n",
       "  /**\n",
       "   * Handle when a new output is added\n",
       "   */\n",
       "  function handleAddOutput(event, handle) {\n",
       "    var output_area = handle.output_area;\n",
       "    var output = handle.output;\n",
       "\n",
       "    // limit handleAddOutput to display_data with EXEC_MIME_TYPE content only\n",
       "    if ((output.output_type != \"display_data\") || (!Object.prototype.hasOwnProperty.call(output.data, EXEC_MIME_TYPE))) {\n",
       "      return\n",
       "    }\n",
       "\n",
       "    var toinsert = output_area.element.find(\".\" + CLASS_NAME.split(' ')[0]);\n",
       "\n",
       "    if (output.metadata[EXEC_MIME_TYPE][\"id\"] !== undefined) {\n",
       "      toinsert[toinsert.length - 1].firstChild.textContent = output.data[JS_MIME_TYPE];\n",
       "      // store reference to embed id on output_area\n",
       "      output_area._bokeh_element_id = output.metadata[EXEC_MIME_TYPE][\"id\"];\n",
       "    }\n",
       "    if (output.metadata[EXEC_MIME_TYPE][\"server_id\"] !== undefined) {\n",
       "      var bk_div = document.createElement(\"div\");\n",
       "      bk_div.innerHTML = output.data[HTML_MIME_TYPE];\n",
       "      var script_attrs = bk_div.children[0].attributes;\n",
       "      for (var i = 0; i < script_attrs.length; i++) {\n",
       "        toinsert[toinsert.length - 1].firstChild.setAttribute(script_attrs[i].name, script_attrs[i].value);\n",
       "        toinsert[toinsert.length - 1].firstChild.textContent = bk_div.children[0].textContent\n",
       "      }\n",
       "      // store reference to server id on output_area\n",
       "      output_area._bokeh_server_id = output.metadata[EXEC_MIME_TYPE][\"server_id\"];\n",
       "    }\n",
       "  }\n",
       "\n",
       "  function register_renderer(events, OutputArea) {\n",
       "\n",
       "    function append_mime(data, metadata, element) {\n",
       "      // create a DOM node to render to\n",
       "      var toinsert = this.create_output_subarea(\n",
       "        metadata,\n",
       "        CLASS_NAME,\n",
       "        EXEC_MIME_TYPE\n",
       "      );\n",
       "      this.keyboard_manager.register_events(toinsert);\n",
       "      // Render to node\n",
       "      var props = {data: data, metadata: metadata[EXEC_MIME_TYPE]};\n",
       "      render(props, toinsert[toinsert.length - 1]);\n",
       "      element.append(toinsert);\n",
       "      return toinsert\n",
       "    }\n",
       "\n",
       "    /* Handle when an output is cleared or removed */\n",
       "    events.on('clear_output.CodeCell', handleClearOutput);\n",
       "    events.on('delete.Cell', handleClearOutput);\n",
       "\n",
       "    /* Handle when a new output is added */\n",
       "    events.on('output_added.OutputArea', handleAddOutput);\n",
       "\n",
       "    /**\n",
       "     * Register the mime type and append_mime function with output_area\n",
       "     */\n",
       "    OutputArea.prototype.register_mime_type(EXEC_MIME_TYPE, append_mime, {\n",
       "      /* Is output safe? */\n",
       "      safe: true,\n",
       "      /* Index of renderer in `output_area.display_order` */\n",
       "      index: 0\n",
       "    });\n",
       "  }\n",
       "\n",
       "  // register the mime type if in Jupyter Notebook environment and previously unregistered\n",
       "  if (root.Jupyter !== undefined) {\n",
       "    var events = require('base/js/events');\n",
       "    var OutputArea = require('notebook/js/outputarea').OutputArea;\n",
       "\n",
       "    if (OutputArea.prototype.mime_types().indexOf(EXEC_MIME_TYPE) == -1) {\n",
       "      register_renderer(events, OutputArea);\n",
       "    }\n",
       "  }\n",
       "\n",
       "  \n",
       "  if (typeof (root._bokeh_timeout) === \"undefined\" || force === true) {\n",
       "    root._bokeh_timeout = Date.now() + 5000;\n",
       "    root._bokeh_failed_load = false;\n",
       "  }\n",
       "\n",
       "  var NB_LOAD_WARNING = {'data': {'text/html':\n",
       "     \"<div style='background-color: #fdd'>\\n\"+\n",
       "     \"<p>\\n\"+\n",
       "     \"BokehJS does not appear to have successfully loaded. If loading BokehJS from CDN, this \\n\"+\n",
       "     \"may be due to a slow or bad network connection. Possible fixes:\\n\"+\n",
       "     \"</p>\\n\"+\n",
       "     \"<ul>\\n\"+\n",
       "     \"<li>re-rerun `output_notebook()` to attempt to load from CDN again, or</li>\\n\"+\n",
       "     \"<li>use INLINE resources instead, as so:</li>\\n\"+\n",
       "     \"</ul>\\n\"+\n",
       "     \"<code>\\n\"+\n",
       "     \"from bokeh.resources import INLINE\\n\"+\n",
       "     \"output_notebook(resources=INLINE)\\n\"+\n",
       "     \"</code>\\n\"+\n",
       "     \"</div>\"}};\n",
       "\n",
       "  function display_loaded() {\n",
       "    var el = document.getElementById(\"1559\");\n",
       "    if (el != null) {\n",
       "      el.textContent = \"BokehJS is loading...\";\n",
       "    }\n",
       "    if (root.Bokeh !== undefined) {\n",
       "      if (el != null) {\n",
       "        el.textContent = \"BokehJS \" + root.Bokeh.version + \" successfully loaded.\";\n",
       "      }\n",
       "    } else if (Date.now() < root._bokeh_timeout) {\n",
       "      setTimeout(display_loaded, 100)\n",
       "    }\n",
       "  }\n",
       "\n",
       "\n",
       "  function run_callbacks() {\n",
       "    try {\n",
       "      root._bokeh_onload_callbacks.forEach(function(callback) {\n",
       "        if (callback != null)\n",
       "          callback();\n",
       "      });\n",
       "    } finally {\n",
       "      delete root._bokeh_onload_callbacks\n",
       "    }\n",
       "    console.debug(\"Bokeh: all callbacks have finished\");\n",
       "  }\n",
       "\n",
       "  function load_libs(css_urls, js_urls, callback) {\n",
       "    if (css_urls == null) css_urls = [];\n",
       "    if (js_urls == null) js_urls = [];\n",
       "\n",
       "    root._bokeh_onload_callbacks.push(callback);\n",
       "    if (root._bokeh_is_loading > 0) {\n",
       "      console.debug(\"Bokeh: BokehJS is being loaded, scheduling callback at\", now());\n",
       "      return null;\n",
       "    }\n",
       "    if (js_urls == null || js_urls.length === 0) {\n",
       "      run_callbacks();\n",
       "      return null;\n",
       "    }\n",
       "    console.debug(\"Bokeh: BokehJS not loaded, scheduling load and callback at\", now());\n",
       "    root._bokeh_is_loading = css_urls.length + js_urls.length;\n",
       "\n",
       "    function on_load() {\n",
       "      root._bokeh_is_loading--;\n",
       "      if (root._bokeh_is_loading === 0) {\n",
       "        console.debug(\"Bokeh: all BokehJS libraries/stylesheets loaded\");\n",
       "        run_callbacks()\n",
       "      }\n",
       "    }\n",
       "\n",
       "    function on_error(url) {\n",
       "      console.error(\"failed to load \" + url);\n",
       "    }\n",
       "\n",
       "    for (let i = 0; i < css_urls.length; i++) {\n",
       "      const url = css_urls[i];\n",
       "      const element = document.createElement(\"link\");\n",
       "      element.onload = on_load;\n",
       "      element.onerror = on_error.bind(null, url);\n",
       "      element.rel = \"stylesheet\";\n",
       "      element.type = \"text/css\";\n",
       "      element.href = url;\n",
       "      console.debug(\"Bokeh: injecting link tag for BokehJS stylesheet: \", url);\n",
       "      document.body.appendChild(element);\n",
       "    }\n",
       "\n",
       "    const hashes = {\"https://cdn.bokeh.org/bokeh/release/bokeh-2.3.3.min.js\": \"dM3QQsP+wXdHg42wTqW85BjZQdLNNIXqlPw/BgKoExPmTG7ZLML4EGqLMfqHT6ON\", \"https://cdn.bokeh.org/bokeh/release/bokeh-tables-2.3.3.min.js\": \"8x57I4YuIfu8XyZfFo0XVr2WAT8EK4rh/uDe3wF7YuW2FNUSNEpJbsPaB1nJ2fz2\", \"https://cdn.bokeh.org/bokeh/release/bokeh-widgets-2.3.3.min.js\": \"3QTqdz9LyAm2i0sG5XTePsHec3UHWwVsrOL68SYRoAXsafvfAyqtQ+h440+qIBhS\"};\n",
       "\n",
       "    for (let i = 0; i < js_urls.length; i++) {\n",
       "      const url = js_urls[i];\n",
       "      const element = document.createElement('script');\n",
       "      element.onload = on_load;\n",
       "      element.onerror = on_error.bind(null, url);\n",
       "      element.async = false;\n",
       "      element.src = url;\n",
       "      if (url in hashes) {\n",
       "        element.crossOrigin = \"anonymous\";\n",
       "        element.integrity = \"sha384-\" + hashes[url];\n",
       "      }\n",
       "      console.debug(\"Bokeh: injecting script tag for BokehJS library: \", url);\n",
       "      document.head.appendChild(element);\n",
       "    }\n",
       "  };\n",
       "\n",
       "  function inject_raw_css(css) {\n",
       "    const element = document.createElement(\"style\");\n",
       "    element.appendChild(document.createTextNode(css));\n",
       "    document.body.appendChild(element);\n",
       "  }\n",
       "\n",
       "  \n",
       "  var js_urls = [\"https://cdn.bokeh.org/bokeh/release/bokeh-2.3.3.min.js\", \"https://cdn.bokeh.org/bokeh/release/bokeh-widgets-2.3.3.min.js\", \"https://cdn.bokeh.org/bokeh/release/bokeh-tables-2.3.3.min.js\"];\n",
       "  var css_urls = [];\n",
       "  \n",
       "\n",
       "  var inline_js = [\n",
       "    function(Bokeh) {\n",
       "      Bokeh.set_log_level(\"info\");\n",
       "    },\n",
       "    function(Bokeh) {\n",
       "    \n",
       "    \n",
       "    }\n",
       "  ];\n",
       "\n",
       "  function run_inline_js() {\n",
       "    \n",
       "    if (root.Bokeh !== undefined || force === true) {\n",
       "      \n",
       "    for (var i = 0; i < inline_js.length; i++) {\n",
       "      inline_js[i].call(root, root.Bokeh);\n",
       "    }\n",
       "    if (force === true) {\n",
       "        display_loaded();\n",
       "      }} else if (Date.now() < root._bokeh_timeout) {\n",
       "      setTimeout(run_inline_js, 100);\n",
       "    } else if (!root._bokeh_failed_load) {\n",
       "      console.log(\"Bokeh: BokehJS failed to load within specified timeout.\");\n",
       "      root._bokeh_failed_load = true;\n",
       "    } else if (force !== true) {\n",
       "      var cell = $(document.getElementById(\"1559\")).parents('.cell').data().cell;\n",
       "      cell.output_area.append_execute_result(NB_LOAD_WARNING)\n",
       "    }\n",
       "\n",
       "  }\n",
       "\n",
       "  if (root._bokeh_is_loading === 0) {\n",
       "    console.debug(\"Bokeh: BokehJS loaded, going straight to plotting\");\n",
       "    run_inline_js();\n",
       "  } else {\n",
       "    load_libs(css_urls, js_urls, function() {\n",
       "      console.debug(\"Bokeh: BokehJS plotting callback run at\", now());\n",
       "      run_inline_js();\n",
       "    });\n",
       "  }\n",
       "}(window));"
      ],
      "application/vnd.bokehjs_load.v0+json": "\n(function(root) {\n  function now() {\n    return new Date();\n  }\n\n  var force = true;\n\n  if (typeof root._bokeh_onload_callbacks === \"undefined\" || force === true) {\n    root._bokeh_onload_callbacks = [];\n    root._bokeh_is_loading = undefined;\n  }\n\n  \n\n  \n  if (typeof (root._bokeh_timeout) === \"undefined\" || force === true) {\n    root._bokeh_timeout = Date.now() + 5000;\n    root._bokeh_failed_load = false;\n  }\n\n  var NB_LOAD_WARNING = {'data': {'text/html':\n     \"<div style='background-color: #fdd'>\\n\"+\n     \"<p>\\n\"+\n     \"BokehJS does not appear to have successfully loaded. If loading BokehJS from CDN, this \\n\"+\n     \"may be due to a slow or bad network connection. Possible fixes:\\n\"+\n     \"</p>\\n\"+\n     \"<ul>\\n\"+\n     \"<li>re-rerun `output_notebook()` to attempt to load from CDN again, or</li>\\n\"+\n     \"<li>use INLINE resources instead, as so:</li>\\n\"+\n     \"</ul>\\n\"+\n     \"<code>\\n\"+\n     \"from bokeh.resources import INLINE\\n\"+\n     \"output_notebook(resources=INLINE)\\n\"+\n     \"</code>\\n\"+\n     \"</div>\"}};\n\n  function display_loaded() {\n    var el = document.getElementById(\"1559\");\n    if (el != null) {\n      el.textContent = \"BokehJS is loading...\";\n    }\n    if (root.Bokeh !== undefined) {\n      if (el != null) {\n        el.textContent = \"BokehJS \" + root.Bokeh.version + \" successfully loaded.\";\n      }\n    } else if (Date.now() < root._bokeh_timeout) {\n      setTimeout(display_loaded, 100)\n    }\n  }\n\n\n  function run_callbacks() {\n    try {\n      root._bokeh_onload_callbacks.forEach(function(callback) {\n        if (callback != null)\n          callback();\n      });\n    } finally {\n      delete root._bokeh_onload_callbacks\n    }\n    console.debug(\"Bokeh: all callbacks have finished\");\n  }\n\n  function load_libs(css_urls, js_urls, callback) {\n    if (css_urls == null) css_urls = [];\n    if (js_urls == null) js_urls = [];\n\n    root._bokeh_onload_callbacks.push(callback);\n    if (root._bokeh_is_loading > 0) {\n      console.debug(\"Bokeh: BokehJS is being loaded, scheduling callback at\", now());\n      return null;\n    }\n    if (js_urls == null || js_urls.length === 0) {\n      run_callbacks();\n      return null;\n    }\n    console.debug(\"Bokeh: BokehJS not loaded, scheduling load and callback at\", now());\n    root._bokeh_is_loading = css_urls.length + js_urls.length;\n\n    function on_load() {\n      root._bokeh_is_loading--;\n      if (root._bokeh_is_loading === 0) {\n        console.debug(\"Bokeh: all BokehJS libraries/stylesheets loaded\");\n        run_callbacks()\n      }\n    }\n\n    function on_error(url) {\n      console.error(\"failed to load \" + url);\n    }\n\n    for (let i = 0; i < css_urls.length; i++) {\n      const url = css_urls[i];\n      const element = document.createElement(\"link\");\n      element.onload = on_load;\n      element.onerror = on_error.bind(null, url);\n      element.rel = \"stylesheet\";\n      element.type = \"text/css\";\n      element.href = url;\n      console.debug(\"Bokeh: injecting link tag for BokehJS stylesheet: \", url);\n      document.body.appendChild(element);\n    }\n\n    const hashes = {\"https://cdn.bokeh.org/bokeh/release/bokeh-2.3.3.min.js\": \"dM3QQsP+wXdHg42wTqW85BjZQdLNNIXqlPw/BgKoExPmTG7ZLML4EGqLMfqHT6ON\", \"https://cdn.bokeh.org/bokeh/release/bokeh-tables-2.3.3.min.js\": \"8x57I4YuIfu8XyZfFo0XVr2WAT8EK4rh/uDe3wF7YuW2FNUSNEpJbsPaB1nJ2fz2\", \"https://cdn.bokeh.org/bokeh/release/bokeh-widgets-2.3.3.min.js\": \"3QTqdz9LyAm2i0sG5XTePsHec3UHWwVsrOL68SYRoAXsafvfAyqtQ+h440+qIBhS\"};\n\n    for (let i = 0; i < js_urls.length; i++) {\n      const url = js_urls[i];\n      const element = document.createElement('script');\n      element.onload = on_load;\n      element.onerror = on_error.bind(null, url);\n      element.async = false;\n      element.src = url;\n      if (url in hashes) {\n        element.crossOrigin = \"anonymous\";\n        element.integrity = \"sha384-\" + hashes[url];\n      }\n      console.debug(\"Bokeh: injecting script tag for BokehJS library: \", url);\n      document.head.appendChild(element);\n    }\n  };\n\n  function inject_raw_css(css) {\n    const element = document.createElement(\"style\");\n    element.appendChild(document.createTextNode(css));\n    document.body.appendChild(element);\n  }\n\n  \n  var js_urls = [\"https://cdn.bokeh.org/bokeh/release/bokeh-2.3.3.min.js\", \"https://cdn.bokeh.org/bokeh/release/bokeh-widgets-2.3.3.min.js\", \"https://cdn.bokeh.org/bokeh/release/bokeh-tables-2.3.3.min.js\"];\n  var css_urls = [];\n  \n\n  var inline_js = [\n    function(Bokeh) {\n      Bokeh.set_log_level(\"info\");\n    },\n    function(Bokeh) {\n    \n    \n    }\n  ];\n\n  function run_inline_js() {\n    \n    if (root.Bokeh !== undefined || force === true) {\n      \n    for (var i = 0; i < inline_js.length; i++) {\n      inline_js[i].call(root, root.Bokeh);\n    }\n    if (force === true) {\n        display_loaded();\n      }} else if (Date.now() < root._bokeh_timeout) {\n      setTimeout(run_inline_js, 100);\n    } else if (!root._bokeh_failed_load) {\n      console.log(\"Bokeh: BokehJS failed to load within specified timeout.\");\n      root._bokeh_failed_load = true;\n    } else if (force !== true) {\n      var cell = $(document.getElementById(\"1559\")).parents('.cell').data().cell;\n      cell.output_area.append_execute_result(NB_LOAD_WARNING)\n    }\n\n  }\n\n  if (root._bokeh_is_loading === 0) {\n    console.debug(\"Bokeh: BokehJS loaded, going straight to plotting\");\n    run_inline_js();\n  } else {\n    load_libs(css_urls, js_urls, function() {\n      console.debug(\"Bokeh: BokehJS plotting callback run at\", now());\n      run_inline_js();\n    });\n  }\n}(window));"
     },
     "metadata": {},
     "output_type": "display_data"
    },
    {
     "data": {
      "text/html": [
       "\n",
       "\n",
       "\n",
       "\n",
       "\n",
       "\n",
       "  <div class=\"bk-root\" id=\"db5f4627-d245-44c7-a16e-c80909375bc3\" data-root-id=\"1560\"></div>\n"
      ]
     },
     "metadata": {},
     "output_type": "display_data"
    },
    {
     "data": {
      "application/javascript": [
       "(function(root) {\n",
       "  function embed_document(root) {\n",
       "    \n",
       "  var docs_json = {\"7994d23f-0b7a-4798-ae5c-18787a13df44\":{\"defs\":[],\"roots\":{\"references\":[{\"attributes\":{\"below\":[{\"id\":\"1571\"}],\"center\":[{\"id\":\"1574\"},{\"id\":\"1578\"},{\"id\":\"1599\"}],\"height\":350,\"left\":[{\"id\":\"1575\"}],\"renderers\":[{\"id\":\"1588\"}],\"title\":{\"id\":\"1561\"},\"toolbar\":{\"id\":\"1580\"},\"toolbar_location\":null,\"x_range\":{\"id\":\"1563\"},\"x_scale\":{\"id\":\"1567\"},\"y_range\":{\"id\":\"1565\"},\"y_scale\":{\"id\":\"1569\"}},\"id\":\"1560\",\"subtype\":\"Figure\",\"type\":\"Plot\"},{\"attributes\":{\"items\":[{\"id\":\"1600\"}]},\"id\":\"1599\",\"type\":\"Legend\"},{\"attributes\":{\"source\":{\"id\":\"1584\"}},\"id\":\"1589\",\"type\":\"CDSView\"},{\"attributes\":{},\"id\":\"1594\",\"type\":\"BasicTickFormatter\"},{\"attributes\":{},\"id\":\"1591\",\"type\":\"BasicTickFormatter\"},{\"attributes\":{},\"id\":\"1592\",\"type\":\"AllLabels\"},{\"attributes\":{},\"id\":\"1595\",\"type\":\"AllLabels\"},{\"attributes\":{\"field\":\"angle\",\"include_zero\":true},\"id\":\"1582\",\"type\":\"CumSum\"},{\"attributes\":{},\"id\":\"1597\",\"type\":\"Selection\"},{\"attributes\":{},\"id\":\"1598\",\"type\":\"UnionRenderers\"},{\"attributes\":{},\"id\":\"1567\",\"type\":\"LinearScale\"},{\"attributes\":{\"label\":{\"field\":\"Category\"},\"renderers\":[{\"id\":\"1588\"}]},\"id\":\"1600\",\"type\":\"LegendItem\"},{\"attributes\":{},\"id\":\"1565\",\"type\":\"DataRange1d\"},{\"attributes\":{\"start\":-0.5},\"id\":\"1563\",\"type\":\"Range1d\"},{\"attributes\":{\"axis_label\":null,\"formatter\":{\"id\":\"1591\"},\"major_label_policy\":{\"id\":\"1592\"},\"ticker\":{\"id\":\"1576\"},\"visible\":false},\"id\":\"1575\",\"type\":\"LinearAxis\"},{\"attributes\":{},\"id\":\"1569\",\"type\":\"LinearScale\"},{\"attributes\":{\"axis_label\":null,\"formatter\":{\"id\":\"1594\"},\"major_label_policy\":{\"id\":\"1595\"},\"ticker\":{\"id\":\"1572\"},\"visible\":false},\"id\":\"1571\",\"type\":\"LinearAxis\"},{\"attributes\":{\"text\":\"Distribution of Categories\"},\"id\":\"1561\",\"type\":\"Title\"},{\"attributes\":{},\"id\":\"1572\",\"type\":\"BasicTicker\"},{\"attributes\":{},\"id\":\"1576\",\"type\":\"BasicTicker\"},{\"attributes\":{\"axis\":{\"id\":\"1571\"},\"grid_line_color\":null,\"ticker\":null},\"id\":\"1574\",\"type\":\"Grid\"},{\"attributes\":{\"axis\":{\"id\":\"1575\"},\"dimension\":1,\"grid_line_color\":null,\"ticker\":null},\"id\":\"1578\",\"type\":\"Grid\"},{\"attributes\":{\"field\":\"angle\"},\"id\":\"1583\",\"type\":\"CumSum\"},{\"attributes\":{\"callback\":null,\"tooltips\":\"@Category: @Percentage{0.2f}%\"},\"id\":\"1579\",\"type\":\"HoverTool\"},{\"attributes\":{\"active_multi\":null,\"tools\":[{\"id\":\"1579\"}]},\"id\":\"1580\",\"type\":\"Toolbar\"},{\"attributes\":{\"end_angle\":{\"expr\":{\"id\":\"1583\"}},\"fill_color\":{\"field\":\"color\"},\"line_color\":{\"value\":\"white\"},\"radius\":{\"value\":0.4},\"start_angle\":{\"expr\":{\"id\":\"1582\"}},\"x\":{\"value\":0},\"y\":{\"value\":1}},\"id\":\"1586\",\"type\":\"Wedge\"},{\"attributes\":{\"data\":{\"Category\":[\"IA\",\"DS\",\"Big Data\"],\"Count\":[986,1952,469],\"Percentage\":{\"__ndarray__\":\"kzWZJ7/wPEANKKV2m6VMQKj0ONYTiCtA\",\"dtype\":\"float64\",\"order\":\"little\",\"shape\":[3]},\"angle\":{\"__ndarray__\":\"c8ilpBUY/T/QVzHRi8wMQJh4EBSAres/\",\"dtype\":\"float64\",\"order\":\"little\",\"shape\":[3]},\"color\":[\"#3182bd\",\"#6baed6\",\"#9ecae1\"],\"index\":[0,1,2]},\"selected\":{\"id\":\"1597\"},\"selection_policy\":{\"id\":\"1598\"}},\"id\":\"1584\",\"type\":\"ColumnDataSource\"},{\"attributes\":{\"data_source\":{\"id\":\"1584\"},\"glyph\":{\"id\":\"1586\"},\"hover_glyph\":null,\"muted_glyph\":null,\"nonselection_glyph\":{\"id\":\"1587\"},\"view\":{\"id\":\"1589\"}},\"id\":\"1588\",\"type\":\"GlyphRenderer\"},{\"attributes\":{\"end_angle\":{\"expr\":{\"id\":\"1583\"}},\"fill_alpha\":{\"value\":0.1},\"fill_color\":{\"field\":\"color\"},\"line_alpha\":{\"value\":0.1},\"line_color\":{\"value\":\"white\"},\"radius\":{\"value\":0.4},\"start_angle\":{\"expr\":{\"id\":\"1582\"}},\"x\":{\"value\":0},\"y\":{\"value\":1}},\"id\":\"1587\",\"type\":\"Wedge\"}],\"root_ids\":[\"1560\"]},\"title\":\"Bokeh Application\",\"version\":\"2.3.3\"}};\n",
       "  var render_items = [{\"docid\":\"7994d23f-0b7a-4798-ae5c-18787a13df44\",\"root_ids\":[\"1560\"],\"roots\":{\"1560\":\"db5f4627-d245-44c7-a16e-c80909375bc3\"}}];\n",
       "  root.Bokeh.embed.embed_items_notebook(docs_json, render_items);\n",
       "\n",
       "  }\n",
       "  if (root.Bokeh !== undefined) {\n",
       "    embed_document(root);\n",
       "  } else {\n",
       "    var attempts = 0;\n",
       "    var timer = setInterval(function(root) {\n",
       "      if (root.Bokeh !== undefined) {\n",
       "        clearInterval(timer);\n",
       "        embed_document(root);\n",
       "      } else {\n",
       "        attempts++;\n",
       "        if (attempts > 100) {\n",
       "          clearInterval(timer);\n",
       "          console.log(\"Bokeh: ERROR: Unable to run BokehJS code because BokehJS library is missing\");\n",
       "        }\n",
       "      }\n",
       "    }, 10, root)\n",
       "  }\n",
       "})(window);"
      ],
      "application/vnd.bokehjs_exec.v0+json": ""
     },
     "metadata": {
      "application/vnd.bokehjs_exec.v0+json": {
       "id": "1560"
      }
     },
     "output_type": "display_data"
    }
   ],
   "source": [
    "from bokeh.plotting import figure, show\n",
    "from bokeh.io import output_notebook\n",
    "from bokeh.transform import cumsum\n",
    "from bokeh.palettes import Category20c\n",
    "from math import pi\n",
    "\n",
    "# Define the lists of keywords for each category\n",
    "ia_keywords = ['Computer Vision', 'Deep Learning', 'Machine Learning', 'NLP', 'EMNLP', 'Clinical NLP']\n",
    "ds_keywords = ['Big Data', 'Data analysis', 'Data Analytics', 'Data visualization', 'Data Mining']\n",
    "big_data_keywords = ['Data pipelines', 'Spark', 'Data Warehousing', 'Hadoop', 'PySpark']\n",
    "\n",
    "# Group the values in the \"Requirment of the company\" column based on the keywords\n",
    "ia_count = cleanedReq['Requirment of the company'].apply(lambda x: any(keyword in x for keyword in ia_keywords)).sum()\n",
    "ds_count = cleanedReq['Requirment of the company'].apply(lambda x: any(keyword in x for keyword in ds_keywords)).sum()\n",
    "big_data_count = cleanedReq['Requirment of the company'].apply(lambda x: any(keyword in x for keyword in big_data_keywords)).sum()\n",
    "\n",
    "# Create a dictionary to store the counts\n",
    "category_counts = {\n",
    "    'IA': ia_count,\n",
    "    'DS': ds_count,\n",
    "    'Big Data': big_data_count\n",
    "}\n",
    "\n",
    "# Convert the dictionary to a DataFrame for plotting\n",
    "category_df = pd.DataFrame.from_dict(category_counts, orient='index', columns=['Count'])\n",
    "\n",
    "# Calculate the percentage\n",
    "category_df['Percentage'] = (category_df['Count'] / category_df['Count'].sum()) * 100\n",
    "\n",
    "# Create a pie chart using Bokeh\n",
    "output_notebook()\n",
    "\n",
    "data = category_df.reset_index()\n",
    "data.columns = ['Category', 'Count', 'Percentage']\n",
    "\n",
    "data['angle'] = data['Count'] / data['Count'].sum() * 2 * pi\n",
    "data['color'] = Category20c[len(category_df)]\n",
    "\n",
    "p = figure(height=350, title=\"Distribution of Categories\", toolbar_location=None,\n",
    "           tools=\"hover\", tooltips=\"@Category: @Percentage{0.2f}%\", x_range=(-0.5, 1.0))\n",
    "\n",
    "p.wedge(x=0, y=1, radius=0.4,\n",
    "        start_angle=cumsum('angle', include_zero=True), end_angle=cumsum('angle'),\n",
    "        line_color=\"white\", fill_color='color', legend_field='Category', source=data)\n",
    "\n",
    "p.axis.axis_label = None\n",
    "p.axis.visible = False\n",
    "p.grid.grid_line_color = None\n",
    "\n",
    "show(p)"
   ]
  },
  {
   "cell_type": "code",
   "execution_count": 10,
   "id": "b8e2c495",
   "metadata": {},
   "outputs": [
    {
     "data": {
      "text/html": [
       "<div>\n",
       "<style scoped>\n",
       "    .dataframe tbody tr th:only-of-type {\n",
       "        vertical-align: middle;\n",
       "    }\n",
       "\n",
       "    .dataframe tbody tr th {\n",
       "        vertical-align: top;\n",
       "    }\n",
       "\n",
       "    .dataframe thead th {\n",
       "        text-align: right;\n",
       "    }\n",
       "</style>\n",
       "<table border=\"1\" class=\"dataframe\">\n",
       "  <thead>\n",
       "    <tr style=\"text-align: right;\">\n",
       "      <th></th>\n",
       "      <th>Company</th>\n",
       "      <th>Job Title</th>\n",
       "      <th>Location</th>\n",
       "      <th>Job Type</th>\n",
       "      <th>Experience level</th>\n",
       "      <th>MNM_Salary_USD</th>\n",
       "      <th>Salary_Star</th>\n",
       "      <th>Requirment of the company</th>\n",
       "      <th>Facilities</th>\n",
       "      <th>Country</th>\n",
       "      <th>Job Categorie</th>\n",
       "    </tr>\n",
       "  </thead>\n",
       "  <tbody>\n",
       "    <tr>\n",
       "      <th>0</th>\n",
       "      <td>SGS</td>\n",
       "      <td>Clinical Data Analyst</td>\n",
       "      <td>Richardson, TX, United States</td>\n",
       "      <td>Full Time</td>\n",
       "      <td>Entry-level</td>\n",
       "      <td>48000.0</td>\n",
       "      <td>True</td>\n",
       "      <td>Computer Science,Data quality,Genetics,Mathema...</td>\n",
       "      <td>['Not-Specified']</td>\n",
       "      <td>United States</td>\n",
       "      <td>Data Analyst</td>\n",
       "    </tr>\n",
       "    <tr>\n",
       "      <th>1</th>\n",
       "      <td>Ocorian</td>\n",
       "      <td>AML/CFT &amp; Data Analyst</td>\n",
       "      <td>Ebène, Mauritius</td>\n",
       "      <td>Full Time</td>\n",
       "      <td>Entry-level</td>\n",
       "      <td>48000.0</td>\n",
       "      <td>True</td>\n",
       "      <td>Agile,Data management,Finance,Security,,</td>\n",
       "      <td>['Not-Specified']</td>\n",
       "      <td>Mauritius</td>\n",
       "      <td>Data Analyst</td>\n",
       "    </tr>\n",
       "    <tr>\n",
       "      <th>2</th>\n",
       "      <td>Cricut</td>\n",
       "      <td>Machine Learning Engineer</td>\n",
       "      <td>South Jordan, UT, United States</td>\n",
       "      <td>Full Time</td>\n",
       "      <td>Not-Specified</td>\n",
       "      <td>90000.0</td>\n",
       "      <td>True</td>\n",
       "      <td>Agile,Architecture,AWS,Computer Science,Comput...</td>\n",
       "      <td>['Career development']</td>\n",
       "      <td>United States</td>\n",
       "      <td>Machine Learning Engineer</td>\n",
       "    </tr>\n",
       "    <tr>\n",
       "      <th>3</th>\n",
       "      <td>Bosch Group</td>\n",
       "      <td>Application Developer &amp; Data Analyst</td>\n",
       "      <td>Nonantola, Italy</td>\n",
       "      <td>Full Time</td>\n",
       "      <td>Entry-level</td>\n",
       "      <td>48000.0</td>\n",
       "      <td>True</td>\n",
       "      <td>Engineering,Industrial,Oracle,Power BI,R,R&amp;D</td>\n",
       "      <td>['Not-Specified']</td>\n",
       "      <td>Italy</td>\n",
       "      <td>Data Analyst</td>\n",
       "    </tr>\n",
       "    <tr>\n",
       "      <th>4</th>\n",
       "      <td>Publicis Groupe</td>\n",
       "      <td>Data Engineer Full time (Public Sector) USA</td>\n",
       "      <td>Arlington, VA, United States</td>\n",
       "      <td>Full Time</td>\n",
       "      <td>Mid-level</td>\n",
       "      <td>108000.0</td>\n",
       "      <td>False</td>\n",
       "      <td>AWS,Azure,Computer Science,Consulting,Dataflow...</td>\n",
       "      <td>['Flex hours', 'Flex vacation', 'Parental leav...</td>\n",
       "      <td>United States</td>\n",
       "      <td>Data Engineer</td>\n",
       "    </tr>\n",
       "  </tbody>\n",
       "</table>\n",
       "</div>"
      ],
      "text/plain": [
       "           Company                                    Job Title  \\\n",
       "0              SGS                        Clinical Data Analyst   \n",
       "1          Ocorian                       AML/CFT & Data Analyst   \n",
       "2           Cricut                    Machine Learning Engineer   \n",
       "3      Bosch Group         Application Developer & Data Analyst   \n",
       "4  Publicis Groupe  Data Engineer Full time (Public Sector) USA   \n",
       "\n",
       "                          Location   Job Type Experience level  \\\n",
       "0    Richardson, TX, United States  Full Time      Entry-level   \n",
       "1                 Ebène, Mauritius  Full Time      Entry-level   \n",
       "2  South Jordan, UT, United States  Full Time    Not-Specified   \n",
       "3                 Nonantola, Italy  Full Time      Entry-level   \n",
       "4     Arlington, VA, United States  Full Time        Mid-level   \n",
       "\n",
       "   MNM_Salary_USD  Salary_Star  \\\n",
       "0         48000.0         True   \n",
       "1         48000.0         True   \n",
       "2         90000.0         True   \n",
       "3         48000.0         True   \n",
       "4        108000.0        False   \n",
       "\n",
       "                           Requirment of the company  \\\n",
       "0  Computer Science,Data quality,Genetics,Mathema...   \n",
       "1           Agile,Data management,Finance,Security,,   \n",
       "2  Agile,Architecture,AWS,Computer Science,Comput...   \n",
       "3       Engineering,Industrial,Oracle,Power BI,R,R&D   \n",
       "4  AWS,Azure,Computer Science,Consulting,Dataflow...   \n",
       "\n",
       "                                          Facilities        Country  \\\n",
       "0                                  ['Not-Specified']  United States   \n",
       "1                                  ['Not-Specified']      Mauritius   \n",
       "2                             ['Career development']  United States   \n",
       "3                                  ['Not-Specified']          Italy   \n",
       "4  ['Flex hours', 'Flex vacation', 'Parental leav...  United States   \n",
       "\n",
       "               Job Categorie  \n",
       "0               Data Analyst  \n",
       "1               Data Analyst  \n",
       "2  Machine Learning Engineer  \n",
       "3               Data Analyst  \n",
       "4              Data Engineer  "
      ]
     },
     "execution_count": 10,
     "metadata": {},
     "output_type": "execute_result"
    }
   ],
   "source": [
    "cleaned=pd.read_csv('Cleaned.csv')\n",
    "cleaned.head()"
   ]
  },
  {
   "cell_type": "markdown",
   "id": "7ac7c673",
   "metadata": {},
   "source": [
    "### Les compétences les plus demandées pour un Data Scientist"
   ]
  },
  {
   "cell_type": "code",
   "execution_count": 25,
   "id": "4e46fa32",
   "metadata": {},
   "outputs": [
    {
     "data": {
      "application/vnd.plotly.v1+json": {
       "config": {
        "plotlyServerURL": "https://plot.ly"
       },
       "data": [
        {
         "alignmentgroup": "True",
         "hovertemplate": "index=%{x}<br>y=%{y}<br>color=%{marker.color}<extra></extra>",
         "legendgroup": "",
         "marker": {
          "color": [
           178,
           153,
           121,
           88,
           79,
           74,
           70,
           58,
           56,
           51
          ],
          "coloraxis": "coloraxis",
          "pattern": {
           "shape": ""
          }
         },
         "name": "",
         "offsetgroup": "",
         "orientation": "v",
         "showlegend": false,
         "textposition": "auto",
         "type": "bar",
         "x": [
          "ComputerScience",
          "Engineering",
          "MachineLearning",
          "Dataanalysis",
          "BigData",
          "AWS",
          "DataMining",
          "DeepLearning",
          "Agile",
          "Mathematics"
         ],
         "xaxis": "x",
         "y": [
          178,
          153,
          121,
          88,
          79,
          74,
          70,
          58,
          56,
          51
         ],
         "yaxis": "y"
        }
       ],
       "layout": {
        "barmode": "relative",
        "coloraxis": {
         "colorbar": {
          "title": {
           "text": "color"
          }
         },
         "colorscale": [
          [
           0,
           "#440154"
          ],
          [
           0.1111111111111111,
           "#482878"
          ],
          [
           0.2222222222222222,
           "#3e4989"
          ],
          [
           0.3333333333333333,
           "#31688e"
          ],
          [
           0.4444444444444444,
           "#26828e"
          ],
          [
           0.5555555555555556,
           "#1f9e89"
          ],
          [
           0.6666666666666666,
           "#35b779"
          ],
          [
           0.7777777777777778,
           "#6ece58"
          ],
          [
           0.8888888888888888,
           "#b5de2b"
          ],
          [
           1,
           "#fde725"
          ]
         ]
        },
        "legend": {
         "tracegroupgap": 0
        },
        "template": {
         "data": {
          "bar": [
           {
            "error_x": {
             "color": "#2a3f5f"
            },
            "error_y": {
             "color": "#2a3f5f"
            },
            "marker": {
             "line": {
              "color": "#E5ECF6",
              "width": 0.5
             },
             "pattern": {
              "fillmode": "overlay",
              "size": 10,
              "solidity": 0.2
             }
            },
            "type": "bar"
           }
          ],
          "barpolar": [
           {
            "marker": {
             "line": {
              "color": "#E5ECF6",
              "width": 0.5
             },
             "pattern": {
              "fillmode": "overlay",
              "size": 10,
              "solidity": 0.2
             }
            },
            "type": "barpolar"
           }
          ],
          "carpet": [
           {
            "aaxis": {
             "endlinecolor": "#2a3f5f",
             "gridcolor": "white",
             "linecolor": "white",
             "minorgridcolor": "white",
             "startlinecolor": "#2a3f5f"
            },
            "baxis": {
             "endlinecolor": "#2a3f5f",
             "gridcolor": "white",
             "linecolor": "white",
             "minorgridcolor": "white",
             "startlinecolor": "#2a3f5f"
            },
            "type": "carpet"
           }
          ],
          "choropleth": [
           {
            "colorbar": {
             "outlinewidth": 0,
             "ticks": ""
            },
            "type": "choropleth"
           }
          ],
          "contour": [
           {
            "colorbar": {
             "outlinewidth": 0,
             "ticks": ""
            },
            "colorscale": [
             [
              0,
              "#0d0887"
             ],
             [
              0.1111111111111111,
              "#46039f"
             ],
             [
              0.2222222222222222,
              "#7201a8"
             ],
             [
              0.3333333333333333,
              "#9c179e"
             ],
             [
              0.4444444444444444,
              "#bd3786"
             ],
             [
              0.5555555555555556,
              "#d8576b"
             ],
             [
              0.6666666666666666,
              "#ed7953"
             ],
             [
              0.7777777777777778,
              "#fb9f3a"
             ],
             [
              0.8888888888888888,
              "#fdca26"
             ],
             [
              1,
              "#f0f921"
             ]
            ],
            "type": "contour"
           }
          ],
          "contourcarpet": [
           {
            "colorbar": {
             "outlinewidth": 0,
             "ticks": ""
            },
            "type": "contourcarpet"
           }
          ],
          "heatmap": [
           {
            "colorbar": {
             "outlinewidth": 0,
             "ticks": ""
            },
            "colorscale": [
             [
              0,
              "#0d0887"
             ],
             [
              0.1111111111111111,
              "#46039f"
             ],
             [
              0.2222222222222222,
              "#7201a8"
             ],
             [
              0.3333333333333333,
              "#9c179e"
             ],
             [
              0.4444444444444444,
              "#bd3786"
             ],
             [
              0.5555555555555556,
              "#d8576b"
             ],
             [
              0.6666666666666666,
              "#ed7953"
             ],
             [
              0.7777777777777778,
              "#fb9f3a"
             ],
             [
              0.8888888888888888,
              "#fdca26"
             ],
             [
              1,
              "#f0f921"
             ]
            ],
            "type": "heatmap"
           }
          ],
          "heatmapgl": [
           {
            "colorbar": {
             "outlinewidth": 0,
             "ticks": ""
            },
            "colorscale": [
             [
              0,
              "#0d0887"
             ],
             [
              0.1111111111111111,
              "#46039f"
             ],
             [
              0.2222222222222222,
              "#7201a8"
             ],
             [
              0.3333333333333333,
              "#9c179e"
             ],
             [
              0.4444444444444444,
              "#bd3786"
             ],
             [
              0.5555555555555556,
              "#d8576b"
             ],
             [
              0.6666666666666666,
              "#ed7953"
             ],
             [
              0.7777777777777778,
              "#fb9f3a"
             ],
             [
              0.8888888888888888,
              "#fdca26"
             ],
             [
              1,
              "#f0f921"
             ]
            ],
            "type": "heatmapgl"
           }
          ],
          "histogram": [
           {
            "marker": {
             "pattern": {
              "fillmode": "overlay",
              "size": 10,
              "solidity": 0.2
             }
            },
            "type": "histogram"
           }
          ],
          "histogram2d": [
           {
            "colorbar": {
             "outlinewidth": 0,
             "ticks": ""
            },
            "colorscale": [
             [
              0,
              "#0d0887"
             ],
             [
              0.1111111111111111,
              "#46039f"
             ],
             [
              0.2222222222222222,
              "#7201a8"
             ],
             [
              0.3333333333333333,
              "#9c179e"
             ],
             [
              0.4444444444444444,
              "#bd3786"
             ],
             [
              0.5555555555555556,
              "#d8576b"
             ],
             [
              0.6666666666666666,
              "#ed7953"
             ],
             [
              0.7777777777777778,
              "#fb9f3a"
             ],
             [
              0.8888888888888888,
              "#fdca26"
             ],
             [
              1,
              "#f0f921"
             ]
            ],
            "type": "histogram2d"
           }
          ],
          "histogram2dcontour": [
           {
            "colorbar": {
             "outlinewidth": 0,
             "ticks": ""
            },
            "colorscale": [
             [
              0,
              "#0d0887"
             ],
             [
              0.1111111111111111,
              "#46039f"
             ],
             [
              0.2222222222222222,
              "#7201a8"
             ],
             [
              0.3333333333333333,
              "#9c179e"
             ],
             [
              0.4444444444444444,
              "#bd3786"
             ],
             [
              0.5555555555555556,
              "#d8576b"
             ],
             [
              0.6666666666666666,
              "#ed7953"
             ],
             [
              0.7777777777777778,
              "#fb9f3a"
             ],
             [
              0.8888888888888888,
              "#fdca26"
             ],
             [
              1,
              "#f0f921"
             ]
            ],
            "type": "histogram2dcontour"
           }
          ],
          "mesh3d": [
           {
            "colorbar": {
             "outlinewidth": 0,
             "ticks": ""
            },
            "type": "mesh3d"
           }
          ],
          "parcoords": [
           {
            "line": {
             "colorbar": {
              "outlinewidth": 0,
              "ticks": ""
             }
            },
            "type": "parcoords"
           }
          ],
          "pie": [
           {
            "automargin": true,
            "type": "pie"
           }
          ],
          "scatter": [
           {
            "fillpattern": {
             "fillmode": "overlay",
             "size": 10,
             "solidity": 0.2
            },
            "type": "scatter"
           }
          ],
          "scatter3d": [
           {
            "line": {
             "colorbar": {
              "outlinewidth": 0,
              "ticks": ""
             }
            },
            "marker": {
             "colorbar": {
              "outlinewidth": 0,
              "ticks": ""
             }
            },
            "type": "scatter3d"
           }
          ],
          "scattercarpet": [
           {
            "marker": {
             "colorbar": {
              "outlinewidth": 0,
              "ticks": ""
             }
            },
            "type": "scattercarpet"
           }
          ],
          "scattergeo": [
           {
            "marker": {
             "colorbar": {
              "outlinewidth": 0,
              "ticks": ""
             }
            },
            "type": "scattergeo"
           }
          ],
          "scattergl": [
           {
            "marker": {
             "colorbar": {
              "outlinewidth": 0,
              "ticks": ""
             }
            },
            "type": "scattergl"
           }
          ],
          "scattermapbox": [
           {
            "marker": {
             "colorbar": {
              "outlinewidth": 0,
              "ticks": ""
             }
            },
            "type": "scattermapbox"
           }
          ],
          "scatterpolar": [
           {
            "marker": {
             "colorbar": {
              "outlinewidth": 0,
              "ticks": ""
             }
            },
            "type": "scatterpolar"
           }
          ],
          "scatterpolargl": [
           {
            "marker": {
             "colorbar": {
              "outlinewidth": 0,
              "ticks": ""
             }
            },
            "type": "scatterpolargl"
           }
          ],
          "scatterternary": [
           {
            "marker": {
             "colorbar": {
              "outlinewidth": 0,
              "ticks": ""
             }
            },
            "type": "scatterternary"
           }
          ],
          "surface": [
           {
            "colorbar": {
             "outlinewidth": 0,
             "ticks": ""
            },
            "colorscale": [
             [
              0,
              "#0d0887"
             ],
             [
              0.1111111111111111,
              "#46039f"
             ],
             [
              0.2222222222222222,
              "#7201a8"
             ],
             [
              0.3333333333333333,
              "#9c179e"
             ],
             [
              0.4444444444444444,
              "#bd3786"
             ],
             [
              0.5555555555555556,
              "#d8576b"
             ],
             [
              0.6666666666666666,
              "#ed7953"
             ],
             [
              0.7777777777777778,
              "#fb9f3a"
             ],
             [
              0.8888888888888888,
              "#fdca26"
             ],
             [
              1,
              "#f0f921"
             ]
            ],
            "type": "surface"
           }
          ],
          "table": [
           {
            "cells": {
             "fill": {
              "color": "#EBF0F8"
             },
             "line": {
              "color": "white"
             }
            },
            "header": {
             "fill": {
              "color": "#C8D4E3"
             },
             "line": {
              "color": "white"
             }
            },
            "type": "table"
           }
          ]
         },
         "layout": {
          "annotationdefaults": {
           "arrowcolor": "#2a3f5f",
           "arrowhead": 0,
           "arrowwidth": 1
          },
          "autotypenumbers": "strict",
          "coloraxis": {
           "colorbar": {
            "outlinewidth": 0,
            "ticks": ""
           }
          },
          "colorscale": {
           "diverging": [
            [
             0,
             "#8e0152"
            ],
            [
             0.1,
             "#c51b7d"
            ],
            [
             0.2,
             "#de77ae"
            ],
            [
             0.3,
             "#f1b6da"
            ],
            [
             0.4,
             "#fde0ef"
            ],
            [
             0.5,
             "#f7f7f7"
            ],
            [
             0.6,
             "#e6f5d0"
            ],
            [
             0.7,
             "#b8e186"
            ],
            [
             0.8,
             "#7fbc41"
            ],
            [
             0.9,
             "#4d9221"
            ],
            [
             1,
             "#276419"
            ]
           ],
           "sequential": [
            [
             0,
             "#0d0887"
            ],
            [
             0.1111111111111111,
             "#46039f"
            ],
            [
             0.2222222222222222,
             "#7201a8"
            ],
            [
             0.3333333333333333,
             "#9c179e"
            ],
            [
             0.4444444444444444,
             "#bd3786"
            ],
            [
             0.5555555555555556,
             "#d8576b"
            ],
            [
             0.6666666666666666,
             "#ed7953"
            ],
            [
             0.7777777777777778,
             "#fb9f3a"
            ],
            [
             0.8888888888888888,
             "#fdca26"
            ],
            [
             1,
             "#f0f921"
            ]
           ],
           "sequentialminus": [
            [
             0,
             "#0d0887"
            ],
            [
             0.1111111111111111,
             "#46039f"
            ],
            [
             0.2222222222222222,
             "#7201a8"
            ],
            [
             0.3333333333333333,
             "#9c179e"
            ],
            [
             0.4444444444444444,
             "#bd3786"
            ],
            [
             0.5555555555555556,
             "#d8576b"
            ],
            [
             0.6666666666666666,
             "#ed7953"
            ],
            [
             0.7777777777777778,
             "#fb9f3a"
            ],
            [
             0.8888888888888888,
             "#fdca26"
            ],
            [
             1,
             "#f0f921"
            ]
           ]
          },
          "colorway": [
           "#636efa",
           "#EF553B",
           "#00cc96",
           "#ab63fa",
           "#FFA15A",
           "#19d3f3",
           "#FF6692",
           "#B6E880",
           "#FF97FF",
           "#FECB52"
          ],
          "font": {
           "color": "#2a3f5f"
          },
          "geo": {
           "bgcolor": "white",
           "lakecolor": "white",
           "landcolor": "#E5ECF6",
           "showlakes": true,
           "showland": true,
           "subunitcolor": "white"
          },
          "hoverlabel": {
           "align": "left"
          },
          "hovermode": "closest",
          "mapbox": {
           "style": "light"
          },
          "paper_bgcolor": "white",
          "plot_bgcolor": "#E5ECF6",
          "polar": {
           "angularaxis": {
            "gridcolor": "white",
            "linecolor": "white",
            "ticks": ""
           },
           "bgcolor": "#E5ECF6",
           "radialaxis": {
            "gridcolor": "white",
            "linecolor": "white",
            "ticks": ""
           }
          },
          "scene": {
           "xaxis": {
            "backgroundcolor": "#E5ECF6",
            "gridcolor": "white",
            "gridwidth": 2,
            "linecolor": "white",
            "showbackground": true,
            "ticks": "",
            "zerolinecolor": "white"
           },
           "yaxis": {
            "backgroundcolor": "#E5ECF6",
            "gridcolor": "white",
            "gridwidth": 2,
            "linecolor": "white",
            "showbackground": true,
            "ticks": "",
            "zerolinecolor": "white"
           },
           "zaxis": {
            "backgroundcolor": "#E5ECF6",
            "gridcolor": "white",
            "gridwidth": 2,
            "linecolor": "white",
            "showbackground": true,
            "ticks": "",
            "zerolinecolor": "white"
           }
          },
          "shapedefaults": {
           "line": {
            "color": "#2a3f5f"
           }
          },
          "ternary": {
           "aaxis": {
            "gridcolor": "white",
            "linecolor": "white",
            "ticks": ""
           },
           "baxis": {
            "gridcolor": "white",
            "linecolor": "white",
            "ticks": ""
           },
           "bgcolor": "#E5ECF6",
           "caxis": {
            "gridcolor": "white",
            "linecolor": "white",
            "ticks": ""
           }
          },
          "title": {
           "x": 0.05
          },
          "xaxis": {
           "automargin": true,
           "gridcolor": "white",
           "linecolor": "white",
           "ticks": "",
           "title": {
            "standoff": 15
           },
           "zerolinecolor": "white",
           "zerolinewidth": 2
          },
          "yaxis": {
           "automargin": true,
           "gridcolor": "white",
           "linecolor": "white",
           "ticks": "",
           "title": {
            "standoff": 15
           },
           "zerolinecolor": "white",
           "zerolinewidth": 2
          }
         }
        },
        "title": {
         "text": "Top 10 Most In-Demand Skills for Data Scientists"
        },
        "xaxis": {
         "anchor": "y",
         "domain": [
          0,
          1
         ],
         "tickangle": -45,
         "title": {
          "text": "Skills"
         }
        },
        "yaxis": {
         "anchor": "x",
         "domain": [
          0,
          1
         ],
         "title": {
          "text": "Frequency"
         }
        }
       }
      },
      "text/html": [
       "<div>                            <div id=\"8b784248-ad0b-456e-b862-8c10f9ebd3ae\" class=\"plotly-graph-div\" style=\"height:525px; width:100%;\"></div>            <script type=\"text/javascript\">                require([\"plotly\"], function(Plotly) {                    window.PLOTLYENV=window.PLOTLYENV || {};                                    if (document.getElementById(\"8b784248-ad0b-456e-b862-8c10f9ebd3ae\")) {                    Plotly.newPlot(                        \"8b784248-ad0b-456e-b862-8c10f9ebd3ae\",                        [{\"alignmentgroup\":\"True\",\"hovertemplate\":\"index=%{x}\\u003cbr\\u003ey=%{y}\\u003cbr\\u003ecolor=%{marker.color}\\u003cextra\\u003e\\u003c\\u002fextra\\u003e\",\"legendgroup\":\"\",\"marker\":{\"color\":[178,153,121,88,79,74,70,58,56,51],\"coloraxis\":\"coloraxis\",\"pattern\":{\"shape\":\"\"}},\"name\":\"\",\"offsetgroup\":\"\",\"orientation\":\"v\",\"showlegend\":false,\"textposition\":\"auto\",\"x\":[\"ComputerScience\",\"Engineering\",\"MachineLearning\",\"Dataanalysis\",\"BigData\",\"AWS\",\"DataMining\",\"DeepLearning\",\"Agile\",\"Mathematics\"],\"xaxis\":\"x\",\"y\":[178,153,121,88,79,74,70,58,56,51],\"yaxis\":\"y\",\"type\":\"bar\"}],                        {\"template\":{\"data\":{\"histogram2dcontour\":[{\"type\":\"histogram2dcontour\",\"colorbar\":{\"outlinewidth\":0,\"ticks\":\"\"},\"colorscale\":[[0.0,\"#0d0887\"],[0.1111111111111111,\"#46039f\"],[0.2222222222222222,\"#7201a8\"],[0.3333333333333333,\"#9c179e\"],[0.4444444444444444,\"#bd3786\"],[0.5555555555555556,\"#d8576b\"],[0.6666666666666666,\"#ed7953\"],[0.7777777777777778,\"#fb9f3a\"],[0.8888888888888888,\"#fdca26\"],[1.0,\"#f0f921\"]]}],\"choropleth\":[{\"type\":\"choropleth\",\"colorbar\":{\"outlinewidth\":0,\"ticks\":\"\"}}],\"histogram2d\":[{\"type\":\"histogram2d\",\"colorbar\":{\"outlinewidth\":0,\"ticks\":\"\"},\"colorscale\":[[0.0,\"#0d0887\"],[0.1111111111111111,\"#46039f\"],[0.2222222222222222,\"#7201a8\"],[0.3333333333333333,\"#9c179e\"],[0.4444444444444444,\"#bd3786\"],[0.5555555555555556,\"#d8576b\"],[0.6666666666666666,\"#ed7953\"],[0.7777777777777778,\"#fb9f3a\"],[0.8888888888888888,\"#fdca26\"],[1.0,\"#f0f921\"]]}],\"heatmap\":[{\"type\":\"heatmap\",\"colorbar\":{\"outlinewidth\":0,\"ticks\":\"\"},\"colorscale\":[[0.0,\"#0d0887\"],[0.1111111111111111,\"#46039f\"],[0.2222222222222222,\"#7201a8\"],[0.3333333333333333,\"#9c179e\"],[0.4444444444444444,\"#bd3786\"],[0.5555555555555556,\"#d8576b\"],[0.6666666666666666,\"#ed7953\"],[0.7777777777777778,\"#fb9f3a\"],[0.8888888888888888,\"#fdca26\"],[1.0,\"#f0f921\"]]}],\"heatmapgl\":[{\"type\":\"heatmapgl\",\"colorbar\":{\"outlinewidth\":0,\"ticks\":\"\"},\"colorscale\":[[0.0,\"#0d0887\"],[0.1111111111111111,\"#46039f\"],[0.2222222222222222,\"#7201a8\"],[0.3333333333333333,\"#9c179e\"],[0.4444444444444444,\"#bd3786\"],[0.5555555555555556,\"#d8576b\"],[0.6666666666666666,\"#ed7953\"],[0.7777777777777778,\"#fb9f3a\"],[0.8888888888888888,\"#fdca26\"],[1.0,\"#f0f921\"]]}],\"contourcarpet\":[{\"type\":\"contourcarpet\",\"colorbar\":{\"outlinewidth\":0,\"ticks\":\"\"}}],\"contour\":[{\"type\":\"contour\",\"colorbar\":{\"outlinewidth\":0,\"ticks\":\"\"},\"colorscale\":[[0.0,\"#0d0887\"],[0.1111111111111111,\"#46039f\"],[0.2222222222222222,\"#7201a8\"],[0.3333333333333333,\"#9c179e\"],[0.4444444444444444,\"#bd3786\"],[0.5555555555555556,\"#d8576b\"],[0.6666666666666666,\"#ed7953\"],[0.7777777777777778,\"#fb9f3a\"],[0.8888888888888888,\"#fdca26\"],[1.0,\"#f0f921\"]]}],\"surface\":[{\"type\":\"surface\",\"colorbar\":{\"outlinewidth\":0,\"ticks\":\"\"},\"colorscale\":[[0.0,\"#0d0887\"],[0.1111111111111111,\"#46039f\"],[0.2222222222222222,\"#7201a8\"],[0.3333333333333333,\"#9c179e\"],[0.4444444444444444,\"#bd3786\"],[0.5555555555555556,\"#d8576b\"],[0.6666666666666666,\"#ed7953\"],[0.7777777777777778,\"#fb9f3a\"],[0.8888888888888888,\"#fdca26\"],[1.0,\"#f0f921\"]]}],\"mesh3d\":[{\"type\":\"mesh3d\",\"colorbar\":{\"outlinewidth\":0,\"ticks\":\"\"}}],\"scatter\":[{\"fillpattern\":{\"fillmode\":\"overlay\",\"size\":10,\"solidity\":0.2},\"type\":\"scatter\"}],\"parcoords\":[{\"type\":\"parcoords\",\"line\":{\"colorbar\":{\"outlinewidth\":0,\"ticks\":\"\"}}}],\"scatterpolargl\":[{\"type\":\"scatterpolargl\",\"marker\":{\"colorbar\":{\"outlinewidth\":0,\"ticks\":\"\"}}}],\"bar\":[{\"error_x\":{\"color\":\"#2a3f5f\"},\"error_y\":{\"color\":\"#2a3f5f\"},\"marker\":{\"line\":{\"color\":\"#E5ECF6\",\"width\":0.5},\"pattern\":{\"fillmode\":\"overlay\",\"size\":10,\"solidity\":0.2}},\"type\":\"bar\"}],\"scattergeo\":[{\"type\":\"scattergeo\",\"marker\":{\"colorbar\":{\"outlinewidth\":0,\"ticks\":\"\"}}}],\"scatterpolar\":[{\"type\":\"scatterpolar\",\"marker\":{\"colorbar\":{\"outlinewidth\":0,\"ticks\":\"\"}}}],\"histogram\":[{\"marker\":{\"pattern\":{\"fillmode\":\"overlay\",\"size\":10,\"solidity\":0.2}},\"type\":\"histogram\"}],\"scattergl\":[{\"type\":\"scattergl\",\"marker\":{\"colorbar\":{\"outlinewidth\":0,\"ticks\":\"\"}}}],\"scatter3d\":[{\"type\":\"scatter3d\",\"line\":{\"colorbar\":{\"outlinewidth\":0,\"ticks\":\"\"}},\"marker\":{\"colorbar\":{\"outlinewidth\":0,\"ticks\":\"\"}}}],\"scattermapbox\":[{\"type\":\"scattermapbox\",\"marker\":{\"colorbar\":{\"outlinewidth\":0,\"ticks\":\"\"}}}],\"scatterternary\":[{\"type\":\"scatterternary\",\"marker\":{\"colorbar\":{\"outlinewidth\":0,\"ticks\":\"\"}}}],\"scattercarpet\":[{\"type\":\"scattercarpet\",\"marker\":{\"colorbar\":{\"outlinewidth\":0,\"ticks\":\"\"}}}],\"carpet\":[{\"aaxis\":{\"endlinecolor\":\"#2a3f5f\",\"gridcolor\":\"white\",\"linecolor\":\"white\",\"minorgridcolor\":\"white\",\"startlinecolor\":\"#2a3f5f\"},\"baxis\":{\"endlinecolor\":\"#2a3f5f\",\"gridcolor\":\"white\",\"linecolor\":\"white\",\"minorgridcolor\":\"white\",\"startlinecolor\":\"#2a3f5f\"},\"type\":\"carpet\"}],\"table\":[{\"cells\":{\"fill\":{\"color\":\"#EBF0F8\"},\"line\":{\"color\":\"white\"}},\"header\":{\"fill\":{\"color\":\"#C8D4E3\"},\"line\":{\"color\":\"white\"}},\"type\":\"table\"}],\"barpolar\":[{\"marker\":{\"line\":{\"color\":\"#E5ECF6\",\"width\":0.5},\"pattern\":{\"fillmode\":\"overlay\",\"size\":10,\"solidity\":0.2}},\"type\":\"barpolar\"}],\"pie\":[{\"automargin\":true,\"type\":\"pie\"}]},\"layout\":{\"autotypenumbers\":\"strict\",\"colorway\":[\"#636efa\",\"#EF553B\",\"#00cc96\",\"#ab63fa\",\"#FFA15A\",\"#19d3f3\",\"#FF6692\",\"#B6E880\",\"#FF97FF\",\"#FECB52\"],\"font\":{\"color\":\"#2a3f5f\"},\"hovermode\":\"closest\",\"hoverlabel\":{\"align\":\"left\"},\"paper_bgcolor\":\"white\",\"plot_bgcolor\":\"#E5ECF6\",\"polar\":{\"bgcolor\":\"#E5ECF6\",\"angularaxis\":{\"gridcolor\":\"white\",\"linecolor\":\"white\",\"ticks\":\"\"},\"radialaxis\":{\"gridcolor\":\"white\",\"linecolor\":\"white\",\"ticks\":\"\"}},\"ternary\":{\"bgcolor\":\"#E5ECF6\",\"aaxis\":{\"gridcolor\":\"white\",\"linecolor\":\"white\",\"ticks\":\"\"},\"baxis\":{\"gridcolor\":\"white\",\"linecolor\":\"white\",\"ticks\":\"\"},\"caxis\":{\"gridcolor\":\"white\",\"linecolor\":\"white\",\"ticks\":\"\"}},\"coloraxis\":{\"colorbar\":{\"outlinewidth\":0,\"ticks\":\"\"}},\"colorscale\":{\"sequential\":[[0.0,\"#0d0887\"],[0.1111111111111111,\"#46039f\"],[0.2222222222222222,\"#7201a8\"],[0.3333333333333333,\"#9c179e\"],[0.4444444444444444,\"#bd3786\"],[0.5555555555555556,\"#d8576b\"],[0.6666666666666666,\"#ed7953\"],[0.7777777777777778,\"#fb9f3a\"],[0.8888888888888888,\"#fdca26\"],[1.0,\"#f0f921\"]],\"sequentialminus\":[[0.0,\"#0d0887\"],[0.1111111111111111,\"#46039f\"],[0.2222222222222222,\"#7201a8\"],[0.3333333333333333,\"#9c179e\"],[0.4444444444444444,\"#bd3786\"],[0.5555555555555556,\"#d8576b\"],[0.6666666666666666,\"#ed7953\"],[0.7777777777777778,\"#fb9f3a\"],[0.8888888888888888,\"#fdca26\"],[1.0,\"#f0f921\"]],\"diverging\":[[0,\"#8e0152\"],[0.1,\"#c51b7d\"],[0.2,\"#de77ae\"],[0.3,\"#f1b6da\"],[0.4,\"#fde0ef\"],[0.5,\"#f7f7f7\"],[0.6,\"#e6f5d0\"],[0.7,\"#b8e186\"],[0.8,\"#7fbc41\"],[0.9,\"#4d9221\"],[1,\"#276419\"]]},\"xaxis\":{\"gridcolor\":\"white\",\"linecolor\":\"white\",\"ticks\":\"\",\"title\":{\"standoff\":15},\"zerolinecolor\":\"white\",\"automargin\":true,\"zerolinewidth\":2},\"yaxis\":{\"gridcolor\":\"white\",\"linecolor\":\"white\",\"ticks\":\"\",\"title\":{\"standoff\":15},\"zerolinecolor\":\"white\",\"automargin\":true,\"zerolinewidth\":2},\"scene\":{\"xaxis\":{\"backgroundcolor\":\"#E5ECF6\",\"gridcolor\":\"white\",\"linecolor\":\"white\",\"showbackground\":true,\"ticks\":\"\",\"zerolinecolor\":\"white\",\"gridwidth\":2},\"yaxis\":{\"backgroundcolor\":\"#E5ECF6\",\"gridcolor\":\"white\",\"linecolor\":\"white\",\"showbackground\":true,\"ticks\":\"\",\"zerolinecolor\":\"white\",\"gridwidth\":2},\"zaxis\":{\"backgroundcolor\":\"#E5ECF6\",\"gridcolor\":\"white\",\"linecolor\":\"white\",\"showbackground\":true,\"ticks\":\"\",\"zerolinecolor\":\"white\",\"gridwidth\":2}},\"shapedefaults\":{\"line\":{\"color\":\"#2a3f5f\"}},\"annotationdefaults\":{\"arrowcolor\":\"#2a3f5f\",\"arrowhead\":0,\"arrowwidth\":1},\"geo\":{\"bgcolor\":\"white\",\"landcolor\":\"#E5ECF6\",\"subunitcolor\":\"white\",\"showland\":true,\"showlakes\":true,\"lakecolor\":\"white\"},\"title\":{\"x\":0.05},\"mapbox\":{\"style\":\"light\"}}},\"xaxis\":{\"anchor\":\"y\",\"domain\":[0.0,1.0],\"title\":{\"text\":\"Skills\"},\"tickangle\":-45},\"yaxis\":{\"anchor\":\"x\",\"domain\":[0.0,1.0],\"title\":{\"text\":\"Frequency\"}},\"coloraxis\":{\"colorbar\":{\"title\":{\"text\":\"color\"}},\"colorscale\":[[0.0,\"#440154\"],[0.1111111111111111,\"#482878\"],[0.2222222222222222,\"#3e4989\"],[0.3333333333333333,\"#31688e\"],[0.4444444444444444,\"#26828e\"],[0.5555555555555556,\"#1f9e89\"],[0.6666666666666666,\"#35b779\"],[0.7777777777777778,\"#6ece58\"],[0.8888888888888888,\"#b5de2b\"],[1.0,\"#fde725\"]]},\"legend\":{\"tracegroupgap\":0},\"title\":{\"text\":\"Top 10 Most In-Demand Skills for Data Scientists\"},\"barmode\":\"relative\"},                        {\"responsive\": true}                    ).then(function(){\n",
       "                            \n",
       "var gd = document.getElementById('8b784248-ad0b-456e-b862-8c10f9ebd3ae');\n",
       "var x = new MutationObserver(function (mutations, observer) {{\n",
       "        var display = window.getComputedStyle(gd).display;\n",
       "        if (!display || display === 'none') {{\n",
       "            console.log([gd, 'removed!']);\n",
       "            Plotly.purge(gd);\n",
       "            observer.disconnect();\n",
       "        }}\n",
       "}});\n",
       "\n",
       "// Listen for the removal of the full notebook cells\n",
       "var notebookContainer = gd.closest('#notebook-container');\n",
       "if (notebookContainer) {{\n",
       "    x.observe(notebookContainer, {childList: true});\n",
       "}}\n",
       "\n",
       "// Listen for the clearing of the current output cell\n",
       "var outputEl = gd.closest('.output');\n",
       "if (outputEl) {{\n",
       "    x.observe(outputEl, {childList: true});\n",
       "}}\n",
       "\n",
       "                        })                };                });            </script>        </div>"
      ]
     },
     "metadata": {},
     "output_type": "display_data"
    }
   ],
   "source": [
    "import plotly.express as px\n",
    "\n",
    "data_scientist_df = cleaned[cleaned[\"Job Categorie\"] == 'Data Scientist']\n",
    "skills_data = data_scientist_df[\"Requirment of the company\"].str.replace(r'[\\[\\]\\s]', '').str.split(',')\n",
    "skills_counts = skills_data.explode().str.strip().value_counts().head(10)\n",
    "\n",
    "fig = px.bar(skills_counts, x=skills_counts.index, y=skills_counts.values, color=skills_counts.values,\n",
    "             color_continuous_scale='Viridis', title='Top 10 Most In-Demand Skills for Data Scientists')\n",
    "fig.update_layout(xaxis_title='Skills', yaxis_title='Frequency', xaxis_tickangle=-45)\n",
    "fig.show()"
   ]
  },
  {
   "cell_type": "markdown",
   "id": "c31a031e",
   "metadata": {},
   "source": [
    "### Les compétences les plus demandées pour un Data Engineer"
   ]
  },
  {
   "cell_type": "code",
   "execution_count": 12,
   "id": "ef52f85f",
   "metadata": {},
   "outputs": [
    {
     "data": {
      "image/png": "[encoded data removed]",
      "text/plain": [
       "<Figure size 720x432 with 1 Axes>"
      ]
     },
     "metadata": {
      "needs_background": "light"
     },
     "output_type": "display_data"
    }
   ],
   "source": [
    "import matplotlib.pyplot as plt\n",
    "\n",
    "# Filter rows where 'Job Type' is 'Data Engineer'\n",
    "data_engineer_df = cleaned[cleaned[\"Job Categorie\"] == 'Data Engineer']\n",
    "\n",
    "# Assuming the skills are listed in a comma-separated format, split and count them\n",
    "skills_data_engineer = data_engineer_df[\"Requirment of the company\"].str.replace(r'[\\[\\]\\s]', '').str.split(',')\n",
    "skills_counts_engineer = skills_data_engineer.explode().str.strip().value_counts()\n",
    "\n",
    "# Plotting the most in-demand skills for Data Engineer\n",
    "plt.figure(figsize=(10, 6))\n",
    "skills_counts_engineer.head(10).plot(kind='bar', color='lightcoral')\n",
    "plt.xlabel(\"Skills\")\n",
    "plt.ylabel(\"Frequency\")\n",
    "plt.title(\"Top 10 Most In-Demand Skills for Data Engineers\")\n",
    "plt.xticks(rotation=45)\n",
    "plt.tight_layout()\n",
    "\n",
    "# Save the bar plot as a PNG image\n",
    "plt.savefig(\"c.png\")\n",
    "\n",
    "# Show the bar plot\n",
    "plt.show()"
   ]
  },
  {
   "cell_type": "markdown",
   "id": "6c753b27",
   "metadata": {},
   "source": [
    "### Top 10 des titres d’emploi les plus courants sur le marché du travail"
   ]
  },
  {
   "cell_type": "code",
   "execution_count": 15,
   "id": "2af75b13",
   "metadata": {},
   "outputs": [
    {
     "data": {
      "image/png": "[encoded data removed]",
      "text/plain": [
       "<Figure size 864x432 with 1 Axes>"
      ]
     },
     "metadata": {
      "needs_background": "light"
     },
     "output_type": "display_data"
    }
   ],
   "source": [
    "import matplotlib.pyplot as plt\n",
    "\n",
    "# Group by \"Normalized Job Title\" and count job titles\n",
    "job_title_counts = cleaned.groupby(\"Job Categorie\")[\"Job Title\"].count().sort_values(ascending=False)\n",
    "\n",
    "# Plotting the most common job titles\n",
    "plt.figure(figsize=(12, 6))  # Increase the width of the figure\n",
    "ax = job_title_counts.head(10).plot(kind='bar', color='skyblue', edgecolor='black')\n",
    "\n",
    "# Add labels and title\n",
    "plt.xlabel(\"Job Title\", fontsize=14)\n",
    "plt.ylabel(\"Frequency\", fontsize=14)\n",
    "plt.title(\"Top 10 Most Common Job Titles\", fontsize=16)\n",
    "\n",
    "# Rotate x-axis labels for better readability\n",
    "plt.xticks(rotation=45, ha='right', fontsize=12)\n",
    "\n",
    "# Add value labels above the bars\n",
    "for i, v in enumerate(job_title_counts.head(10)):\n",
    "    ax.text(i, v + 20, str(v), ha='center', va='bottom', fontsize=12)\n",
    "\n",
    "# Remove top and right spines\n",
    "ax.spines['top'].set_visible(False)\n",
    "ax.spines['right'].set_visible(False)\n",
    "\n",
    "# Save the bar plot as a PNG image\n",
    "plt.tight_layout()  # Adjust margins for better layout\n",
    "plt.savefig(\"d.png\")\n",
    "\n",
    "# Show the plot\n",
    "plt.tight_layout()\n",
    "plt.show()"
   ]
  },
  {
   "cell_type": "markdown",
   "id": "f8c6501a",
   "metadata": {},
   "source": [
    "### Comparaison des salaires moyens pour Data Engineer, Data Analyst, Data Scientist, and Machine Learning Engineer"
   ]
  },
  {
   "cell_type": "code",
   "execution_count": 18,
   "id": "15d5c2c3",
   "metadata": {},
   "outputs": [
    {
     "data": {
      "image/png": "[encoded data removed]",
      "text/plain": [
       "<Figure size 720x432 with 1 Axes>"
      ]
     },
     "metadata": {},
     "output_type": "display_data"
    }
   ],
   "source": [
    "import seaborn as sns\n",
    "import matplotlib.pyplot as plt\n",
    "\n",
    "# Filter data to include only specified job titles and exclude rows with salary of 0\n",
    "selected_jobs = ['Data Engineer', 'Data Analyst', 'Data Scientist', 'Machine Learning Engineer']\n",
    "filtered_data = cleaned[cleaned[\"Job Categorie\"].isin(selected_jobs) & (cleaned[\"MNM_Salary_USD\"] > 0)]\n",
    "\n",
    "# Group by \"Normalized Job Title\" and calculate the mean salary\n",
    "mean_salary_by_job = filtered_data.groupby(\"Job Categorie\")[\"MNM_Salary_USD\"].mean().sort_values(ascending=False).reset_index()\n",
    "\n",
    "# Set style for the plot\n",
    "sns.set_style(\"whitegrid\")\n",
    "plt.figure(figsize=(10, 6))  # Increase the width of the figure\n",
    "\n",
    "# Create the bar plot using Seaborn\n",
    "ax = sns.barplot(x=\"MNM_Salary_USD\", y=\"Job Categorie\", data=mean_salary_by_job, palette=\"Blues_r\")\n",
    "\n",
    "# Add value labels above the bars\n",
    "for index, value in enumerate(mean_salary_by_job[\"MNM_Salary_USD\"]):\n",
    "    ax.text(value + 2000, index, f\"${value:,.0f}\", va='center', fontsize=12)\n",
    "\n",
    "# Customize plot\n",
    "plt.xlabel(\"Mean Salary (USD)\", fontsize=10)\n",
    "plt.ylabel(\"Job Title\", fontsize=10)\n",
    "plt.title(\"Mean Salary for Data Engineer, Data Analyst, Data Scientist, and Machine Learning Engineer\", fontsize=12)\n",
    "\n",
    "# Save the bar plot as a PNG image\n",
    "plt.tight_layout()\n",
    "plt.savefig(\"e.png\")\n",
    "\n",
    "# Show the plot\n",
    "plt.show()\n"
   ]
  },
  {
   "cell_type": "markdown",
   "id": "d6586924",
   "metadata": {},
   "source": [
    "### Niveaux d’expérience requis pour les Data Scientists"
   ]
  },
  {
   "cell_type": "code",
   "execution_count": 19,
   "id": "48e5f3c6",
   "metadata": {},
   "outputs": [
    {
     "data": {
      "image/png": "[encoded data removed]",
      "text/plain": [
       "<Figure size 720x432 with 1 Axes>"
      ]
     },
     "metadata": {},
     "output_type": "display_data"
    }
   ],
   "source": [
    "import matplotlib.pyplot as plt\n",
    "\n",
    "# Filter rows where 'Job Type' is 'Data Scientist' and 'Experience level' is not 'Not-Specified'\n",
    "data_scientist_df = cleaned[(cleaned[\"Job Categorie\"] == 'Data Scientist') & (cleaned[\"Experience level\"] != 'Not-Specified')]\n",
    "\n",
    "# Count the occurrences of each experience level\n",
    "experience_counts = data_scientist_df[\"Experience level\"].value_counts()\n",
    "\n",
    "# Plotting the required experience levels for Data Scientists\n",
    "plt.figure(figsize=(10, 6))\n",
    "experience_counts.plot(kind='bar', color='lightblue')\n",
    "plt.xlabel(\"Experience Level\")\n",
    "plt.ylabel(\"Frequency\")\n",
    "plt.title(\"Required Experience Levels for Data Scientists\")\n",
    "plt.xticks(rotation=45)\n",
    "plt.tight_layout()\n",
    "\n",
    "# Save the bar plot as a PNG image\n",
    "plt.savefig(\"f.png\")\n",
    "\n",
    "# Show the plot\n",
    "plt.show()\n"
   ]
  },
  {
   "cell_type": "markdown",
   "id": "5fea8594",
   "metadata": {},
   "source": [
    "### Types d’emplois pour Data Scientists, Data Analysts, and Data Engineers"
   ]
  },
  {
   "cell_type": "code",
   "execution_count": 20,
   "id": "d84e9c77",
   "metadata": {},
   "outputs": [
    {
     "data": {
      "image/png": "[encoded data removed]",
      "text/plain": [
       "<Figure size 864x432 with 3 Axes>"
      ]
     },
     "metadata": {},
     "output_type": "display_data"
    }
   ],
   "source": [
    "import matplotlib.pyplot as plt\n",
    "\n",
    "# Filter rows for each job type\n",
    "data_scientist_df = cleaned[cleaned[\"Job Categorie\"] == 'Data Scientist']\n",
    "data_analyst_df = cleaned[cleaned[\"Job Categorie\"] == 'Data Analyst']\n",
    "data_engineer_df = cleaned[cleaned[\"Job Categorie\"] == 'Data Engineer']\n",
    "\n",
    "# Count the job types for each job\n",
    "data_scientist_job_types = data_scientist_df[\"Job Type\"].value_counts()\n",
    "data_analyst_job_types = data_analyst_df[\"Job Type\"].value_counts()\n",
    "data_engineer_job_types = data_engineer_df[\"Job Type\"].value_counts()\n",
    "\n",
    "# Create a bar plot for each job\n",
    "plt.figure(figsize=(12, 6))\n",
    "\n",
    "plt.subplot(131)\n",
    "data_scientist_job_types.plot(kind='bar', color='lightblue')\n",
    "plt.xlabel(\"Job Type\")\n",
    "plt.ylabel(\"Count\")\n",
    "plt.title(\"Job Types for Data Scientists\")\n",
    "plt.xticks(rotation=0)\n",
    "\n",
    "plt.subplot(132)\n",
    "data_analyst_job_types.plot(kind='bar', color='lightcoral')\n",
    "plt.xlabel(\"Job Type\")\n",
    "plt.ylabel(\"Count\")\n",
    "plt.title(\"Job Types for Data Analysts\")\n",
    "plt.xticks(rotation=0)\n",
    "\n",
    "plt.subplot(133)\n",
    "data_engineer_job_types.plot(kind='bar', color='lightgreen')\n",
    "plt.xlabel(\"Job Type\")\n",
    "plt.ylabel(\"Count\")\n",
    "plt.title(\"Job Types for Data Engineers\")\n",
    "plt.xticks(rotation=0)\n",
    "\n",
    "plt.tight_layout()\n",
    "\n",
    "# Save the three bar plots as a single image\n",
    "plt.savefig(\"g.png\")\n",
    "\n",
    "# Show the plots\n",
    "plt.show()"
   ]
  },
  {
   "cell_type": "markdown",
   "id": "51b78186",
   "metadata": {},
   "source": [
    "### Top 4 des pays offrant le plus d’opportunités d’emploi"
   ]
  },
  {
   "cell_type": "code",
   "execution_count": 24,
   "id": "3221ec37",
   "metadata": {},
   "outputs": [
    {
     "data": {
      "application/vnd.plotly.v1+json": {
       "config": {
        "plotlyServerURL": "https://plot.ly"
       },
       "data": [
        {
         "alignmentgroup": "True",
         "hovertemplate": "Country=%{x}<br>Job Opportunities Count=%{y}<extra></extra>",
         "legendgroup": "",
         "marker": {
          "color": "#636efa",
          "pattern": {
           "shape": ""
          }
         },
         "name": "",
         "offsetgroup": "",
         "orientation": "v",
         "showlegend": false,
         "textposition": "auto",
         "type": "bar",
         "x": [
          "United States",
          "India",
          "United Kingdom",
          "France"
         ],
         "xaxis": "x",
         "y": [
          481,
          176,
          170,
          125
         ],
         "yaxis": "y"
        }
       ],
       "layout": {
        "barmode": "relative",
        "legend": {
         "tracegroupgap": 0
        },
        "template": {
         "data": {
          "bar": [
           {
            "error_x": {
             "color": "#2a3f5f"
            },
            "error_y": {
             "color": "#2a3f5f"
            },
            "marker": {
             "line": {
              "color": "#E5ECF6",
              "width": 0.5
             },
             "pattern": {
              "fillmode": "overlay",
              "size": 10,
              "solidity": 0.2
             }
            },
            "type": "bar"
           }
          ],
          "barpolar": [
           {
            "marker": {
             "line": {
              "color": "#E5ECF6",
              "width": 0.5
             },
             "pattern": {
              "fillmode": "overlay",
              "size": 10,
              "solidity": 0.2
             }
            },
            "type": "barpolar"
           }
          ],
          "carpet": [
           {
            "aaxis": {
             "endlinecolor": "#2a3f5f",
             "gridcolor": "white",
             "linecolor": "white",
             "minorgridcolor": "white",
             "startlinecolor": "#2a3f5f"
            },
            "baxis": {
             "endlinecolor": "#2a3f5f",
             "gridcolor": "white",
             "linecolor": "white",
             "minorgridcolor": "white",
             "startlinecolor": "#2a3f5f"
            },
            "type": "carpet"
           }
          ],
          "choropleth": [
           {
            "colorbar": {
             "outlinewidth": 0,
             "ticks": ""
            },
            "type": "choropleth"
           }
          ],
          "contour": [
           {
            "colorbar": {
             "outlinewidth": 0,
             "ticks": ""
            },
            "colorscale": [
             [
              0,
              "#0d0887"
             ],
             [
              0.1111111111111111,
              "#46039f"
             ],
             [
              0.2222222222222222,
              "#7201a8"
             ],
             [
              0.3333333333333333,
              "#9c179e"
             ],
             [
              0.4444444444444444,
              "#bd3786"
             ],
             [
              0.5555555555555556,
              "#d8576b"
             ],
             [
              0.6666666666666666,
              "#ed7953"
             ],
             [
              0.7777777777777778,
              "#fb9f3a"
             ],
             [
              0.8888888888888888,
              "#fdca26"
             ],
             [
              1,
              "#f0f921"
             ]
            ],
            "type": "contour"
           }
          ],
          "contourcarpet": [
           {
            "colorbar": {
             "outlinewidth": 0,
             "ticks": ""
            },
            "type": "contourcarpet"
           }
          ],
          "heatmap": [
           {
            "colorbar": {
             "outlinewidth": 0,
             "ticks": ""
            },
            "colorscale": [
             [
              0,
              "#0d0887"
             ],
             [
              0.1111111111111111,
              "#46039f"
             ],
             [
              0.2222222222222222,
              "#7201a8"
             ],
             [
              0.3333333333333333,
              "#9c179e"
             ],
             [
              0.4444444444444444,
              "#bd3786"
             ],
             [
              0.5555555555555556,
              "#d8576b"
             ],
             [
              0.6666666666666666,
              "#ed7953"
             ],
             [
              0.7777777777777778,
              "#fb9f3a"
             ],
             [
              0.8888888888888888,
              "#fdca26"
             ],
             [
              1,
              "#f0f921"
             ]
            ],
            "type": "heatmap"
           }
          ],
          "heatmapgl": [
           {
            "colorbar": {
             "outlinewidth": 0,
             "ticks": ""
            },
            "colorscale": [
             [
              0,
              "#0d0887"
             ],
             [
              0.1111111111111111,
              "#46039f"
             ],
             [
              0.2222222222222222,
              "#7201a8"
             ],
             [
              0.3333333333333333,
              "#9c179e"
             ],
             [
              0.4444444444444444,
              "#bd3786"
             ],
             [
              0.5555555555555556,
              "#d8576b"
             ],
             [
              0.6666666666666666,
              "#ed7953"
             ],
             [
              0.7777777777777778,
              "#fb9f3a"
             ],
             [
              0.8888888888888888,
              "#fdca26"
             ],
             [
              1,
              "#f0f921"
             ]
            ],
            "type": "heatmapgl"
           }
          ],
          "histogram": [
           {
            "marker": {
             "pattern": {
              "fillmode": "overlay",
              "size": 10,
              "solidity": 0.2
             }
            },
            "type": "histogram"
           }
          ],
          "histogram2d": [
           {
            "colorbar": {
             "outlinewidth": 0,
             "ticks": ""
            },
            "colorscale": [
             [
              0,
              "#0d0887"
             ],
             [
              0.1111111111111111,
              "#46039f"
             ],
             [
              0.2222222222222222,
              "#7201a8"
             ],
             [
              0.3333333333333333,
              "#9c179e"
             ],
             [
              0.4444444444444444,
              "#bd3786"
             ],
             [
              0.5555555555555556,
              "#d8576b"
             ],
             [
              0.6666666666666666,
              "#ed7953"
             ],
             [
              0.7777777777777778,
              "#fb9f3a"
             ],
             [
              0.8888888888888888,
              "#fdca26"
             ],
             [
              1,
              "#f0f921"
             ]
            ],
            "type": "histogram2d"
           }
          ],
          "histogram2dcontour": [
           {
            "colorbar": {
             "outlinewidth": 0,
             "ticks": ""
            },
            "colorscale": [
             [
              0,
              "#0d0887"
             ],
             [
              0.1111111111111111,
              "#46039f"
             ],
             [
              0.2222222222222222,
              "#7201a8"
             ],
             [
              0.3333333333333333,
              "#9c179e"
             ],
             [
              0.4444444444444444,
              "#bd3786"
             ],
             [
              0.5555555555555556,
              "#d8576b"
             ],
             [
              0.6666666666666666,
              "#ed7953"
             ],
             [
              0.7777777777777778,
              "#fb9f3a"
             ],
             [
              0.8888888888888888,
              "#fdca26"
             ],
             [
              1,
              "#f0f921"
             ]
            ],
            "type": "histogram2dcontour"
           }
          ],
          "mesh3d": [
           {
            "colorbar": {
             "outlinewidth": 0,
             "ticks": ""
            },
            "type": "mesh3d"
           }
          ],
          "parcoords": [
           {
            "line": {
             "colorbar": {
              "outlinewidth": 0,
              "ticks": ""
             }
            },
            "type": "parcoords"
           }
          ],
          "pie": [
           {
            "automargin": true,
            "type": "pie"
           }
          ],
          "scatter": [
           {
            "fillpattern": {
             "fillmode": "overlay",
             "size": 10,
             "solidity": 0.2
            },
            "type": "scatter"
           }
          ],
          "scatter3d": [
           {
            "line": {
             "colorbar": {
              "outlinewidth": 0,
              "ticks": ""
             }
            },
            "marker": {
             "colorbar": {
              "outlinewidth": 0,
              "ticks": ""
             }
            },
            "type": "scatter3d"
           }
          ],
          "scattercarpet": [
           {
            "marker": {
             "colorbar": {
              "outlinewidth": 0,
              "ticks": ""
             }
            },
            "type": "scattercarpet"
           }
          ],
          "scattergeo": [
           {
            "marker": {
             "colorbar": {
              "outlinewidth": 0,
              "ticks": ""
             }
            },
            "type": "scattergeo"
           }
          ],
          "scattergl": [
           {
            "marker": {
             "colorbar": {
              "outlinewidth": 0,
              "ticks": ""
             }
            },
            "type": "scattergl"
           }
          ],
          "scattermapbox": [
           {
            "marker": {
             "colorbar": {
              "outlinewidth": 0,
              "ticks": ""
             }
            },
            "type": "scattermapbox"
           }
          ],
          "scatterpolar": [
           {
            "marker": {
             "colorbar": {
              "outlinewidth": 0,
              "ticks": ""
             }
            },
            "type": "scatterpolar"
           }
          ],
          "scatterpolargl": [
           {
            "marker": {
             "colorbar": {
              "outlinewidth": 0,
              "ticks": ""
             }
            },
            "type": "scatterpolargl"
           }
          ],
          "scatterternary": [
           {
            "marker": {
             "colorbar": {
              "outlinewidth": 0,
              "ticks": ""
             }
            },
            "type": "scatterternary"
           }
          ],
          "surface": [
           {
            "colorbar": {
             "outlinewidth": 0,
             "ticks": ""
            },
            "colorscale": [
             [
              0,
              "#0d0887"
             ],
             [
              0.1111111111111111,
              "#46039f"
             ],
             [
              0.2222222222222222,
              "#7201a8"
             ],
             [
              0.3333333333333333,
              "#9c179e"
             ],
             [
              0.4444444444444444,
              "#bd3786"
             ],
             [
              0.5555555555555556,
              "#d8576b"
             ],
             [
              0.6666666666666666,
              "#ed7953"
             ],
             [
              0.7777777777777778,
              "#fb9f3a"
             ],
             [
              0.8888888888888888,
              "#fdca26"
             ],
             [
              1,
              "#f0f921"
             ]
            ],
            "type": "surface"
           }
          ],
          "table": [
           {
            "cells": {
             "fill": {
              "color": "#EBF0F8"
             },
             "line": {
              "color": "white"
             }
            },
            "header": {
             "fill": {
              "color": "#C8D4E3"
             },
             "line": {
              "color": "white"
             }
            },
            "type": "table"
           }
          ]
         },
         "layout": {
          "annotationdefaults": {
           "arrowcolor": "#2a3f5f",
           "arrowhead": 0,
           "arrowwidth": 1
          },
          "autotypenumbers": "strict",
          "coloraxis": {
           "colorbar": {
            "outlinewidth": 0,
            "ticks": ""
           }
          },
          "colorscale": {
           "diverging": [
            [
             0,
             "#8e0152"
            ],
            [
             0.1,
             "#c51b7d"
            ],
            [
             0.2,
             "#de77ae"
            ],
            [
             0.3,
             "#f1b6da"
            ],
            [
             0.4,
             "#fde0ef"
            ],
            [
             0.5,
             "#f7f7f7"
            ],
            [
             0.6,
             "#e6f5d0"
            ],
            [
             0.7,
             "#b8e186"
            ],
            [
             0.8,
             "#7fbc41"
            ],
            [
             0.9,
             "#4d9221"
            ],
            [
             1,
             "#276419"
            ]
           ],
           "sequential": [
            [
             0,
             "#0d0887"
            ],
            [
             0.1111111111111111,
             "#46039f"
            ],
            [
             0.2222222222222222,
             "#7201a8"
            ],
            [
             0.3333333333333333,
             "#9c179e"
            ],
            [
             0.4444444444444444,
             "#bd3786"
            ],
            [
             0.5555555555555556,
             "#d8576b"
            ],
            [
             0.6666666666666666,
             "#ed7953"
            ],
            [
             0.7777777777777778,
             "#fb9f3a"
            ],
            [
             0.8888888888888888,
             "#fdca26"
            ],
            [
             1,
             "#f0f921"
            ]
           ],
           "sequentialminus": [
            [
             0,
             "#0d0887"
            ],
            [
             0.1111111111111111,
             "#46039f"
            ],
            [
             0.2222222222222222,
             "#7201a8"
            ],
            [
             0.3333333333333333,
             "#9c179e"
            ],
            [
             0.4444444444444444,
             "#bd3786"
            ],
            [
             0.5555555555555556,
             "#d8576b"
            ],
            [
             0.6666666666666666,
             "#ed7953"
            ],
            [
             0.7777777777777778,
             "#fb9f3a"
            ],
            [
             0.8888888888888888,
             "#fdca26"
            ],
            [
             1,
             "#f0f921"
            ]
           ]
          },
          "colorway": [
           "#636efa",
           "#EF553B",
           "#00cc96",
           "#ab63fa",
           "#FFA15A",
           "#19d3f3",
           "#FF6692",
           "#B6E880",
           "#FF97FF",
           "#FECB52"
          ],
          "font": {
           "color": "#2a3f5f"
          },
          "geo": {
           "bgcolor": "white",
           "lakecolor": "white",
           "landcolor": "#E5ECF6",
           "showlakes": true,
           "showland": true,
           "subunitcolor": "white"
          },
          "hoverlabel": {
           "align": "left"
          },
          "hovermode": "closest",
          "mapbox": {
           "style": "light"
          },
          "paper_bgcolor": "white",
          "plot_bgcolor": "#E5ECF6",
          "polar": {
           "angularaxis": {
            "gridcolor": "white",
            "linecolor": "white",
            "ticks": ""
           },
           "bgcolor": "#E5ECF6",
           "radialaxis": {
            "gridcolor": "white",
            "linecolor": "white",
            "ticks": ""
           }
          },
          "scene": {
           "xaxis": {
            "backgroundcolor": "#E5ECF6",
            "gridcolor": "white",
            "gridwidth": 2,
            "linecolor": "white",
            "showbackground": true,
            "ticks": "",
            "zerolinecolor": "white"
           },
           "yaxis": {
            "backgroundcolor": "#E5ECF6",
            "gridcolor": "white",
            "gridwidth": 2,
            "linecolor": "white",
            "showbackground": true,
            "ticks": "",
            "zerolinecolor": "white"
           },
           "zaxis": {
            "backgroundcolor": "#E5ECF6",
            "gridcolor": "white",
            "gridwidth": 2,
            "linecolor": "white",
            "showbackground": true,
            "ticks": "",
            "zerolinecolor": "white"
           }
          },
          "shapedefaults": {
           "line": {
            "color": "#2a3f5f"
           }
          },
          "ternary": {
           "aaxis": {
            "gridcolor": "white",
            "linecolor": "white",
            "ticks": ""
           },
           "baxis": {
            "gridcolor": "white",
            "linecolor": "white",
            "ticks": ""
           },
           "bgcolor": "#E5ECF6",
           "caxis": {
            "gridcolor": "white",
            "linecolor": "white",
            "ticks": ""
           }
          },
          "title": {
           "x": 0.05
          },
          "xaxis": {
           "automargin": true,
           "gridcolor": "white",
           "linecolor": "white",
           "ticks": "",
           "title": {
            "standoff": 15
           },
           "zerolinecolor": "white",
           "zerolinewidth": 2
          },
          "yaxis": {
           "automargin": true,
           "gridcolor": "white",
           "linecolor": "white",
           "ticks": "",
           "title": {
            "standoff": 15
           },
           "zerolinecolor": "white",
           "zerolinewidth": 2
          }
         }
        },
        "title": {
         "text": "Number of Job Opportunities for the Top 4 Countries"
        },
        "xaxis": {
         "anchor": "y",
         "domain": [
          0,
          1
         ],
         "title": {
          "text": "Country"
         }
        },
        "yaxis": {
         "anchor": "x",
         "domain": [
          0,
          1
         ],
         "title": {
          "text": "Job Opportunities Count"
         }
        }
       }
      },
      "text/html": [
       "<div>                            <div id=\"fb1ec9fd-c100-4813-829d-7630e00547dc\" class=\"plotly-graph-div\" style=\"height:525px; width:100%;\"></div>            <script type=\"text/javascript\">                require([\"plotly\"], function(Plotly) {                    window.PLOTLYENV=window.PLOTLYENV || {};                                    if (document.getElementById(\"fb1ec9fd-c100-4813-829d-7630e00547dc\")) {                    Plotly.newPlot(                        \"fb1ec9fd-c100-4813-829d-7630e00547dc\",                        [{\"alignmentgroup\":\"True\",\"hovertemplate\":\"Country=%{x}\\u003cbr\\u003eJob Opportunities Count=%{y}\\u003cextra\\u003e\\u003c\\u002fextra\\u003e\",\"legendgroup\":\"\",\"marker\":{\"color\":\"#636efa\",\"pattern\":{\"shape\":\"\"}},\"name\":\"\",\"offsetgroup\":\"\",\"orientation\":\"v\",\"showlegend\":false,\"textposition\":\"auto\",\"x\":[\"United States\",\"India\",\"United Kingdom\",\"France\"],\"xaxis\":\"x\",\"y\":[481,176,170,125],\"yaxis\":\"y\",\"type\":\"bar\"}],                        {\"template\":{\"data\":{\"histogram2dcontour\":[{\"type\":\"histogram2dcontour\",\"colorbar\":{\"outlinewidth\":0,\"ticks\":\"\"},\"colorscale\":[[0.0,\"#0d0887\"],[0.1111111111111111,\"#46039f\"],[0.2222222222222222,\"#7201a8\"],[0.3333333333333333,\"#9c179e\"],[0.4444444444444444,\"#bd3786\"],[0.5555555555555556,\"#d8576b\"],[0.6666666666666666,\"#ed7953\"],[0.7777777777777778,\"#fb9f3a\"],[0.8888888888888888,\"#fdca26\"],[1.0,\"#f0f921\"]]}],\"choropleth\":[{\"type\":\"choropleth\",\"colorbar\":{\"outlinewidth\":0,\"ticks\":\"\"}}],\"histogram2d\":[{\"type\":\"histogram2d\",\"colorbar\":{\"outlinewidth\":0,\"ticks\":\"\"},\"colorscale\":[[0.0,\"#0d0887\"],[0.1111111111111111,\"#46039f\"],[0.2222222222222222,\"#7201a8\"],[0.3333333333333333,\"#9c179e\"],[0.4444444444444444,\"#bd3786\"],[0.5555555555555556,\"#d8576b\"],[0.6666666666666666,\"#ed7953\"],[0.7777777777777778,\"#fb9f3a\"],[0.8888888888888888,\"#fdca26\"],[1.0,\"#f0f921\"]]}],\"heatmap\":[{\"type\":\"heatmap\",\"colorbar\":{\"outlinewidth\":0,\"ticks\":\"\"},\"colorscale\":[[0.0,\"#0d0887\"],[0.1111111111111111,\"#46039f\"],[0.2222222222222222,\"#7201a8\"],[0.3333333333333333,\"#9c179e\"],[0.4444444444444444,\"#bd3786\"],[0.5555555555555556,\"#d8576b\"],[0.6666666666666666,\"#ed7953\"],[0.7777777777777778,\"#fb9f3a\"],[0.8888888888888888,\"#fdca26\"],[1.0,\"#f0f921\"]]}],\"heatmapgl\":[{\"type\":\"heatmapgl\",\"colorbar\":{\"outlinewidth\":0,\"ticks\":\"\"},\"colorscale\":[[0.0,\"#0d0887\"],[0.1111111111111111,\"#46039f\"],[0.2222222222222222,\"#7201a8\"],[0.3333333333333333,\"#9c179e\"],[0.4444444444444444,\"#bd3786\"],[0.5555555555555556,\"#d8576b\"],[0.6666666666666666,\"#ed7953\"],[0.7777777777777778,\"#fb9f3a\"],[0.8888888888888888,\"#fdca26\"],[1.0,\"#f0f921\"]]}],\"contourcarpet\":[{\"type\":\"contourcarpet\",\"colorbar\":{\"outlinewidth\":0,\"ticks\":\"\"}}],\"contour\":[{\"type\":\"contour\",\"colorbar\":{\"outlinewidth\":0,\"ticks\":\"\"},\"colorscale\":[[0.0,\"#0d0887\"],[0.1111111111111111,\"#46039f\"],[0.2222222222222222,\"#7201a8\"],[0.3333333333333333,\"#9c179e\"],[0.4444444444444444,\"#bd3786\"],[0.5555555555555556,\"#d8576b\"],[0.6666666666666666,\"#ed7953\"],[0.7777777777777778,\"#fb9f3a\"],[0.8888888888888888,\"#fdca26\"],[1.0,\"#f0f921\"]]}],\"surface\":[{\"type\":\"surface\",\"colorbar\":{\"outlinewidth\":0,\"ticks\":\"\"},\"colorscale\":[[0.0,\"#0d0887\"],[0.1111111111111111,\"#46039f\"],[0.2222222222222222,\"#7201a8\"],[0.3333333333333333,\"#9c179e\"],[0.4444444444444444,\"#bd3786\"],[0.5555555555555556,\"#d8576b\"],[0.6666666666666666,\"#ed7953\"],[0.7777777777777778,\"#fb9f3a\"],[0.8888888888888888,\"#fdca26\"],[1.0,\"#f0f921\"]]}],\"mesh3d\":[{\"type\":\"mesh3d\",\"colorbar\":{\"outlinewidth\":0,\"ticks\":\"\"}}],\"scatter\":[{\"fillpattern\":{\"fillmode\":\"overlay\",\"size\":10,\"solidity\":0.2},\"type\":\"scatter\"}],\"parcoords\":[{\"type\":\"parcoords\",\"line\":{\"colorbar\":{\"outlinewidth\":0,\"ticks\":\"\"}}}],\"scatterpolargl\":[{\"type\":\"scatterpolargl\",\"marker\":{\"colorbar\":{\"outlinewidth\":0,\"ticks\":\"\"}}}],\"bar\":[{\"error_x\":{\"color\":\"#2a3f5f\"},\"error_y\":{\"color\":\"#2a3f5f\"},\"marker\":{\"line\":{\"color\":\"#E5ECF6\",\"width\":0.5},\"pattern\":{\"fillmode\":\"overlay\",\"size\":10,\"solidity\":0.2}},\"type\":\"bar\"}],\"scattergeo\":[{\"type\":\"scattergeo\",\"marker\":{\"colorbar\":{\"outlinewidth\":0,\"ticks\":\"\"}}}],\"scatterpolar\":[{\"type\":\"scatterpolar\",\"marker\":{\"colorbar\":{\"outlinewidth\":0,\"ticks\":\"\"}}}],\"histogram\":[{\"marker\":{\"pattern\":{\"fillmode\":\"overlay\",\"size\":10,\"solidity\":0.2}},\"type\":\"histogram\"}],\"scattergl\":[{\"type\":\"scattergl\",\"marker\":{\"colorbar\":{\"outlinewidth\":0,\"ticks\":\"\"}}}],\"scatter3d\":[{\"type\":\"scatter3d\",\"line\":{\"colorbar\":{\"outlinewidth\":0,\"ticks\":\"\"}},\"marker\":{\"colorbar\":{\"outlinewidth\":0,\"ticks\":\"\"}}}],\"scattermapbox\":[{\"type\":\"scattermapbox\",\"marker\":{\"colorbar\":{\"outlinewidth\":0,\"ticks\":\"\"}}}],\"scatterternary\":[{\"type\":\"scatterternary\",\"marker\":{\"colorbar\":{\"outlinewidth\":0,\"ticks\":\"\"}}}],\"scattercarpet\":[{\"type\":\"scattercarpet\",\"marker\":{\"colorbar\":{\"outlinewidth\":0,\"ticks\":\"\"}}}],\"carpet\":[{\"aaxis\":{\"endlinecolor\":\"#2a3f5f\",\"gridcolor\":\"white\",\"linecolor\":\"white\",\"minorgridcolor\":\"white\",\"startlinecolor\":\"#2a3f5f\"},\"baxis\":{\"endlinecolor\":\"#2a3f5f\",\"gridcolor\":\"white\",\"linecolor\":\"white\",\"minorgridcolor\":\"white\",\"startlinecolor\":\"#2a3f5f\"},\"type\":\"carpet\"}],\"table\":[{\"cells\":{\"fill\":{\"color\":\"#EBF0F8\"},\"line\":{\"color\":\"white\"}},\"header\":{\"fill\":{\"color\":\"#C8D4E3\"},\"line\":{\"color\":\"white\"}},\"type\":\"table\"}],\"barpolar\":[{\"marker\":{\"line\":{\"color\":\"#E5ECF6\",\"width\":0.5},\"pattern\":{\"fillmode\":\"overlay\",\"size\":10,\"solidity\":0.2}},\"type\":\"barpolar\"}],\"pie\":[{\"automargin\":true,\"type\":\"pie\"}]},\"layout\":{\"autotypenumbers\":\"strict\",\"colorway\":[\"#636efa\",\"#EF553B\",\"#00cc96\",\"#ab63fa\",\"#FFA15A\",\"#19d3f3\",\"#FF6692\",\"#B6E880\",\"#FF97FF\",\"#FECB52\"],\"font\":{\"color\":\"#2a3f5f\"},\"hovermode\":\"closest\",\"hoverlabel\":{\"align\":\"left\"},\"paper_bgcolor\":\"white\",\"plot_bgcolor\":\"#E5ECF6\",\"polar\":{\"bgcolor\":\"#E5ECF6\",\"angularaxis\":{\"gridcolor\":\"white\",\"linecolor\":\"white\",\"ticks\":\"\"},\"radialaxis\":{\"gridcolor\":\"white\",\"linecolor\":\"white\",\"ticks\":\"\"}},\"ternary\":{\"bgcolor\":\"#E5ECF6\",\"aaxis\":{\"gridcolor\":\"white\",\"linecolor\":\"white\",\"ticks\":\"\"},\"baxis\":{\"gridcolor\":\"white\",\"linecolor\":\"white\",\"ticks\":\"\"},\"caxis\":{\"gridcolor\":\"white\",\"linecolor\":\"white\",\"ticks\":\"\"}},\"coloraxis\":{\"colorbar\":{\"outlinewidth\":0,\"ticks\":\"\"}},\"colorscale\":{\"sequential\":[[0.0,\"#0d0887\"],[0.1111111111111111,\"#46039f\"],[0.2222222222222222,\"#7201a8\"],[0.3333333333333333,\"#9c179e\"],[0.4444444444444444,\"#bd3786\"],[0.5555555555555556,\"#d8576b\"],[0.6666666666666666,\"#ed7953\"],[0.7777777777777778,\"#fb9f3a\"],[0.8888888888888888,\"#fdca26\"],[1.0,\"#f0f921\"]],\"sequentialminus\":[[0.0,\"#0d0887\"],[0.1111111111111111,\"#46039f\"],[0.2222222222222222,\"#7201a8\"],[0.3333333333333333,\"#9c179e\"],[0.4444444444444444,\"#bd3786\"],[0.5555555555555556,\"#d8576b\"],[0.6666666666666666,\"#ed7953\"],[0.7777777777777778,\"#fb9f3a\"],[0.8888888888888888,\"#fdca26\"],[1.0,\"#f0f921\"]],\"diverging\":[[0,\"#8e0152\"],[0.1,\"#c51b7d\"],[0.2,\"#de77ae\"],[0.3,\"#f1b6da\"],[0.4,\"#fde0ef\"],[0.5,\"#f7f7f7\"],[0.6,\"#e6f5d0\"],[0.7,\"#b8e186\"],[0.8,\"#7fbc41\"],[0.9,\"#4d9221\"],[1,\"#276419\"]]},\"xaxis\":{\"gridcolor\":\"white\",\"linecolor\":\"white\",\"ticks\":\"\",\"title\":{\"standoff\":15},\"zerolinecolor\":\"white\",\"automargin\":true,\"zerolinewidth\":2},\"yaxis\":{\"gridcolor\":\"white\",\"linecolor\":\"white\",\"ticks\":\"\",\"title\":{\"standoff\":15},\"zerolinecolor\":\"white\",\"automargin\":true,\"zerolinewidth\":2},\"scene\":{\"xaxis\":{\"backgroundcolor\":\"#E5ECF6\",\"gridcolor\":\"white\",\"linecolor\":\"white\",\"showbackground\":true,\"ticks\":\"\",\"zerolinecolor\":\"white\",\"gridwidth\":2},\"yaxis\":{\"backgroundcolor\":\"#E5ECF6\",\"gridcolor\":\"white\",\"linecolor\":\"white\",\"showbackground\":true,\"ticks\":\"\",\"zerolinecolor\":\"white\",\"gridwidth\":2},\"zaxis\":{\"backgroundcolor\":\"#E5ECF6\",\"gridcolor\":\"white\",\"linecolor\":\"white\",\"showbackground\":true,\"ticks\":\"\",\"zerolinecolor\":\"white\",\"gridwidth\":2}},\"shapedefaults\":{\"line\":{\"color\":\"#2a3f5f\"}},\"annotationdefaults\":{\"arrowcolor\":\"#2a3f5f\",\"arrowhead\":0,\"arrowwidth\":1},\"geo\":{\"bgcolor\":\"white\",\"landcolor\":\"#E5ECF6\",\"subunitcolor\":\"white\",\"showland\":true,\"showlakes\":true,\"lakecolor\":\"white\"},\"title\":{\"x\":0.05},\"mapbox\":{\"style\":\"light\"}}},\"xaxis\":{\"anchor\":\"y\",\"domain\":[0.0,1.0],\"title\":{\"text\":\"Country\"}},\"yaxis\":{\"anchor\":\"x\",\"domain\":[0.0,1.0],\"title\":{\"text\":\"Job Opportunities Count\"}},\"legend\":{\"tracegroupgap\":0},\"title\":{\"text\":\"Number of Job Opportunities for the Top 4 Countries\"},\"barmode\":\"relative\"},                        {\"responsive\": true}                    ).then(function(){\n",
       "                            \n",
       "var gd = document.getElementById('fb1ec9fd-c100-4813-829d-7630e00547dc');\n",
       "var x = new MutationObserver(function (mutations, observer) {{\n",
       "        var display = window.getComputedStyle(gd).display;\n",
       "        if (!display || display === 'none') {{\n",
       "            console.log([gd, 'removed!']);\n",
       "            Plotly.purge(gd);\n",
       "            observer.disconnect();\n",
       "        }}\n",
       "}});\n",
       "\n",
       "// Listen for the removal of the full notebook cells\n",
       "var notebookContainer = gd.closest('#notebook-container');\n",
       "if (notebookContainer) {{\n",
       "    x.observe(notebookContainer, {childList: true});\n",
       "}}\n",
       "\n",
       "// Listen for the clearing of the current output cell\n",
       "var outputEl = gd.closest('.output');\n",
       "if (outputEl) {{\n",
       "    x.observe(outputEl, {childList: true});\n",
       "}}\n",
       "\n",
       "                        })                };                });            </script>        </div>"
      ]
     },
     "metadata": {},
     "output_type": "display_data"
    }
   ],
   "source": [
    "import pandas as pd\n",
    "import plotly.express as px\n",
    "\n",
    "# Assuming you have a DataFrame named 'cleaned' with a column 'Country' containing country names\n",
    "# Replace this with your actual data\n",
    "# cleaned = pd.DataFrame(...)\n",
    "\n",
    "# Group by 'Country' and count the number of job offers in each country\n",
    "job_opportunities_df = cleaned.groupby('Country').size().reset_index(name='Job Opportunities Count')\n",
    "\n",
    "# Sort the DataFrame by 'Job Opportunities Count' in descending order\n",
    "job_opportunities_df = job_opportunities_df.sort_values(by='Job Opportunities Count', ascending=False)\n",
    "\n",
    "# Take only the top 10 countries\n",
    "top_10_countries = job_opportunities_df.head(4)\n",
    "\n",
    "# Create a bar plot\n",
    "fig = px.bar(top_10_countries, x='Country', y='Job Opportunities Count', \n",
    "             title='Number of Job Opportunities for the Top 4 Countries')\n",
    "\n",
    "# Customize the layout if needed\n",
    "fig.update_layout(xaxis_title='Country', yaxis_title='Job Opportunities Count')\n",
    "\n",
    "# Show the plot\n",
    "fig.show()"
   ]
  },
  {
   "cell_type": "markdown",
   "id": "2c3532ad",
   "metadata": {},
   "source": [
    "# SQL"
   ]
  },
  {
   "cell_type": "code",
   "execution_count": 55,
   "id": "23cc1a49",
   "metadata": {},
   "outputs": [],
   "source": [
    "import pandas as pd"
   ]
  },
  {
   "cell_type": "code",
   "execution_count": 56,
   "id": "f94dec4d",
   "metadata": {},
   "outputs": [
    {
     "data": {
      "text/html": [
       "<div>\n",
       "<style scoped>\n",
       "    .dataframe tbody tr th:only-of-type {\n",
       "        vertical-align: middle;\n",
       "    }\n",
       "\n",
       "    .dataframe tbody tr th {\n",
       "        vertical-align: top;\n",
       "    }\n",
       "\n",
       "    .dataframe thead th {\n",
       "        text-align: right;\n",
       "    }\n",
       "</style>\n",
       "<table border=\"1\" class=\"dataframe\">\n",
       "  <thead>\n",
       "    <tr style=\"text-align: right;\">\n",
       "      <th></th>\n",
       "      <th>Company</th>\n",
       "      <th>Job Title</th>\n",
       "      <th>Location</th>\n",
       "      <th>Job Type</th>\n",
       "      <th>Experience level</th>\n",
       "      <th>MNM_Salary_USD</th>\n",
       "      <th>Salary_Star</th>\n",
       "      <th>Requirment of the company</th>\n",
       "      <th>Facilities</th>\n",
       "      <th>Country</th>\n",
       "      <th>Job Categorie</th>\n",
       "    </tr>\n",
       "  </thead>\n",
       "  <tbody>\n",
       "    <tr>\n",
       "      <th>0</th>\n",
       "      <td>SGS</td>\n",
       "      <td>Clinical Data Analyst</td>\n",
       "      <td>Richardson, TX, United States</td>\n",
       "      <td>Full Time</td>\n",
       "      <td>Entry-level</td>\n",
       "      <td>48000.0</td>\n",
       "      <td>True</td>\n",
       "      <td>Computer Science</td>\n",
       "      <td>['Not-Specified']</td>\n",
       "      <td>United States</td>\n",
       "      <td>Data Analyst</td>\n",
       "    </tr>\n",
       "    <tr>\n",
       "      <th>1</th>\n",
       "      <td>SGS</td>\n",
       "      <td>Clinical Data Analyst</td>\n",
       "      <td>Richardson, TX, United States</td>\n",
       "      <td>Full Time</td>\n",
       "      <td>Entry-level</td>\n",
       "      <td>48000.0</td>\n",
       "      <td>True</td>\n",
       "      <td>Data quality</td>\n",
       "      <td>['Not-Specified']</td>\n",
       "      <td>United States</td>\n",
       "      <td>Data Analyst</td>\n",
       "    </tr>\n",
       "    <tr>\n",
       "      <th>2</th>\n",
       "      <td>SGS</td>\n",
       "      <td>Clinical Data Analyst</td>\n",
       "      <td>Richardson, TX, United States</td>\n",
       "      <td>Full Time</td>\n",
       "      <td>Entry-level</td>\n",
       "      <td>48000.0</td>\n",
       "      <td>True</td>\n",
       "      <td>Genetics</td>\n",
       "      <td>['Not-Specified']</td>\n",
       "      <td>United States</td>\n",
       "      <td>Data Analyst</td>\n",
       "    </tr>\n",
       "    <tr>\n",
       "      <th>3</th>\n",
       "      <td>SGS</td>\n",
       "      <td>Clinical Data Analyst</td>\n",
       "      <td>Richardson, TX, United States</td>\n",
       "      <td>Full Time</td>\n",
       "      <td>Entry-level</td>\n",
       "      <td>48000.0</td>\n",
       "      <td>True</td>\n",
       "      <td>Mathematics</td>\n",
       "      <td>['Not-Specified']</td>\n",
       "      <td>United States</td>\n",
       "      <td>Data Analyst</td>\n",
       "    </tr>\n",
       "    <tr>\n",
       "      <th>4</th>\n",
       "      <td>SGS</td>\n",
       "      <td>Clinical Data Analyst</td>\n",
       "      <td>Richardson, TX, United States</td>\n",
       "      <td>Full Time</td>\n",
       "      <td>Entry-level</td>\n",
       "      <td>48000.0</td>\n",
       "      <td>True</td>\n",
       "      <td>SAS</td>\n",
       "      <td>['Not-Specified']</td>\n",
       "      <td>United States</td>\n",
       "      <td>Data Analyst</td>\n",
       "    </tr>\n",
       "  </tbody>\n",
       "</table>\n",
       "</div>"
      ],
      "text/plain": [
       "  Company              Job Title                       Location   Job Type   \n",
       "0     SGS  Clinical Data Analyst  Richardson, TX, United States  Full Time  \\\n",
       "1     SGS  Clinical Data Analyst  Richardson, TX, United States  Full Time   \n",
       "2     SGS  Clinical Data Analyst  Richardson, TX, United States  Full Time   \n",
       "3     SGS  Clinical Data Analyst  Richardson, TX, United States  Full Time   \n",
       "4     SGS  Clinical Data Analyst  Richardson, TX, United States  Full Time   \n",
       "\n",
       "  Experience level  MNM_Salary_USD  Salary_Star Requirment of the company   \n",
       "0      Entry-level         48000.0         True          Computer Science  \\\n",
       "1      Entry-level         48000.0         True              Data quality   \n",
       "2      Entry-level         48000.0         True                  Genetics   \n",
       "3      Entry-level         48000.0         True               Mathematics   \n",
       "4      Entry-level         48000.0         True                       SAS   \n",
       "\n",
       "          Facilities        Country Job Categorie  \n",
       "0  ['Not-Specified']  United States  Data Analyst  \n",
       "1  ['Not-Specified']  United States  Data Analyst  \n",
       "2  ['Not-Specified']  United States  Data Analyst  \n",
       "3  ['Not-Specified']  United States  Data Analyst  \n",
       "4  ['Not-Specified']  United States  Data Analyst  "
      ]
     },
     "execution_count": 56,
     "metadata": {},
     "output_type": "execute_result"
    }
   ],
   "source": [
    "sql=pd.read_csv('CleanedReq.csv')\n",
    "sql.head()"
   ]
  },
  {
   "cell_type": "code",
   "execution_count": 57,
   "id": "dc5aea9b",
   "metadata": {},
   "outputs": [],
   "source": [
    "# Rename the columns\n",
    "sql.rename(columns={'Job Categorie': 'Job_Categorie'}, inplace=True)\n",
    "sql.rename(columns={'Job Title': 'Job_Title'}, inplace=True)\n",
    "sql.rename(columns={'Job Type': 'Job_Type'}, inplace=True)\n",
    "sql.rename(columns={'Experience level': 'Experience_level'}, inplace=True)\n",
    "sql.rename(columns={'Requirment of the company': 'Requirment_of_the_company'}, inplace=True)"
   ]
  },
  {
   "cell_type": "code",
   "execution_count": 58,
   "id": "abbfb410",
   "metadata": {},
   "outputs": [],
   "source": [
    "Company = sql[['Company']]\n",
    "Job_Categorie = sql[['Job_Categorie']]\n",
    "Job_Type = sql[['Job_Type']]\n",
    "Experience_level = sql[['Experience_level']]\n",
    "Requirment_of_the_company = sql[['Requirment_of_the_company']]\n",
    "job_title = sql[['Job_Title', 'Location', 'MNM_Salary_USD', 'Salary_Star','Facilities']]"
   ]
  },
  {
   "cell_type": "code",
   "execution_count": 59,
   "id": "b903bae5",
   "metadata": {},
   "outputs": [
    {
     "data": {
      "text/html": [
       "<div>\n",
       "<style scoped>\n",
       "    .dataframe tbody tr th:only-of-type {\n",
       "        vertical-align: middle;\n",
       "    }\n",
       "\n",
       "    .dataframe tbody tr th {\n",
       "        vertical-align: top;\n",
       "    }\n",
       "\n",
       "    .dataframe thead th {\n",
       "        text-align: right;\n",
       "    }\n",
       "</style>\n",
       "<table border=\"1\" class=\"dataframe\">\n",
       "  <thead>\n",
       "    <tr style=\"text-align: right;\">\n",
       "      <th></th>\n",
       "      <th>Job_Title</th>\n",
       "      <th>Location</th>\n",
       "      <th>MNM_Salary_USD</th>\n",
       "      <th>Salary_Star</th>\n",
       "      <th>Facilities</th>\n",
       "    </tr>\n",
       "  </thead>\n",
       "  <tbody>\n",
       "    <tr>\n",
       "      <th>0</th>\n",
       "      <td>Clinical Data Analyst</td>\n",
       "      <td>Richardson, TX, United States</td>\n",
       "      <td>48000.0</td>\n",
       "      <td>True</td>\n",
       "      <td>['Not-Specified']</td>\n",
       "    </tr>\n",
       "    <tr>\n",
       "      <th>1</th>\n",
       "      <td>Clinical Data Analyst</td>\n",
       "      <td>Richardson, TX, United States</td>\n",
       "      <td>48000.0</td>\n",
       "      <td>True</td>\n",
       "      <td>['Not-Specified']</td>\n",
       "    </tr>\n",
       "    <tr>\n",
       "      <th>2</th>\n",
       "      <td>Clinical Data Analyst</td>\n",
       "      <td>Richardson, TX, United States</td>\n",
       "      <td>48000.0</td>\n",
       "      <td>True</td>\n",
       "      <td>['Not-Specified']</td>\n",
       "    </tr>\n",
       "    <tr>\n",
       "      <th>3</th>\n",
       "      <td>Clinical Data Analyst</td>\n",
       "      <td>Richardson, TX, United States</td>\n",
       "      <td>48000.0</td>\n",
       "      <td>True</td>\n",
       "      <td>['Not-Specified']</td>\n",
       "    </tr>\n",
       "    <tr>\n",
       "      <th>4</th>\n",
       "      <td>Clinical Data Analyst</td>\n",
       "      <td>Richardson, TX, United States</td>\n",
       "      <td>48000.0</td>\n",
       "      <td>True</td>\n",
       "      <td>['Not-Specified']</td>\n",
       "    </tr>\n",
       "  </tbody>\n",
       "</table>\n",
       "</div>"
      ],
      "text/plain": [
       "               Job_Title                       Location  MNM_Salary_USD   \n",
       "0  Clinical Data Analyst  Richardson, TX, United States         48000.0  \\\n",
       "1  Clinical Data Analyst  Richardson, TX, United States         48000.0   \n",
       "2  Clinical Data Analyst  Richardson, TX, United States         48000.0   \n",
       "3  Clinical Data Analyst  Richardson, TX, United States         48000.0   \n",
       "4  Clinical Data Analyst  Richardson, TX, United States         48000.0   \n",
       "\n",
       "   Salary_Star         Facilities  \n",
       "0         True  ['Not-Specified']  \n",
       "1         True  ['Not-Specified']  \n",
       "2         True  ['Not-Specified']  \n",
       "3         True  ['Not-Specified']  \n",
       "4         True  ['Not-Specified']  "
      ]
     },
     "execution_count": 59,
     "metadata": {},
     "output_type": "execute_result"
    }
   ],
   "source": [
    "job_title.head()"
   ]
  },
  {
   "cell_type": "code",
   "execution_count": 60,
   "id": "6fc82fd5",
   "metadata": {},
   "outputs": [
    {
     "name": "stderr",
     "output_type": "stream",
     "text": [
      "C:\\Users\\Youcode\\AppData\\Local\\Temp\\ipykernel_21580\\10630285.py:1: SettingWithCopyWarning:\n",
      "\n",
      "\n",
      "A value is trying to be set on a copy of a slice from a DataFrame.\n",
      "Try using .loc[row_indexer,col_indexer] = value instead\n",
      "\n",
      "See the caveats in the documentation: https://pandas.pydata.org/pandas-docs/stable/user_guide/indexing.html#returning-a-view-versus-a-copy\n",
      "\n",
      "C:\\Users\\Youcode\\AppData\\Local\\Temp\\ipykernel_21580\\10630285.py:2: SettingWithCopyWarning:\n",
      "\n",
      "\n",
      "A value is trying to be set on a copy of a slice from a DataFrame.\n",
      "Try using .loc[row_indexer,col_indexer] = value instead\n",
      "\n",
      "See the caveats in the documentation: https://pandas.pydata.org/pandas-docs/stable/user_guide/indexing.html#returning-a-view-versus-a-copy\n",
      "\n",
      "C:\\Users\\Youcode\\AppData\\Local\\Temp\\ipykernel_21580\\10630285.py:3: SettingWithCopyWarning:\n",
      "\n",
      "\n",
      "A value is trying to be set on a copy of a slice from a DataFrame.\n",
      "Try using .loc[row_indexer,col_indexer] = value instead\n",
      "\n",
      "See the caveats in the documentation: https://pandas.pydata.org/pandas-docs/stable/user_guide/indexing.html#returning-a-view-versus-a-copy\n",
      "\n",
      "C:\\Users\\Youcode\\AppData\\Local\\Temp\\ipykernel_21580\\10630285.py:4: SettingWithCopyWarning:\n",
      "\n",
      "\n",
      "A value is trying to be set on a copy of a slice from a DataFrame.\n",
      "Try using .loc[row_indexer,col_indexer] = value instead\n",
      "\n",
      "See the caveats in the documentation: https://pandas.pydata.org/pandas-docs/stable/user_guide/indexing.html#returning-a-view-versus-a-copy\n",
      "\n",
      "C:\\Users\\Youcode\\AppData\\Local\\Temp\\ipykernel_21580\\10630285.py:5: SettingWithCopyWarning:\n",
      "\n",
      "\n",
      "A value is trying to be set on a copy of a slice from a DataFrame.\n",
      "Try using .loc[row_indexer,col_indexer] = value instead\n",
      "\n",
      "See the caveats in the documentation: https://pandas.pydata.org/pandas-docs/stable/user_guide/indexing.html#returning-a-view-versus-a-copy\n",
      "\n",
      "C:\\Users\\Youcode\\AppData\\Local\\Temp\\ipykernel_21580\\10630285.py:6: SettingWithCopyWarning:\n",
      "\n",
      "\n",
      "A value is trying to be set on a copy of a slice from a DataFrame.\n",
      "Try using .loc[row_indexer,col_indexer] = value instead\n",
      "\n",
      "See the caveats in the documentation: https://pandas.pydata.org/pandas-docs/stable/user_guide/indexing.html#returning-a-view-versus-a-copy\n",
      "\n"
     ]
    }
   ],
   "source": [
    "Company['company_Id'] = Company['Company'].astype('category').cat.codes\n",
    "Job_Categorie['job_categorie_Id'] = Job_Categorie['Job_Categorie'].astype('category').cat.codes\n",
    "Job_Type['job_type_Id'] = Job_Type['Job_Type'].astype('category').cat.codes\n",
    "Experience_level['level_Id'] = Experience_level['Experience_level'].astype('category').cat.codes\n",
    "Requirment_of_the_company['requirment_Id'] = Requirment_of_the_company['Requirment_of_the_company'].astype('category').cat.codes\n",
    "job_title['job_title_Id'] = job_title['Job_Title'].astype('category').cat.codes"
   ]
  },
  {
   "cell_type": "code",
   "execution_count": 61,
   "id": "05bb4862",
   "metadata": {},
   "outputs": [
    {
     "data": {
      "text/html": [
       "<div>\n",
       "<style scoped>\n",
       "    .dataframe tbody tr th:only-of-type {\n",
       "        vertical-align: middle;\n",
       "    }\n",
       "\n",
       "    .dataframe tbody tr th {\n",
       "        vertical-align: top;\n",
       "    }\n",
       "\n",
       "    .dataframe thead th {\n",
       "        text-align: right;\n",
       "    }\n",
       "</style>\n",
       "<table border=\"1\" class=\"dataframe\">\n",
       "  <thead>\n",
       "    <tr style=\"text-align: right;\">\n",
       "      <th></th>\n",
       "      <th>Job_Title</th>\n",
       "      <th>Location</th>\n",
       "      <th>MNM_Salary_USD</th>\n",
       "      <th>Salary_Star</th>\n",
       "      <th>Facilities</th>\n",
       "      <th>job_title_Id</th>\n",
       "    </tr>\n",
       "  </thead>\n",
       "  <tbody>\n",
       "    <tr>\n",
       "      <th>0</th>\n",
       "      <td>Clinical Data Analyst</td>\n",
       "      <td>Richardson, TX, United States</td>\n",
       "      <td>48000.0</td>\n",
       "      <td>True</td>\n",
       "      <td>['Not-Specified']</td>\n",
       "      <td>253</td>\n",
       "    </tr>\n",
       "    <tr>\n",
       "      <th>1</th>\n",
       "      <td>Clinical Data Analyst</td>\n",
       "      <td>Richardson, TX, United States</td>\n",
       "      <td>48000.0</td>\n",
       "      <td>True</td>\n",
       "      <td>['Not-Specified']</td>\n",
       "      <td>253</td>\n",
       "    </tr>\n",
       "    <tr>\n",
       "      <th>2</th>\n",
       "      <td>Clinical Data Analyst</td>\n",
       "      <td>Richardson, TX, United States</td>\n",
       "      <td>48000.0</td>\n",
       "      <td>True</td>\n",
       "      <td>['Not-Specified']</td>\n",
       "      <td>253</td>\n",
       "    </tr>\n",
       "    <tr>\n",
       "      <th>3</th>\n",
       "      <td>Clinical Data Analyst</td>\n",
       "      <td>Richardson, TX, United States</td>\n",
       "      <td>48000.0</td>\n",
       "      <td>True</td>\n",
       "      <td>['Not-Specified']</td>\n",
       "      <td>253</td>\n",
       "    </tr>\n",
       "    <tr>\n",
       "      <th>4</th>\n",
       "      <td>Clinical Data Analyst</td>\n",
       "      <td>Richardson, TX, United States</td>\n",
       "      <td>48000.0</td>\n",
       "      <td>True</td>\n",
       "      <td>['Not-Specified']</td>\n",
       "      <td>253</td>\n",
       "    </tr>\n",
       "  </tbody>\n",
       "</table>\n",
       "</div>"
      ],
      "text/plain": [
       "               Job_Title                       Location  MNM_Salary_USD   \n",
       "0  Clinical Data Analyst  Richardson, TX, United States         48000.0  \\\n",
       "1  Clinical Data Analyst  Richardson, TX, United States         48000.0   \n",
       "2  Clinical Data Analyst  Richardson, TX, United States         48000.0   \n",
       "3  Clinical Data Analyst  Richardson, TX, United States         48000.0   \n",
       "4  Clinical Data Analyst  Richardson, TX, United States         48000.0   \n",
       "\n",
       "   Salary_Star         Facilities  job_title_Id  \n",
       "0         True  ['Not-Specified']           253  \n",
       "1         True  ['Not-Specified']           253  \n",
       "2         True  ['Not-Specified']           253  \n",
       "3         True  ['Not-Specified']           253  \n",
       "4         True  ['Not-Specified']           253  "
      ]
     },
     "execution_count": 61,
     "metadata": {},
     "output_type": "execute_result"
    }
   ],
   "source": [
    "job_title.head()"
   ]
  },
  {
   "cell_type": "code",
   "execution_count": 62,
   "id": "0eef8dfb",
   "metadata": {},
   "outputs": [
    {
     "name": "stderr",
     "output_type": "stream",
     "text": [
      "C:\\Users\\Youcode\\AppData\\Local\\Temp\\ipykernel_21580\\1305275084.py:1: SettingWithCopyWarning:\n",
      "\n",
      "\n",
      "A value is trying to be set on a copy of a slice from a DataFrame.\n",
      "Try using .loc[row_indexer,col_indexer] = value instead\n",
      "\n",
      "See the caveats in the documentation: https://pandas.pydata.org/pandas-docs/stable/user_guide/indexing.html#returning-a-view-versus-a-copy\n",
      "\n",
      "C:\\Users\\Youcode\\AppData\\Local\\Temp\\ipykernel_21580\\1305275084.py:2: SettingWithCopyWarning:\n",
      "\n",
      "\n",
      "A value is trying to be set on a copy of a slice from a DataFrame.\n",
      "Try using .loc[row_indexer,col_indexer] = value instead\n",
      "\n",
      "See the caveats in the documentation: https://pandas.pydata.org/pandas-docs/stable/user_guide/indexing.html#returning-a-view-versus-a-copy\n",
      "\n",
      "C:\\Users\\Youcode\\AppData\\Local\\Temp\\ipykernel_21580\\1305275084.py:3: SettingWithCopyWarning:\n",
      "\n",
      "\n",
      "A value is trying to be set on a copy of a slice from a DataFrame.\n",
      "Try using .loc[row_indexer,col_indexer] = value instead\n",
      "\n",
      "See the caveats in the documentation: https://pandas.pydata.org/pandas-docs/stable/user_guide/indexing.html#returning-a-view-versus-a-copy\n",
      "\n",
      "C:\\Users\\Youcode\\AppData\\Local\\Temp\\ipykernel_21580\\1305275084.py:4: SettingWithCopyWarning:\n",
      "\n",
      "\n",
      "A value is trying to be set on a copy of a slice from a DataFrame.\n",
      "Try using .loc[row_indexer,col_indexer] = value instead\n",
      "\n",
      "See the caveats in the documentation: https://pandas.pydata.org/pandas-docs/stable/user_guide/indexing.html#returning-a-view-versus-a-copy\n",
      "\n"
     ]
    }
   ],
   "source": [
    "job_title['company_Id'] = Company['company_Id']\n",
    "job_title['job_categorie_Id'] = Job_Categorie['job_categorie_Id']\n",
    "job_title['job_type_Id'] = Job_Type['job_type_Id']\n",
    "job_title['level_Id'] = Experience_level['level_Id']\n",
    "job_title['requirment_Id'] = Requirment_of_the_company['requirment_Id']"
   ]
  },
  {
   "cell_type": "code",
   "execution_count": 63,
   "id": "b5126dc7",
   "metadata": {},
   "outputs": [
    {
     "data": {
      "text/html": [
       "<div>\n",
       "<style scoped>\n",
       "    .dataframe tbody tr th:only-of-type {\n",
       "        vertical-align: middle;\n",
       "    }\n",
       "\n",
       "    .dataframe tbody tr th {\n",
       "        vertical-align: top;\n",
       "    }\n",
       "\n",
       "    .dataframe thead th {\n",
       "        text-align: right;\n",
       "    }\n",
       "</style>\n",
       "<table border=\"1\" class=\"dataframe\">\n",
       "  <thead>\n",
       "    <tr style=\"text-align: right;\">\n",
       "      <th></th>\n",
       "      <th>Job_Title</th>\n",
       "      <th>Location</th>\n",
       "      <th>MNM_Salary_USD</th>\n",
       "      <th>Salary_Star</th>\n",
       "      <th>Facilities</th>\n",
       "      <th>job_title_Id</th>\n",
       "      <th>company_Id</th>\n",
       "      <th>job_categorie_Id</th>\n",
       "      <th>job_type_Id</th>\n",
       "      <th>level_Id</th>\n",
       "      <th>requirment_Id</th>\n",
       "    </tr>\n",
       "  </thead>\n",
       "  <tbody>\n",
       "    <tr>\n",
       "      <th>0</th>\n",
       "      <td>Clinical Data Analyst</td>\n",
       "      <td>Richardson, TX, United States</td>\n",
       "      <td>48000.0</td>\n",
       "      <td>True</td>\n",
       "      <td>['Not-Specified']</td>\n",
       "      <td>253</td>\n",
       "      <td>810</td>\n",
       "      <td>163</td>\n",
       "      <td>0</td>\n",
       "      <td>0</td>\n",
       "      <td>62</td>\n",
       "    </tr>\n",
       "    <tr>\n",
       "      <th>1</th>\n",
       "      <td>Clinical Data Analyst</td>\n",
       "      <td>Richardson, TX, United States</td>\n",
       "      <td>48000.0</td>\n",
       "      <td>True</td>\n",
       "      <td>['Not-Specified']</td>\n",
       "      <td>253</td>\n",
       "      <td>810</td>\n",
       "      <td>163</td>\n",
       "      <td>0</td>\n",
       "      <td>0</td>\n",
       "      <td>87</td>\n",
       "    </tr>\n",
       "    <tr>\n",
       "      <th>2</th>\n",
       "      <td>Clinical Data Analyst</td>\n",
       "      <td>Richardson, TX, United States</td>\n",
       "      <td>48000.0</td>\n",
       "      <td>True</td>\n",
       "      <td>['Not-Specified']</td>\n",
       "      <td>253</td>\n",
       "      <td>810</td>\n",
       "      <td>163</td>\n",
       "      <td>0</td>\n",
       "      <td>0</td>\n",
       "      <td>135</td>\n",
       "    </tr>\n",
       "    <tr>\n",
       "      <th>3</th>\n",
       "      <td>Clinical Data Analyst</td>\n",
       "      <td>Richardson, TX, United States</td>\n",
       "      <td>48000.0</td>\n",
       "      <td>True</td>\n",
       "      <td>['Not-Specified']</td>\n",
       "      <td>253</td>\n",
       "      <td>810</td>\n",
       "      <td>163</td>\n",
       "      <td>0</td>\n",
       "      <td>0</td>\n",
       "      <td>192</td>\n",
       "    </tr>\n",
       "    <tr>\n",
       "      <th>4</th>\n",
       "      <td>Clinical Data Analyst</td>\n",
       "      <td>Richardson, TX, United States</td>\n",
       "      <td>48000.0</td>\n",
       "      <td>True</td>\n",
       "      <td>['Not-Specified']</td>\n",
       "      <td>253</td>\n",
       "      <td>810</td>\n",
       "      <td>163</td>\n",
       "      <td>0</td>\n",
       "      <td>0</td>\n",
       "      <td>251</td>\n",
       "    </tr>\n",
       "  </tbody>\n",
       "</table>\n",
       "</div>"
      ],
      "text/plain": [
       "               Job_Title                       Location  MNM_Salary_USD   \n",
       "0  Clinical Data Analyst  Richardson, TX, United States         48000.0  \\\n",
       "1  Clinical Data Analyst  Richardson, TX, United States         48000.0   \n",
       "2  Clinical Data Analyst  Richardson, TX, United States         48000.0   \n",
       "3  Clinical Data Analyst  Richardson, TX, United States         48000.0   \n",
       "4  Clinical Data Analyst  Richardson, TX, United States         48000.0   \n",
       "\n",
       "   Salary_Star         Facilities  job_title_Id  company_Id  job_categorie_Id   \n",
       "0         True  ['Not-Specified']           253         810               163  \\\n",
       "1         True  ['Not-Specified']           253         810               163   \n",
       "2         True  ['Not-Specified']           253         810               163   \n",
       "3         True  ['Not-Specified']           253         810               163   \n",
       "4         True  ['Not-Specified']           253         810               163   \n",
       "\n",
       "   job_type_Id  level_Id  requirment_Id  \n",
       "0            0         0             62  \n",
       "1            0         0             87  \n",
       "2            0         0            135  \n",
       "3            0         0            192  \n",
       "4            0         0            251  "
      ]
     },
     "execution_count": 63,
     "metadata": {},
     "output_type": "execute_result"
    }
   ],
   "source": [
    "job_title.head()"
   ]
  },
  {
   "cell_type": "code",
   "execution_count": 64,
   "id": "dd769627",
   "metadata": {},
   "outputs": [
    {
     "data": {
      "text/html": [
       "<div>\n",
       "<style scoped>\n",
       "    .dataframe tbody tr th:only-of-type {\n",
       "        vertical-align: middle;\n",
       "    }\n",
       "\n",
       "    .dataframe tbody tr th {\n",
       "        vertical-align: top;\n",
       "    }\n",
       "\n",
       "    .dataframe thead th {\n",
       "        text-align: right;\n",
       "    }\n",
       "</style>\n",
       "<table border=\"1\" class=\"dataframe\">\n",
       "  <thead>\n",
       "    <tr style=\"text-align: right;\">\n",
       "      <th></th>\n",
       "      <th>requirment_Id</th>\n",
       "      <th>job_title_Id</th>\n",
       "    </tr>\n",
       "  </thead>\n",
       "  <tbody>\n",
       "    <tr>\n",
       "      <th>0</th>\n",
       "      <td>62</td>\n",
       "      <td>253</td>\n",
       "    </tr>\n",
       "    <tr>\n",
       "      <th>1</th>\n",
       "      <td>87</td>\n",
       "      <td>253</td>\n",
       "    </tr>\n",
       "    <tr>\n",
       "      <th>2</th>\n",
       "      <td>135</td>\n",
       "      <td>253</td>\n",
       "    </tr>\n",
       "    <tr>\n",
       "      <th>3</th>\n",
       "      <td>192</td>\n",
       "      <td>253</td>\n",
       "    </tr>\n",
       "    <tr>\n",
       "      <th>4</th>\n",
       "      <td>251</td>\n",
       "      <td>253</td>\n",
       "    </tr>\n",
       "  </tbody>\n",
       "</table>\n",
       "</div>"
      ],
      "text/plain": [
       "   requirment_Id  job_title_Id\n",
       "0             62           253\n",
       "1             87           253\n",
       "2            135           253\n",
       "3            192           253\n",
       "4            251           253"
      ]
     },
     "execution_count": 64,
     "metadata": {},
     "output_type": "execute_result"
    }
   ],
   "source": [
    "JobTitle_Requirment = pd.DataFrame({'requirment_Id': Requirment_of_the_company['requirment_Id'], 'job_title_Id': job_title ['job_title_Id']})\n",
    "JobTitle_Requirment.head()"
   ]
  },
  {
   "cell_type": "code",
   "execution_count": 65,
   "id": "538281d9",
   "metadata": {},
   "outputs": [],
   "source": [
    "# Change the column order using indexing on each DataFrame\n",
    "Company = Company[['company_Id', 'Company']]\n",
    "Job_Categorie = Job_Categorie[['job_categorie_Id', 'Job_Categorie']]\n",
    "Job_Type = Job_Type[['job_type_Id', 'Job_Type']]\n",
    "Experience_level = Experience_level[['level_Id','Experience_level']]\n",
    "Requirment_of_the_company = Requirment_of_the_company[['requirment_Id', 'Requirment_of_the_company']]\n",
    "job_title = job_title[['job_title_Id', 'Job_Title','company_Id','job_categorie_Id','Location','job_type_Id','level_Id','MNM_Salary_USD','Salary_Star','requirment_Id','Facilities']]"
   ]
  },
  {
   "cell_type": "code",
   "execution_count": 66,
   "id": "85460274",
   "metadata": {},
   "outputs": [
    {
     "data": {
      "text/html": [
       "<div>\n",
       "<style scoped>\n",
       "    .dataframe tbody tr th:only-of-type {\n",
       "        vertical-align: middle;\n",
       "    }\n",
       "\n",
       "    .dataframe tbody tr th {\n",
       "        vertical-align: top;\n",
       "    }\n",
       "\n",
       "    .dataframe thead th {\n",
       "        text-align: right;\n",
       "    }\n",
       "</style>\n",
       "<table border=\"1\" class=\"dataframe\">\n",
       "  <thead>\n",
       "    <tr style=\"text-align: right;\">\n",
       "      <th></th>\n",
       "      <th>company_Id</th>\n",
       "      <th>Company</th>\n",
       "    </tr>\n",
       "  </thead>\n",
       "  <tbody>\n",
       "    <tr>\n",
       "      <th>0</th>\n",
       "      <td>810</td>\n",
       "      <td>SGS</td>\n",
       "    </tr>\n",
       "    <tr>\n",
       "      <th>1</th>\n",
       "      <td>810</td>\n",
       "      <td>SGS</td>\n",
       "    </tr>\n",
       "    <tr>\n",
       "      <th>2</th>\n",
       "      <td>810</td>\n",
       "      <td>SGS</td>\n",
       "    </tr>\n",
       "    <tr>\n",
       "      <th>3</th>\n",
       "      <td>810</td>\n",
       "      <td>SGS</td>\n",
       "    </tr>\n",
       "    <tr>\n",
       "      <th>4</th>\n",
       "      <td>810</td>\n",
       "      <td>SGS</td>\n",
       "    </tr>\n",
       "  </tbody>\n",
       "</table>\n",
       "</div>"
      ],
      "text/plain": [
       "   company_Id Company\n",
       "0         810     SGS\n",
       "1         810     SGS\n",
       "2         810     SGS\n",
       "3         810     SGS\n",
       "4         810     SGS"
      ]
     },
     "execution_count": 66,
     "metadata": {},
     "output_type": "execute_result"
    }
   ],
   "source": [
    "Company.head()"
   ]
  },
  {
   "cell_type": "code",
   "execution_count": 67,
   "id": "db0e08b9",
   "metadata": {},
   "outputs": [
    {
     "data": {
      "text/html": [
       "<div>\n",
       "<style scoped>\n",
       "    .dataframe tbody tr th:only-of-type {\n",
       "        vertical-align: middle;\n",
       "    }\n",
       "\n",
       "    .dataframe tbody tr th {\n",
       "        vertical-align: top;\n",
       "    }\n",
       "\n",
       "    .dataframe thead th {\n",
       "        text-align: right;\n",
       "    }\n",
       "</style>\n",
       "<table border=\"1\" class=\"dataframe\">\n",
       "  <thead>\n",
       "    <tr style=\"text-align: right;\">\n",
       "      <th></th>\n",
       "      <th>job_categorie_Id</th>\n",
       "      <th>Job_Categorie</th>\n",
       "    </tr>\n",
       "  </thead>\n",
       "  <tbody>\n",
       "    <tr>\n",
       "      <th>0</th>\n",
       "      <td>163</td>\n",
       "      <td>Data Analyst</td>\n",
       "    </tr>\n",
       "    <tr>\n",
       "      <th>1</th>\n",
       "      <td>163</td>\n",
       "      <td>Data Analyst</td>\n",
       "    </tr>\n",
       "    <tr>\n",
       "      <th>2</th>\n",
       "      <td>163</td>\n",
       "      <td>Data Analyst</td>\n",
       "    </tr>\n",
       "    <tr>\n",
       "      <th>3</th>\n",
       "      <td>163</td>\n",
       "      <td>Data Analyst</td>\n",
       "    </tr>\n",
       "    <tr>\n",
       "      <th>4</th>\n",
       "      <td>163</td>\n",
       "      <td>Data Analyst</td>\n",
       "    </tr>\n",
       "  </tbody>\n",
       "</table>\n",
       "</div>"
      ],
      "text/plain": [
       "   job_categorie_Id Job_Categorie\n",
       "0               163  Data Analyst\n",
       "1               163  Data Analyst\n",
       "2               163  Data Analyst\n",
       "3               163  Data Analyst\n",
       "4               163  Data Analyst"
      ]
     },
     "execution_count": 67,
     "metadata": {},
     "output_type": "execute_result"
    }
   ],
   "source": [
    "Job_Categorie.head()"
   ]
  },
  {
   "cell_type": "code",
   "execution_count": 68,
   "id": "39ca5429",
   "metadata": {},
   "outputs": [
    {
     "data": {
      "text/html": [
       "<div>\n",
       "<style scoped>\n",
       "    .dataframe tbody tr th:only-of-type {\n",
       "        vertical-align: middle;\n",
       "    }\n",
       "\n",
       "    .dataframe tbody tr th {\n",
       "        vertical-align: top;\n",
       "    }\n",
       "\n",
       "    .dataframe thead th {\n",
       "        text-align: right;\n",
       "    }\n",
       "</style>\n",
       "<table border=\"1\" class=\"dataframe\">\n",
       "  <thead>\n",
       "    <tr style=\"text-align: right;\">\n",
       "      <th></th>\n",
       "      <th>job_type_Id</th>\n",
       "      <th>Job_Type</th>\n",
       "    </tr>\n",
       "  </thead>\n",
       "  <tbody>\n",
       "    <tr>\n",
       "      <th>0</th>\n",
       "      <td>0</td>\n",
       "      <td>Full Time</td>\n",
       "    </tr>\n",
       "    <tr>\n",
       "      <th>1</th>\n",
       "      <td>0</td>\n",
       "      <td>Full Time</td>\n",
       "    </tr>\n",
       "    <tr>\n",
       "      <th>2</th>\n",
       "      <td>0</td>\n",
       "      <td>Full Time</td>\n",
       "    </tr>\n",
       "    <tr>\n",
       "      <th>3</th>\n",
       "      <td>0</td>\n",
       "      <td>Full Time</td>\n",
       "    </tr>\n",
       "    <tr>\n",
       "      <th>4</th>\n",
       "      <td>0</td>\n",
       "      <td>Full Time</td>\n",
       "    </tr>\n",
       "  </tbody>\n",
       "</table>\n",
       "</div>"
      ],
      "text/plain": [
       "   job_type_Id   Job_Type\n",
       "0            0  Full Time\n",
       "1            0  Full Time\n",
       "2            0  Full Time\n",
       "3            0  Full Time\n",
       "4            0  Full Time"
      ]
     },
     "execution_count": 68,
     "metadata": {},
     "output_type": "execute_result"
    }
   ],
   "source": [
    "Job_Type.head()"
   ]
  },
  {
   "cell_type": "code",
   "execution_count": 69,
   "id": "3ae31acb",
   "metadata": {},
   "outputs": [
    {
     "data": {
      "text/html": [
       "<div>\n",
       "<style scoped>\n",
       "    .dataframe tbody tr th:only-of-type {\n",
       "        vertical-align: middle;\n",
       "    }\n",
       "\n",
       "    .dataframe tbody tr th {\n",
       "        vertical-align: top;\n",
       "    }\n",
       "\n",
       "    .dataframe thead th {\n",
       "        text-align: right;\n",
       "    }\n",
       "</style>\n",
       "<table border=\"1\" class=\"dataframe\">\n",
       "  <thead>\n",
       "    <tr style=\"text-align: right;\">\n",
       "      <th></th>\n",
       "      <th>level_Id</th>\n",
       "      <th>Experience_level</th>\n",
       "    </tr>\n",
       "  </thead>\n",
       "  <tbody>\n",
       "    <tr>\n",
       "      <th>0</th>\n",
       "      <td>0</td>\n",
       "      <td>Entry-level</td>\n",
       "    </tr>\n",
       "    <tr>\n",
       "      <th>1</th>\n",
       "      <td>0</td>\n",
       "      <td>Entry-level</td>\n",
       "    </tr>\n",
       "    <tr>\n",
       "      <th>2</th>\n",
       "      <td>0</td>\n",
       "      <td>Entry-level</td>\n",
       "    </tr>\n",
       "    <tr>\n",
       "      <th>3</th>\n",
       "      <td>0</td>\n",
       "      <td>Entry-level</td>\n",
       "    </tr>\n",
       "    <tr>\n",
       "      <th>4</th>\n",
       "      <td>0</td>\n",
       "      <td>Entry-level</td>\n",
       "    </tr>\n",
       "  </tbody>\n",
       "</table>\n",
       "</div>"
      ],
      "text/plain": [
       "   level_Id Experience_level\n",
       "0         0      Entry-level\n",
       "1         0      Entry-level\n",
       "2         0      Entry-level\n",
       "3         0      Entry-level\n",
       "4         0      Entry-level"
      ]
     },
     "execution_count": 69,
     "metadata": {},
     "output_type": "execute_result"
    }
   ],
   "source": [
    "Experience_level.head()"
   ]
  },
  {
   "cell_type": "code",
   "execution_count": 70,
   "id": "83c29047",
   "metadata": {},
   "outputs": [
    {
     "data": {
      "text/html": [
       "<div>\n",
       "<style scoped>\n",
       "    .dataframe tbody tr th:only-of-type {\n",
       "        vertical-align: middle;\n",
       "    }\n",
       "\n",
       "    .dataframe tbody tr th {\n",
       "        vertical-align: top;\n",
       "    }\n",
       "\n",
       "    .dataframe thead th {\n",
       "        text-align: right;\n",
       "    }\n",
       "</style>\n",
       "<table border=\"1\" class=\"dataframe\">\n",
       "  <thead>\n",
       "    <tr style=\"text-align: right;\">\n",
       "      <th></th>\n",
       "      <th>requirment_Id</th>\n",
       "      <th>Requirment_of_the_company</th>\n",
       "    </tr>\n",
       "  </thead>\n",
       "  <tbody>\n",
       "    <tr>\n",
       "      <th>0</th>\n",
       "      <td>62</td>\n",
       "      <td>Computer Science</td>\n",
       "    </tr>\n",
       "    <tr>\n",
       "      <th>1</th>\n",
       "      <td>87</td>\n",
       "      <td>Data quality</td>\n",
       "    </tr>\n",
       "    <tr>\n",
       "      <th>2</th>\n",
       "      <td>135</td>\n",
       "      <td>Genetics</td>\n",
       "    </tr>\n",
       "    <tr>\n",
       "      <th>3</th>\n",
       "      <td>192</td>\n",
       "      <td>Mathematics</td>\n",
       "    </tr>\n",
       "    <tr>\n",
       "      <th>4</th>\n",
       "      <td>251</td>\n",
       "      <td>SAS</td>\n",
       "    </tr>\n",
       "  </tbody>\n",
       "</table>\n",
       "</div>"
      ],
      "text/plain": [
       "   requirment_Id Requirment_of_the_company\n",
       "0             62          Computer Science\n",
       "1             87              Data quality\n",
       "2            135                  Genetics\n",
       "3            192               Mathematics\n",
       "4            251                       SAS"
      ]
     },
     "execution_count": 70,
     "metadata": {},
     "output_type": "execute_result"
    }
   ],
   "source": [
    "Requirment_of_the_company.head()"
   ]
  },
  {
   "cell_type": "code",
   "execution_count": 71,
   "id": "23091c3d",
   "metadata": {},
   "outputs": [
    {
     "data": {
      "text/html": [
       "<div>\n",
       "<style scoped>\n",
       "    .dataframe tbody tr th:only-of-type {\n",
       "        vertical-align: middle;\n",
       "    }\n",
       "\n",
       "    .dataframe tbody tr th {\n",
       "        vertical-align: top;\n",
       "    }\n",
       "\n",
       "    .dataframe thead th {\n",
       "        text-align: right;\n",
       "    }\n",
       "</style>\n",
       "<table border=\"1\" class=\"dataframe\">\n",
       "  <thead>\n",
       "    <tr style=\"text-align: right;\">\n",
       "      <th></th>\n",
       "      <th>job_title_Id</th>\n",
       "      <th>Job_Title</th>\n",
       "      <th>company_Id</th>\n",
       "      <th>job_categorie_Id</th>\n",
       "      <th>Location</th>\n",
       "      <th>job_type_Id</th>\n",
       "      <th>level_Id</th>\n",
       "      <th>MNM_Salary_USD</th>\n",
       "      <th>Salary_Star</th>\n",
       "      <th>requirment_Id</th>\n",
       "      <th>Facilities</th>\n",
       "    </tr>\n",
       "  </thead>\n",
       "  <tbody>\n",
       "    <tr>\n",
       "      <th>0</th>\n",
       "      <td>253</td>\n",
       "      <td>Clinical Data Analyst</td>\n",
       "      <td>810</td>\n",
       "      <td>163</td>\n",
       "      <td>Richardson, TX, United States</td>\n",
       "      <td>0</td>\n",
       "      <td>0</td>\n",
       "      <td>48000.0</td>\n",
       "      <td>True</td>\n",
       "      <td>62</td>\n",
       "      <td>['Not-Specified']</td>\n",
       "    </tr>\n",
       "    <tr>\n",
       "      <th>1</th>\n",
       "      <td>253</td>\n",
       "      <td>Clinical Data Analyst</td>\n",
       "      <td>810</td>\n",
       "      <td>163</td>\n",
       "      <td>Richardson, TX, United States</td>\n",
       "      <td>0</td>\n",
       "      <td>0</td>\n",
       "      <td>48000.0</td>\n",
       "      <td>True</td>\n",
       "      <td>87</td>\n",
       "      <td>['Not-Specified']</td>\n",
       "    </tr>\n",
       "    <tr>\n",
       "      <th>2</th>\n",
       "      <td>253</td>\n",
       "      <td>Clinical Data Analyst</td>\n",
       "      <td>810</td>\n",
       "      <td>163</td>\n",
       "      <td>Richardson, TX, United States</td>\n",
       "      <td>0</td>\n",
       "      <td>0</td>\n",
       "      <td>48000.0</td>\n",
       "      <td>True</td>\n",
       "      <td>135</td>\n",
       "      <td>['Not-Specified']</td>\n",
       "    </tr>\n",
       "    <tr>\n",
       "      <th>3</th>\n",
       "      <td>253</td>\n",
       "      <td>Clinical Data Analyst</td>\n",
       "      <td>810</td>\n",
       "      <td>163</td>\n",
       "      <td>Richardson, TX, United States</td>\n",
       "      <td>0</td>\n",
       "      <td>0</td>\n",
       "      <td>48000.0</td>\n",
       "      <td>True</td>\n",
       "      <td>192</td>\n",
       "      <td>['Not-Specified']</td>\n",
       "    </tr>\n",
       "    <tr>\n",
       "      <th>4</th>\n",
       "      <td>253</td>\n",
       "      <td>Clinical Data Analyst</td>\n",
       "      <td>810</td>\n",
       "      <td>163</td>\n",
       "      <td>Richardson, TX, United States</td>\n",
       "      <td>0</td>\n",
       "      <td>0</td>\n",
       "      <td>48000.0</td>\n",
       "      <td>True</td>\n",
       "      <td>251</td>\n",
       "      <td>['Not-Specified']</td>\n",
       "    </tr>\n",
       "  </tbody>\n",
       "</table>\n",
       "</div>"
      ],
      "text/plain": [
       "   job_title_Id              Job_Title  company_Id  job_categorie_Id   \n",
       "0           253  Clinical Data Analyst         810               163  \\\n",
       "1           253  Clinical Data Analyst         810               163   \n",
       "2           253  Clinical Data Analyst         810               163   \n",
       "3           253  Clinical Data Analyst         810               163   \n",
       "4           253  Clinical Data Analyst         810               163   \n",
       "\n",
       "                        Location  job_type_Id  level_Id  MNM_Salary_USD   \n",
       "0  Richardson, TX, United States            0         0         48000.0  \\\n",
       "1  Richardson, TX, United States            0         0         48000.0   \n",
       "2  Richardson, TX, United States            0         0         48000.0   \n",
       "3  Richardson, TX, United States            0         0         48000.0   \n",
       "4  Richardson, TX, United States            0         0         48000.0   \n",
       "\n",
       "   Salary_Star  requirment_Id         Facilities  \n",
       "0         True             62  ['Not-Specified']  \n",
       "1         True             87  ['Not-Specified']  \n",
       "2         True            135  ['Not-Specified']  \n",
       "3         True            192  ['Not-Specified']  \n",
       "4         True            251  ['Not-Specified']  "
      ]
     },
     "execution_count": 71,
     "metadata": {},
     "output_type": "execute_result"
    }
   ],
   "source": [
    "job_title.head()"
   ]
  },
  {
   "cell_type": "markdown",
   "id": "b7a58a8c",
   "metadata": {},
   "source": [
    "### Création des tables"
   ]
  },
  {
   "cell_type": "code",
   "execution_count": 72,
   "id": "c6e14629",
   "metadata": {},
   "outputs": [],
   "source": [
    "import pyodbc"
   ]
  },
  {
   "cell_type": "code",
   "execution_count": 73,
   "id": "e06e35c8",
   "metadata": {},
   "outputs": [],
   "source": [
    "# Créez la connexion\n",
    "connection = pyodbc.connect('DRIVER={SQL SERVER} ;SERVER=LAPTOP-1US3GU3J\\SQLEXPRESS;DATABASE=Jobs')"
   ]
  },
  {
   "cell_type": "code",
   "execution_count": 74,
   "id": "3b32f5b0",
   "metadata": {},
   "outputs": [],
   "source": [
    "cursor = connection.cursor()"
   ]
  },
  {
   "cell_type": "code",
   "execution_count": 75,
   "id": "eb5e776d",
   "metadata": {},
   "outputs": [
    {
     "data": {
      "text/plain": [
       "<pyodbc.Cursor at 0x2995b085eb0>"
      ]
     },
     "execution_count": 75,
     "metadata": {},
     "output_type": "execute_result"
    }
   ],
   "source": [
    "# Create the Company table\n",
    "cursor.execute('''\n",
    "CREATE TABLE Company (\n",
    "    company_Id INT,\n",
    "    company_name VARCHAR(255),\n",
    "    PRIMARY KEY (company_Id)\n",
    ");\n",
    "''')\n",
    "\n",
    "# Create the Job_Categorie table\n",
    "cursor.execute('''\n",
    "CREATE TABLE Job_Categorie (\n",
    "    job_categorie_Id INT,\n",
    "    job_name VARCHAR(255),\n",
    "    PRIMARY KEY (job_categorie_Id)\n",
    ");\n",
    "''')\n",
    "\n",
    "# Create the Job_Type table\n",
    "cursor.execute('''\n",
    "CREATE TABLE Job_Type (\n",
    "    job_type_Id INT,\n",
    "    job_type_name VARCHAR(255),\n",
    "    PRIMARY KEY (job_type_Id)\n",
    ");\n",
    "''')\n",
    "\n",
    "# Create the Experience_level table\n",
    "cursor.execute('''\n",
    "CREATE TABLE Experience_level (\n",
    "    level_Id INT,\n",
    "    level_name VARCHAR(255),\n",
    "    PRIMARY KEY (level_Id)\n",
    ");\n",
    "''')\n",
    "\n",
    "# Create the Job_Title table\n",
    "cursor.execute('''\n",
    "CREATE TABLE Job_Title (\n",
    "    job_title_Id INT,\n",
    "    job_title_name VARCHAR(255),\n",
    "    company_Id INT,\n",
    "    job_categorie_Id INT,\n",
    "    location VARCHAR(255),\n",
    "    job_type_Id INT,\n",
    "    level_Id INT,\n",
    "    mnm_salary_usd FLOAT,\n",
    "    salary_star_Id INT,\n",
    "    requirment_Id INT,\n",
    "    faciilities VARCHAR(255),\n",
    "    PRIMARY KEY (job_title_Id),\n",
    "    CONSTRAINT FK_Job_Title_job_categorie_Id\n",
    "        FOREIGN KEY (job_categorie_Id) REFERENCES Job_Categorie (job_categorie_Id),\n",
    "    CONSTRAINT FK_Job_Title_company_Id\n",
    "        FOREIGN KEY (company_Id) REFERENCES Company (company_Id),\n",
    "    CONSTRAINT FK_Job_Title_job_type_Id\n",
    "        FOREIGN KEY (job_type_Id) REFERENCES Job_Type (job_type_Id),\n",
    "    CONSTRAINT FK_Job_Title_level_Id\n",
    "        FOREIGN KEY (level_Id) REFERENCES Experience_level (level_Id)\n",
    ");\n",
    "''')\n",
    "\n",
    "\n",
    "# Create the Requirment_of_the_company table\n",
    "cursor.execute('''\n",
    "CREATE TABLE Requirment_of_the_company (\n",
    "    requirment_Id INT,\n",
    "    requirment_name VARCHAR(255),\n",
    "    PRIMARY KEY (requirment_Id)\n",
    ");\n",
    "''')\n",
    "\n",
    "\n",
    "# Create the JobTitle_Requirment table\n",
    "cursor.execute('''\n",
    "CREATE TABLE JobTitle_Requirment (\n",
    "    requirment_Id INT,\n",
    "    job_title_Id INT,\n",
    "    CONSTRAINT FK_JobTitle_Requirment_requirment_Id\n",
    "        FOREIGN KEY (requirment_Id) REFERENCES Requirment_of_the_company (requirment_Id),\n",
    "    CONSTRAINT FK_JobTitle_Requirment_job_title_Id\n",
    "        FOREIGN KEY (job_title_Id) REFERENCES Job_Title (job_title_Id)\n",
    ");\n",
    "''')"
   ]
  },
  {
   "cell_type": "code",
   "execution_count": 76,
   "id": "ffb51207",
   "metadata": {},
   "outputs": [],
   "source": [
    "connection.commit()"
   ]
  },
  {
   "cell_type": "code",
   "execution_count": 77,
   "id": "406e520d",
   "metadata": {},
   "outputs": [],
   "source": [
    "# Insert data into the Company table\n",
    "for row in Company.itertuples():\n",
    "    # Check if the company_Id already exists in the table\n",
    "    cursor.execute('SELECT COUNT(*) FROM Company WHERE company_Id = ?', (row.company_Id,))\n",
    "    count = cursor.fetchone()[0]\n",
    "    \n",
    "    if count == 0:\n",
    "        # Insert the record if it doesn't exist\n",
    "        cursor.execute('INSERT INTO Company (company_Id, company_name) VALUES (?, ?)', (row.company_Id, row.Company))\n",
    "\n",
    "connection.commit()"
   ]
  },
  {
   "cell_type": "code",
   "execution_count": 78,
   "id": "22b1d4f5",
   "metadata": {},
   "outputs": [],
   "source": [
    "# Insert data into the Job_Categorie table\n",
    "for row in Job_Categorie.itertuples():\n",
    "    # Check if the job_categorie_Id already exists in the table\n",
    "    cursor.execute('SELECT COUNT(*) FROM Job_Categorie WHERE job_categorie_Id = ?', (row.job_categorie_Id,))\n",
    "    count = cursor.fetchone()[0]\n",
    "    \n",
    "    if count == 0:\n",
    "        # Insert the record if it doesn't exist\n",
    "        cursor.execute('INSERT INTO Job_Categorie (job_categorie_Id, job_name) VALUES (?, ?)', (row.job_categorie_Id, row.Job_Categorie))\n",
    "\n",
    "connection.commit()"
   ]
  },
  {
   "cell_type": "code",
   "execution_count": 79,
   "id": "8fe3e064",
   "metadata": {},
   "outputs": [],
   "source": [
    "# Insert data into the Job_Type table\n",
    "for row in Job_Type.itertuples():\n",
    "    # Check if the job_type_Id already exists in the table\n",
    "    cursor.execute('SELECT COUNT(*) FROM Job_Type WHERE job_type_Id = ?', (row.job_type_Id,))\n",
    "    count = cursor.fetchone()[0]\n",
    "    \n",
    "    if count == 0:\n",
    "        # Insert the record if it doesn't exist\n",
    "        cursor.execute('INSERT INTO Job_Type (job_type_Id, job_type_name) VALUES (?, ?)', (row.job_type_Id, row.Job_Type))\n",
    "\n",
    "connection.commit()"
   ]
  },
  {
   "cell_type": "code",
   "execution_count": 80,
   "id": "21a22703",
   "metadata": {},
   "outputs": [],
   "source": [
    "# Insert data into the Experience_level table\n",
    "for row in Experience_level.itertuples():\n",
    "    # Check if the level_Id already exists in the table\n",
    "    cursor.execute('SELECT COUNT(*) FROM Experience_level WHERE level_Id = ?', (row.level_Id,))\n",
    "    count = cursor.fetchone()[0]\n",
    "    \n",
    "    if count == 0:\n",
    "        # Insert the record if it doesn't exist\n",
    "        cursor.execute('INSERT INTO Experience_level (level_Id, level_name) VALUES (?, ?)', (row.level_Id, row.Experience_level))\n",
    "\n",
    "connection.commit()"
   ]
  },
  {
   "cell_type": "code",
   "execution_count": 81,
   "id": "da6ee1f0",
   "metadata": {},
   "outputs": [],
   "source": [
    "# Insert data into the Requirment_of_the_company table\n",
    "for row in Requirment_of_the_company.itertuples():\n",
    "    # Check if the requirment_Id already exists in the table\n",
    "    cursor.execute('SELECT COUNT(*) FROM Requirment_of_the_company WHERE requirment_Id = ?', (row.requirment_Id,))\n",
    "    count = cursor.fetchone()[0]\n",
    "    \n",
    "    if count == 0:\n",
    "        # Insert the record if it doesn't exist\n",
    "        cursor.execute('INSERT INTO Requirment_of_the_company (requirment_Id, requirment_name) VALUES (?, ?)', (row.requirment_Id, row.Requirment_of_the_company))\n",
    "\n",
    "connection.commit()"
   ]
  },
  {
   "cell_type": "code",
   "execution_count": 82,
   "id": "185aa15d",
   "metadata": {},
   "outputs": [],
   "source": [
    "# Insert data into the Job_Title table\n",
    "for row in job_title.itertuples():\n",
    "    # Check if the job_title_Id already exists in the table\n",
    "    cursor.execute('SELECT COUNT(*) FROM Job_Title WHERE job_title_Id = ?', (row.job_title_Id,))\n",
    "    count = cursor.fetchone()[0]\n",
    "\n",
    "    if count == 0:\n",
    "        # Insert the record if it doesn't exist\n",
    "        cursor.execute('INSERT INTO Job_Title (job_title_Id, job_title_name, company_Id, job_categorie_Id, location, job_type_Id, level_Id, mnm_salary_usd, salary_star_Id, requirment_Id, faciilities) VALUES (?, ?, ?, ?, ?, ?, ?, ?, ?, ?, ?)',\n",
    "                       (row.job_title_Id, row.Job_Title, row.company_Id, row.job_categorie_Id, row.Location, row.job_type_Id, row.level_Id, row.MNM_Salary_USD, row.Salary_Star, row.requirment_Id, row.Facilities))\n",
    "\n",
    "connection.commit()"
   ]
  },
  {
   "cell_type": "code",
   "execution_count": 46,
   "id": "9dc56ec7",
   "metadata": {},
   "outputs": [],
   "source": [
    "# Insert data into the JobTitle_Requirment table\n",
    "for row in JobTitle_Requirment.itertuples():\n",
    "    # Check if the requirment_Id and job_title_Id combination already exists in the table\n",
    "    cursor.execute('SELECT COUNT(*) FROM JobTitle_Requirment WHERE requirment_Id = ? AND job_title_Id = ?', (row.requirment_Id, row.job_title_Id))\n",
    "    count = cursor.fetchone()[0]\n",
    "\n",
    "    if count == 0:\n",
    "        # Insert the record if it doesn't exist\n",
    "        cursor.execute('INSERT INTO JobTitle_Requirment (requirment_Id, job_title_Id) VALUES (?, ?)', (row.requirment_Id, row.job_title_Id))\n",
    "\n",
    "connection.commit()"
   ]
  },
  {
   "cell_type": "code",
   "execution_count": 83,
   "id": "c87e4397",
   "metadata": {},
   "outputs": [],
   "source": [
    "cursor.close()\n",
    "connection.close()"
   ]
  },
  {
   "cell_type": "code",
   "execution_count": null,
   "id": "d9ab7223",
   "metadata": {},
   "outputs": [],
   "source": []
  }
 ],
 "metadata": {
  "kernelspec": {
   "display_name": "Python 3 (ipykernel)",
   "language": "python",
   "name": "python3"
  },
  "language_info": {
   "codemirror_mode": {
    "name": "ipython",
    "version": 3
   },
   "file_extension": ".py",
   "mimetype": "text/x-python",
   "name": "python",
   "nbconvert_exporter": "python",
   "pygments_lexer": "ipython3",
   "version": "3.11.3"
  },
  "vp": {
   "vp_config_version": "1.0.0",
   "vp_menu_width": 273,
   "vp_note_display": false,
   "vp_note_width": 0,
   "vp_position": {
    "width": 278
   },
   "vp_section_display": false,
   "vp_signature": "VisualPython"
  }
 },
 "nbformat": 4,
 "nbformat_minor": 5
}
